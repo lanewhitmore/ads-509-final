{
 "cells": [
  {
   "cell_type": "code",
   "execution_count": 1,
   "metadata": {
    "ExecuteTime": {
     "end_time": "2023-06-22T05:52:55.913720800Z",
     "start_time": "2023-06-22T05:52:48.887812200Z"
    },
    "collapsed": true
   },
   "outputs": [],
   "source": [
    "import os\n",
    "import pandas as pd\n",
    "import numpy as np\n",
    "import seaborn as sns\n",
    "import functions.token_functions as tf\n",
    "import spacy\n",
    "import pickle\n",
    "from sklearn.model_selection import train_test_split\n",
    "from sklearn.feature_extraction.text import TfidfVectorizer, CountVectorizer\n",
    "from sklearn.decomposition import NMF, TruncatedSVD, LatentDirichletAllocation\n",
    "from sklearn.utils import resample\n",
    "from sklearn.svm import LinearSVC\n",
    "from nltk.corpus import stopwords\n",
    "from collections import defaultdict\n",
    "import pyLDAvis\n",
    "import pyLDAvis.lda_model\n",
    "import pyLDAvis.gensim_models"
   ]
  },
  {
   "cell_type": "code",
   "execution_count": 2,
   "metadata": {
    "ExecuteTime": {
     "end_time": "2023-06-22T05:52:56.516911300Z",
     "start_time": "2023-06-22T05:52:55.913720800Z"
    },
    "collapsed": false
   },
   "outputs": [],
   "source": [
    "nlp = spacy.load('en_core_web_sm')\n",
    "sw = stopwords.words(\"english\")"
   ]
  },
  {
   "cell_type": "code",
   "execution_count": 3,
   "metadata": {
    "ExecuteTime": {
     "end_time": "2023-06-22T05:52:56.890387300Z",
     "start_time": "2023-06-22T05:52:56.518909100Z"
    },
    "collapsed": false
   },
   "outputs": [],
   "source": [
    "# Create an empty list to store the review dataframes\n",
    "df_list = []\n",
    "csv_files = os.listdir('../data/games',)\n",
    "\n",
    "# Iterate over each file in the folder\n",
    "for file in csv_files:\n",
    "    # Read the CSV file into a datadrame\n",
    "    df = pd.read_csv('../data/games/'+file, index_col=0)\n",
    "\n",
    "    # Append the dataframe to the list\n",
    "    df_list.append(df)\n",
    "\n",
    "# Combine the dataframes into a single dataframe\n",
    "games_df = pd.concat(df_list, ignore_index=True)\n"
   ]
  },
  {
   "cell_type": "code",
   "execution_count": 4,
   "metadata": {
    "ExecuteTime": {
     "end_time": "2023-06-22T05:52:58.038973100Z",
     "start_time": "2023-06-22T05:52:56.891886300Z"
    }
   },
   "outputs": [],
   "source": [
    "# Create an empty list to store the review dataframes\n",
    "df_list = []\n",
    "csv_files = os.listdir('../data/books',)\n",
    "\n",
    "# Iterate over each file in the folder\n",
    "for file in csv_files:\n",
    "    # Read the CSV file into a datadrame\n",
    "    df = pd.read_csv('../data/books/'+file, index_col=0)\n",
    "\n",
    "    # Append the dataframe to the list\n",
    "    df_list.append(df)\n",
    "\n",
    "# Combine the dataframes into a single dataframe\n",
    "books_df = pd.concat(df_list, ignore_index=True)"
   ]
  },
  {
   "cell_type": "code",
   "execution_count": 5,
   "metadata": {
    "ExecuteTime": {
     "end_time": "2023-06-22T05:52:58.503643600Z",
     "start_time": "2023-06-22T05:52:58.040473900Z"
    }
   },
   "outputs": [],
   "source": [
    "# Create an empty list to store the review dataframes\n",
    "df_list = []\n",
    "csv_files = os.listdir('../data/movies',)\n",
    "\n",
    "# Iterate over each file in the folder\n",
    "for file in csv_files:\n",
    "    # Read the CSV file into a datadrame\n",
    "    df = pd.read_csv('../data/movies/'+file, index_col=0)\n",
    "\n",
    "    # Append the dataframe to the list\n",
    "    df_list.append(df)\n",
    "\n",
    "# Combine the dataframes into a single dataframe\n",
    "movies_df = pd.concat(df_list, ignore_index=True)"
   ]
  },
  {
   "cell_type": "code",
   "execution_count": 6,
   "metadata": {
    "ExecuteTime": {
     "end_time": "2023-06-22T05:52:58.518656200Z",
     "start_time": "2023-06-22T05:52:58.507147100Z"
    }
   },
   "outputs": [],
   "source": [
    "movies_df.rename({'movie_title': 'title'}, axis = 1, inplace = True)\n",
    "books_df.rename({'movie_title': 'title'}, axis = 1, inplace = True)\n",
    "games_df.rename({'game_title': 'title'}, axis = 1, inplace = True)"
   ]
  },
  {
   "cell_type": "code",
   "execution_count": 7,
   "metadata": {},
   "outputs": [],
   "source": [
    "movies_df['media'] = 'movie'\n",
    "books_df['media'] = 'book'\n",
    "games_df['media'] = 'game'"
   ]
  },
  {
   "cell_type": "code",
   "execution_count": 8,
   "metadata": {
    "ExecuteTime": {
     "end_time": "2023-06-22T05:52:58.555797500Z",
     "start_time": "2023-06-22T05:52:58.519156200Z"
    }
   },
   "outputs": [
    {
     "data": {
      "text/html": [
       "<div>\n",
       "<style scoped>\n",
       "    .dataframe tbody tr th:only-of-type {\n",
       "        vertical-align: middle;\n",
       "    }\n",
       "\n",
       "    .dataframe tbody tr th {\n",
       "        vertical-align: top;\n",
       "    }\n",
       "\n",
       "    .dataframe thead th {\n",
       "        text-align: right;\n",
       "    }\n",
       "</style>\n",
       "<table border=\"1\" class=\"dataframe\">\n",
       "  <thead>\n",
       "    <tr style=\"text-align: right;\">\n",
       "      <th></th>\n",
       "      <th>name</th>\n",
       "      <th>title</th>\n",
       "      <th>review_title</th>\n",
       "      <th>review</th>\n",
       "      <th>rating</th>\n",
       "      <th>date_place</th>\n",
       "      <th>media</th>\n",
       "    </tr>\n",
       "  </thead>\n",
       "  <tbody>\n",
       "    <tr>\n",
       "      <th>0</th>\n",
       "      <td>Not bad at all</td>\n",
       "      <td>2 Fast 2 Furious</td>\n",
       "      <td>Love this movie</td>\n",
       "      <td>Truly one of my faves. It’s a must watch if yo...</td>\n",
       "      <td>5.0</td>\n",
       "      <td>Reviewed in the United States 🇺🇸 on May 11, 2023</td>\n",
       "      <td>movie</td>\n",
       "    </tr>\n",
       "    <tr>\n",
       "      <th>1</th>\n",
       "      <td>Coleman</td>\n",
       "      <td>2 Fast 2 Furious</td>\n",
       "      <td>Fast n furious</td>\n",
       "      <td>I LOVE ALL THEIR MOVIES LOL</td>\n",
       "      <td>5.0</td>\n",
       "      <td>Reviewed in the United States 🇺🇸 on May 16, 2023</td>\n",
       "      <td>movie</td>\n",
       "    </tr>\n",
       "    <tr>\n",
       "      <th>2</th>\n",
       "      <td>Jack Pocock</td>\n",
       "      <td>2 Fast 2 Furious</td>\n",
       "      <td>American Masterpiece</td>\n",
       "      <td>If you didn't enjoy this movie--- you're wrong...</td>\n",
       "      <td>5.0</td>\n",
       "      <td>Reviewed in the United States 🇺🇸 on April 28, ...</td>\n",
       "      <td>movie</td>\n",
       "    </tr>\n",
       "    <tr>\n",
       "      <th>3</th>\n",
       "      <td>Tina</td>\n",
       "      <td>2 Fast 2 Furious</td>\n",
       "      <td>Satisfied</td>\n",
       "      <td>Kids love these movies</td>\n",
       "      <td>5.0</td>\n",
       "      <td>Reviewed in the United States 🇺🇸 on April 25, ...</td>\n",
       "      <td>movie</td>\n",
       "    </tr>\n",
       "    <tr>\n",
       "      <th>4</th>\n",
       "      <td>N.Maletich</td>\n",
       "      <td>2 Fast 2 Furious</td>\n",
       "      <td>Classic</td>\n",
       "      <td>Will always live in my heart forever and be on...</td>\n",
       "      <td>5.0</td>\n",
       "      <td>Reviewed in the United States 🇺🇸 on March 22, ...</td>\n",
       "      <td>movie</td>\n",
       "    </tr>\n",
       "  </tbody>\n",
       "</table>\n",
       "</div>"
      ],
      "text/plain": [
       "             name             title          review_title  \\\n",
       "0  Not bad at all  2 Fast 2 Furious       Love this movie   \n",
       "1         Coleman  2 Fast 2 Furious        Fast n furious   \n",
       "2     Jack Pocock  2 Fast 2 Furious  American Masterpiece   \n",
       "3            Tina  2 Fast 2 Furious             Satisfied   \n",
       "4      N.Maletich  2 Fast 2 Furious               Classic   \n",
       "\n",
       "                                              review  rating  \\\n",
       "0  Truly one of my faves. It’s a must watch if yo...     5.0   \n",
       "1                        I LOVE ALL THEIR MOVIES LOL     5.0   \n",
       "2  If you didn't enjoy this movie--- you're wrong...     5.0   \n",
       "3                             Kids love these movies     5.0   \n",
       "4  Will always live in my heart forever and be on...     5.0   \n",
       "\n",
       "                                          date_place  media  \n",
       "0   Reviewed in the United States 🇺🇸 on May 11, 2023  movie  \n",
       "1   Reviewed in the United States 🇺🇸 on May 16, 2023  movie  \n",
       "2  Reviewed in the United States 🇺🇸 on April 28, ...  movie  \n",
       "3  Reviewed in the United States 🇺🇸 on April 25, ...  movie  \n",
       "4  Reviewed in the United States 🇺🇸 on March 22, ...  movie  "
      ]
     },
     "execution_count": 8,
     "metadata": {},
     "output_type": "execute_result"
    }
   ],
   "source": [
    "all_df = pd.concat([movies_df, books_df, games_df], axis = 0)\n",
    "all_df.head()"
   ]
  },
  {
   "cell_type": "code",
   "execution_count": 9,
   "metadata": {
    "ExecuteTime": {
     "end_time": "2023-06-22T06:02:36.896116700Z",
     "start_time": "2023-06-22T05:52:58.551774600Z"
    },
    "collapsed": false
   },
   "outputs": [],
   "source": [
    "# drop values\n",
    "all_df = all_df.dropna()\n",
    "\n",
    "# drop non english reviews\n",
    "all_df['lang'] = all_df['review'].apply(tf.detect_language)\n",
    "\n",
    "all_df = all_df.query('lang == \"en\"')\n"
   ]
  },
  {
   "cell_type": "code",
   "execution_count": 10,
   "metadata": {
    "ExecuteTime": {
     "end_time": "2023-06-22T06:02:48.215338400Z",
     "start_time": "2023-06-22T06:02:36.898629300Z"
    },
    "collapsed": false
   },
   "outputs": [],
   "source": [
    "all_df['review_tokens'] = all_df['review'].apply(tf.clean_tokenize)\n",
    "all_df['review_title_tokens'] = all_df['review_title'].apply(tf.clean_tokenize)"
   ]
  },
  {
   "cell_type": "code",
   "execution_count": 11,
   "metadata": {
    "ExecuteTime": {
     "end_time": "2023-06-22T06:02:48.262570600Z",
     "start_time": "2023-06-22T06:02:48.215838200Z"
    },
    "collapsed": false
   },
   "outputs": [
    {
     "data": {
      "text/plain": [
       "rating\n",
       "1.0     6475\n",
       "2.0     3899\n",
       "3.0     6465\n",
       "4.0    12783\n",
       "5.0    91520\n",
       "Name: review, dtype: int64"
      ]
     },
     "execution_count": 11,
     "metadata": {},
     "output_type": "execute_result"
    }
   ],
   "source": [
    "all_df.groupby(['rating'])['review'].count()"
   ]
  },
  {
   "cell_type": "code",
   "execution_count": 12,
   "metadata": {},
   "outputs": [
    {
     "data": {
      "text/plain": [
       "media\n",
       "book     100083\n",
       "game       1286\n",
       "movie     19773\n",
       "Name: review, dtype: int64"
      ]
     },
     "execution_count": 12,
     "metadata": {},
     "output_type": "execute_result"
    }
   ],
   "source": [
    "all_df.groupby(['media'])['review'].count()"
   ]
  },
  {
   "cell_type": "code",
   "execution_count": 13,
   "metadata": {
    "ExecuteTime": {
     "end_time": "2023-06-22T06:02:48.262570600Z",
     "start_time": "2023-06-22T06:02:48.246042500Z"
    },
    "collapsed": false
   },
   "outputs": [],
   "source": [
    "all_df['sentiment'] = 0\n",
    "all_df.loc[all_df['rating']>3, 'sentiment'] = 1\n",
    "all_df.loc[all_df['rating']<=3, 'sentiment'] = 0"
   ]
  },
  {
   "cell_type": "code",
   "execution_count": 14,
   "metadata": {
    "ExecuteTime": {
     "end_time": "2023-06-22T06:02:48.386146300Z",
     "start_time": "2023-06-22T06:02:48.263577700Z"
    },
    "collapsed": false
   },
   "outputs": [
    {
     "data": {
      "text/plain": [
       "<AxesSubplot:xlabel='sentiment', ylabel='count'>"
      ]
     },
     "execution_count": 14,
     "metadata": {},
     "output_type": "execute_result"
    },
    {
     "data": {
      "image/png": "[encoded data removed]",
      "text/plain": [
       "<Figure size 640x480 with 1 Axes>"
      ]
     },
     "metadata": {},
     "output_type": "display_data"
    }
   ],
   "source": [
    "sns.countplot(x=all_df['sentiment'])"
   ]
  },
  {
   "attachments": {},
   "cell_type": "markdown",
   "metadata": {
    "collapsed": false
   },
   "source": [
    "## Split Data"
   ]
  },
  {
   "cell_type": "code",
   "execution_count": 15,
   "metadata": {
    "ExecuteTime": {
     "end_time": "2023-06-22T06:02:48.431709400Z",
     "start_time": "2023-06-22T06:02:48.387663500Z"
    },
    "collapsed": false
   },
   "outputs": [],
   "source": [
    "X_train, X_test, y_train, y_test = train_test_split(all_df['review'], all_df['sentiment'], test_size=0.20, random_state=10, stratify=all_df['sentiment'])"
   ]
  },
  {
   "cell_type": "code",
   "execution_count": 16,
   "metadata": {
    "ExecuteTime": {
     "end_time": "2023-06-22T06:02:48.492471600Z",
     "start_time": "2023-06-22T06:02:48.433211Z"
    },
    "collapsed": false
   },
   "outputs": [
    {
     "name": "stdout",
     "output_type": "stream",
     "text": [
      "Size of Training Data  96913\n",
      "Size of Test Data  24229\n",
      "Distribution of classes in Training Data :\n",
      "Positive Sentiment  86.099904037642\n",
      "Negative Sentiment  13.900095962357991\n",
      "Distribution of classes in Testing Data :\n",
      "Positive Sentiment  86.09930248875315\n",
      "Negative Sentiment  13.900697511246854\n"
     ]
    }
   ],
   "source": [
    "tf.sentiment_stats(X_train, X_test, y_train, y_test)"
   ]
  },
  {
   "attachments": {},
   "cell_type": "markdown",
   "metadata": {
    "collapsed": false
   },
   "source": [
    "## Vectorize Data"
   ]
  },
  {
   "cell_type": "code",
   "execution_count": 17,
   "metadata": {},
   "outputs": [
    {
     "data": {
      "text/html": [
       "<div>\n",
       "<style scoped>\n",
       "    .dataframe tbody tr th:only-of-type {\n",
       "        vertical-align: middle;\n",
       "    }\n",
       "\n",
       "    .dataframe tbody tr th {\n",
       "        vertical-align: top;\n",
       "    }\n",
       "\n",
       "    .dataframe thead th {\n",
       "        text-align: right;\n",
       "    }\n",
       "</style>\n",
       "<table border=\"1\" class=\"dataframe\">\n",
       "  <thead>\n",
       "    <tr style=\"text-align: right;\">\n",
       "      <th></th>\n",
       "      <th>name</th>\n",
       "      <th>title</th>\n",
       "      <th>review_title</th>\n",
       "      <th>review</th>\n",
       "      <th>rating</th>\n",
       "      <th>date_place</th>\n",
       "      <th>media</th>\n",
       "      <th>lang</th>\n",
       "      <th>review_tokens</th>\n",
       "      <th>review_title_tokens</th>\n",
       "      <th>sentiment</th>\n",
       "    </tr>\n",
       "  </thead>\n",
       "  <tbody>\n",
       "    <tr>\n",
       "      <th>0</th>\n",
       "      <td>Not bad at all</td>\n",
       "      <td>2 Fast 2 Furious</td>\n",
       "      <td>Love this movie</td>\n",
       "      <td>Truly one of my faves. It’s a must watch if yo...</td>\n",
       "      <td>5.0</td>\n",
       "      <td>Reviewed in the United States 🇺🇸 on May 11, 2023</td>\n",
       "      <td>movie</td>\n",
       "      <td>en</td>\n",
       "      <td>[truly, one, faves, it’s, must, watch, you’re,...</td>\n",
       "      <td>[love, movie]</td>\n",
       "      <td>1</td>\n",
       "    </tr>\n",
       "    <tr>\n",
       "      <th>1</th>\n",
       "      <td>Coleman</td>\n",
       "      <td>2 Fast 2 Furious</td>\n",
       "      <td>Fast n furious</td>\n",
       "      <td>I LOVE ALL THEIR MOVIES LOL</td>\n",
       "      <td>5.0</td>\n",
       "      <td>Reviewed in the United States 🇺🇸 on May 16, 2023</td>\n",
       "      <td>movie</td>\n",
       "      <td>en</td>\n",
       "      <td>[love, movies, lol]</td>\n",
       "      <td>[fast, n, furious]</td>\n",
       "      <td>1</td>\n",
       "    </tr>\n",
       "    <tr>\n",
       "      <th>2</th>\n",
       "      <td>Jack Pocock</td>\n",
       "      <td>2 Fast 2 Furious</td>\n",
       "      <td>American Masterpiece</td>\n",
       "      <td>If you didn't enjoy this movie--- you're wrong...</td>\n",
       "      <td>5.0</td>\n",
       "      <td>Reviewed in the United States 🇺🇸 on April 28, ...</td>\n",
       "      <td>movie</td>\n",
       "      <td>en</td>\n",
       "      <td>[didnt, enjoy, movie, youre, wrong, fun, parties]</td>\n",
       "      <td>[american, masterpiece]</td>\n",
       "      <td>1</td>\n",
       "    </tr>\n",
       "    <tr>\n",
       "      <th>3</th>\n",
       "      <td>Tina</td>\n",
       "      <td>2 Fast 2 Furious</td>\n",
       "      <td>Satisfied</td>\n",
       "      <td>Kids love these movies</td>\n",
       "      <td>5.0</td>\n",
       "      <td>Reviewed in the United States 🇺🇸 on April 25, ...</td>\n",
       "      <td>movie</td>\n",
       "      <td>en</td>\n",
       "      <td>[kids, love, movies]</td>\n",
       "      <td>[satisfied]</td>\n",
       "      <td>1</td>\n",
       "    </tr>\n",
       "    <tr>\n",
       "      <th>4</th>\n",
       "      <td>N.Maletich</td>\n",
       "      <td>2 Fast 2 Furious</td>\n",
       "      <td>Classic</td>\n",
       "      <td>Will always live in my heart forever and be on...</td>\n",
       "      <td>5.0</td>\n",
       "      <td>Reviewed in the United States 🇺🇸 on March 22, ...</td>\n",
       "      <td>movie</td>\n",
       "      <td>en</td>\n",
       "      <td>[always, live, heart, forever, one, best, ones...</td>\n",
       "      <td>[classic]</td>\n",
       "      <td>1</td>\n",
       "    </tr>\n",
       "  </tbody>\n",
       "</table>\n",
       "</div>"
      ],
      "text/plain": [
       "             name             title          review_title  \\\n",
       "0  Not bad at all  2 Fast 2 Furious       Love this movie   \n",
       "1         Coleman  2 Fast 2 Furious        Fast n furious   \n",
       "2     Jack Pocock  2 Fast 2 Furious  American Masterpiece   \n",
       "3            Tina  2 Fast 2 Furious             Satisfied   \n",
       "4      N.Maletich  2 Fast 2 Furious               Classic   \n",
       "\n",
       "                                              review  rating  \\\n",
       "0  Truly one of my faves. It’s a must watch if yo...     5.0   \n",
       "1                        I LOVE ALL THEIR MOVIES LOL     5.0   \n",
       "2  If you didn't enjoy this movie--- you're wrong...     5.0   \n",
       "3                             Kids love these movies     5.0   \n",
       "4  Will always live in my heart forever and be on...     5.0   \n",
       "\n",
       "                                          date_place  media lang  \\\n",
       "0   Reviewed in the United States 🇺🇸 on May 11, 2023  movie   en   \n",
       "1   Reviewed in the United States 🇺🇸 on May 16, 2023  movie   en   \n",
       "2  Reviewed in the United States 🇺🇸 on April 28, ...  movie   en   \n",
       "3  Reviewed in the United States 🇺🇸 on April 25, ...  movie   en   \n",
       "4  Reviewed in the United States 🇺🇸 on March 22, ...  movie   en   \n",
       "\n",
       "                                       review_tokens      review_title_tokens  \\\n",
       "0  [truly, one, faves, it’s, must, watch, you’re,...            [love, movie]   \n",
       "1                                [love, movies, lol]       [fast, n, furious]   \n",
       "2  [didnt, enjoy, movie, youre, wrong, fun, parties]  [american, masterpiece]   \n",
       "3                               [kids, love, movies]              [satisfied]   \n",
       "4  [always, live, heart, forever, one, best, ones...                [classic]   \n",
       "\n",
       "   sentiment  \n",
       "0          1  \n",
       "1          1  \n",
       "2          1  \n",
       "3          1  \n",
       "4          1  "
      ]
     },
     "execution_count": 17,
     "metadata": {},
     "output_type": "execute_result"
    }
   ],
   "source": [
    "all_df.head()"
   ]
  },
  {
   "cell_type": "code",
   "execution_count": 75,
   "metadata": {},
   "outputs": [
    {
     "name": "stdout",
     "output_type": "stream",
     "text": [
      "104303\n",
      "16839\n"
     ]
    }
   ],
   "source": [
    "# balancing the dataset via downsampling\n",
    "print(len(all_df[all_df['sentiment']==1]))\n",
    "print(len(all_df[all_df['sentiment']==0]))\n",
    "all_neg = all_df[all_df['sentiment']==0]\n",
    "all_pos = all_df[all_df['sentiment']==1]\n",
    "\n",
    "downsampled = resample(all_pos, replace=True, n_samples = 16839, random_state = 33)\n",
    "final_df = pd.concat([all_neg, downsampled])"
   ]
  },
  {
   "cell_type": "code",
   "execution_count": 58,
   "metadata": {
    "ExecuteTime": {
     "end_time": "2023-06-22T06:02:55.118120900Z",
     "start_time": "2023-06-22T06:02:48.464789100Z"
    }
   },
   "outputs": [],
   "source": [
    "# vectorizing the review data for topic modelling\n",
    "count = CountVectorizer(min_df = 10, ngram_range=(1,1), stop_words=sw)\n",
    "X_count_vectors = count.fit_transform(final_df['review'])\n",
    "\n",
    "idf = TfidfVectorizer(min_df = 10, ngram_range=(1,1), stop_words=sw)\n",
    "X_tfidf_vectors = idf.fit_transform(final_df['review'])"
   ]
  },
  {
   "cell_type": "code",
   "execution_count": 22,
   "metadata": {
    "ExecuteTime": {
     "end_time": "2023-06-22T06:02:58.522945100Z",
     "start_time": "2023-06-22T06:02:55.119122300Z"
    },
    "collapsed": false
   },
   "outputs": [],
   "source": [
    "tfidf = TfidfVectorizer(min_df = 10, ngram_range=(1,1), stop_words=sw)\n",
    "X_train_tf = tfidf.fit_transform(X_train)\n",
    "X_test_tf = tfidf.transform(X_test)"
   ]
  },
  {
   "attachments": {},
   "cell_type": "markdown",
   "metadata": {
    "collapsed": false
   },
   "source": [
    "## Train Sentiment Model"
   ]
  },
  {
   "cell_type": "code",
   "execution_count": 23,
   "metadata": {
    "ExecuteTime": {
     "end_time": "2023-06-22T06:02:59.151696700Z",
     "start_time": "2023-06-22T06:02:58.524181700Z"
    },
    "collapsed": false
   },
   "outputs": [
    {
     "data": {
      "text/html": [
       "<style>#sk-container-id-1 {color: black;background-color: white;}#sk-container-id-1 pre{padding: 0;}#sk-container-id-1 div.sk-toggleable {background-color: white;}#sk-container-id-1 label.sk-toggleable__label {cursor: pointer;display: block;width: 100%;margin-bottom: 0;padding: 0.3em;box-sizing: border-box;text-align: center;}#sk-container-id-1 label.sk-toggleable__label-arrow:before {content: \"▸\";float: left;margin-right: 0.25em;color: #696969;}#sk-container-id-1 label.sk-toggleable__label-arrow:hover:before {color: black;}#sk-container-id-1 div.sk-estimator:hover label.sk-toggleable__label-arrow:before {color: black;}#sk-container-id-1 div.sk-toggleable__content {max-height: 0;max-width: 0;overflow: hidden;text-align: left;background-color: #f0f8ff;}#sk-container-id-1 div.sk-toggleable__content pre {margin: 0.2em;color: black;border-radius: 0.25em;background-color: #f0f8ff;}#sk-container-id-1 input.sk-toggleable__control:checked~div.sk-toggleable__content {max-height: 200px;max-width: 100%;overflow: auto;}#sk-container-id-1 input.sk-toggleable__control:checked~label.sk-toggleable__label-arrow:before {content: \"▾\";}#sk-container-id-1 div.sk-estimator input.sk-toggleable__control:checked~label.sk-toggleable__label {background-color: #d4ebff;}#sk-container-id-1 div.sk-label input.sk-toggleable__control:checked~label.sk-toggleable__label {background-color: #d4ebff;}#sk-container-id-1 input.sk-hidden--visually {border: 0;clip: rect(1px 1px 1px 1px);clip: rect(1px, 1px, 1px, 1px);height: 1px;margin: -1px;overflow: hidden;padding: 0;position: absolute;width: 1px;}#sk-container-id-1 div.sk-estimator {font-family: monospace;background-color: #f0f8ff;border: 1px dotted black;border-radius: 0.25em;box-sizing: border-box;margin-bottom: 0.5em;}#sk-container-id-1 div.sk-estimator:hover {background-color: #d4ebff;}#sk-container-id-1 div.sk-parallel-item::after {content: \"\";width: 100%;border-bottom: 1px solid gray;flex-grow: 1;}#sk-container-id-1 div.sk-label:hover label.sk-toggleable__label {background-color: #d4ebff;}#sk-container-id-1 div.sk-serial::before {content: \"\";position: absolute;border-left: 1px solid gray;box-sizing: border-box;top: 0;bottom: 0;left: 50%;z-index: 0;}#sk-container-id-1 div.sk-serial {display: flex;flex-direction: column;align-items: center;background-color: white;padding-right: 0.2em;padding-left: 0.2em;position: relative;}#sk-container-id-1 div.sk-item {position: relative;z-index: 1;}#sk-container-id-1 div.sk-parallel {display: flex;align-items: stretch;justify-content: center;background-color: white;position: relative;}#sk-container-id-1 div.sk-item::before, #sk-container-id-1 div.sk-parallel-item::before {content: \"\";position: absolute;border-left: 1px solid gray;box-sizing: border-box;top: 0;bottom: 0;left: 50%;z-index: -1;}#sk-container-id-1 div.sk-parallel-item {display: flex;flex-direction: column;z-index: 1;position: relative;background-color: white;}#sk-container-id-1 div.sk-parallel-item:first-child::after {align-self: flex-end;width: 50%;}#sk-container-id-1 div.sk-parallel-item:last-child::after {align-self: flex-start;width: 50%;}#sk-container-id-1 div.sk-parallel-item:only-child::after {width: 0;}#sk-container-id-1 div.sk-dashed-wrapped {border: 1px dashed gray;margin: 0 0.4em 0.5em 0.4em;box-sizing: border-box;padding-bottom: 0.4em;background-color: white;}#sk-container-id-1 div.sk-label label {font-family: monospace;font-weight: bold;display: inline-block;line-height: 1.2em;}#sk-container-id-1 div.sk-label-container {text-align: center;}#sk-container-id-1 div.sk-container {/* jupyter's `normalize.less` sets `[hidden] { display: none; }` but bootstrap.min.css set `[hidden] { display: none !important; }` so we also need the `!important` here to be able to override the default hidden behavior on the sphinx rendered scikit-learn.org. See: https://github.com/scikit-learn/scikit-learn/issues/21755 */display: inline-block !important;position: relative;}#sk-container-id-1 div.sk-text-repr-fallback {display: none;}</style><div id=\"sk-container-id-1\" class=\"sk-top-container\"><div class=\"sk-text-repr-fallback\"><pre>LinearSVC(random_state=10, tol=1e-05)</pre><b>In a Jupyter environment, please rerun this cell to show the HTML representation or trust the notebook. <br />On GitHub, the HTML representation is unable to render, please try loading this page with nbviewer.org.</b></div><div class=\"sk-container\" hidden><div class=\"sk-item\"><div class=\"sk-estimator sk-toggleable\"><input class=\"sk-toggleable__control sk-hidden--visually\" id=\"sk-estimator-id-1\" type=\"checkbox\" checked><label for=\"sk-estimator-id-1\" class=\"sk-toggleable__label sk-toggleable__label-arrow\">LinearSVC</label><div class=\"sk-toggleable__content\"><pre>LinearSVC(random_state=10, tol=1e-05)</pre></div></div></div></div></div>"
      ],
      "text/plain": [
       "LinearSVC(random_state=10, tol=1e-05)"
      ]
     },
     "execution_count": 23,
     "metadata": {},
     "output_type": "execute_result"
    }
   ],
   "source": [
    "svc_model = LinearSVC(random_state=10, tol=1e-5)\n",
    "svc_model.fit(X_train_tf, y_train)"
   ]
  },
  {
   "cell_type": "code",
   "execution_count": 24,
   "metadata": {
    "ExecuteTime": {
     "end_time": "2023-06-22T06:02:59.189259300Z",
     "start_time": "2023-06-22T06:02:59.146180200Z"
    },
    "collapsed": false
   },
   "outputs": [
    {
     "name": "stdout",
     "output_type": "stream",
     "text": [
      "Accuracy Score -  0.9235213999752363\n",
      "ROC-AUC Score -  0.7961179975794994\n"
     ]
    }
   ],
   "source": [
    "from sklearn.metrics import accuracy_score\n",
    "from sklearn.metrics import roc_auc_score\n",
    "y_pred = svc_model.predict(X_test_tf)\n",
    "print ('Accuracy Score - ', accuracy_score(y_test, y_pred))\n",
    "print ('ROC-AUC Score - ', roc_auc_score(y_test, y_pred))"
   ]
  },
  {
   "attachments": {},
   "cell_type": "markdown",
   "metadata": {
    "collapsed": false
   },
   "source": [
    "## Sample Predictions"
   ]
  },
  {
   "cell_type": "code",
   "execution_count": 25,
   "metadata": {
    "ExecuteTime": {
     "end_time": "2023-06-22T06:02:59.201775800Z",
     "start_time": "2023-06-22T06:02:59.162212600Z"
    },
    "collapsed": false
   },
   "outputs": [
    {
     "name": "stdout",
     "output_type": "stream",
     "text": [
      "Some sample reviews with their sentiment - \n"
     ]
    },
    {
     "data": {
      "text/html": [
       "<div>\n",
       "<style scoped>\n",
       "    .dataframe tbody tr th:only-of-type {\n",
       "        vertical-align: middle;\n",
       "    }\n",
       "\n",
       "    .dataframe tbody tr th {\n",
       "        vertical-align: top;\n",
       "    }\n",
       "\n",
       "    .dataframe thead th {\n",
       "        text-align: right;\n",
       "    }\n",
       "</style>\n",
       "<table border=\"1\" class=\"dataframe\">\n",
       "  <thead>\n",
       "    <tr style=\"text-align: right;\">\n",
       "      <th></th>\n",
       "      <th>review</th>\n",
       "      <th>sentiment_prediction</th>\n",
       "    </tr>\n",
       "  </thead>\n",
       "  <tbody>\n",
       "    <tr>\n",
       "      <th>672</th>\n",
       "      <td>Not new.</td>\n",
       "      <td>1</td>\n",
       "    </tr>\n",
       "    <tr>\n",
       "      <th>193</th>\n",
       "      <td>Pinnacle of gaming.</td>\n",
       "      <td>0</td>\n",
       "    </tr>\n",
       "    <tr>\n",
       "      <th>1354</th>\n",
       "      <td>El video juego me llego en perfectas condicion...</td>\n",
       "      <td>1</td>\n",
       "    </tr>\n",
       "    <tr>\n",
       "      <th>743</th>\n",
       "      <td>Crashes every 10 mins.. unplayable on xbox ser...</td>\n",
       "      <td>0</td>\n",
       "    </tr>\n",
       "    <tr>\n",
       "      <th>468</th>\n",
       "      <td>Tell me you don't give a fudge about your play...</td>\n",
       "      <td>1</td>\n",
       "    </tr>\n",
       "  </tbody>\n",
       "</table>\n",
       "</div>"
      ],
      "text/plain": [
       "                                                 review  sentiment_prediction\n",
       "672                                            Not new.                     1\n",
       "193                                 Pinnacle of gaming.                     0\n",
       "1354  El video juego me llego en perfectas condicion...                     1\n",
       "743   Crashes every 10 mins.. unplayable on xbox ser...                     0\n",
       "468   Tell me you don't give a fudge about your play...                     1"
      ]
     },
     "execution_count": 25,
     "metadata": {},
     "output_type": "execute_result"
    }
   ],
   "source": [
    "sample_reviews = games_df.sample(5)\n",
    "sample_reviews_tf = tfidf.transform(sample_reviews['review'])\n",
    "sentiment_predictions = svc_model.predict(sample_reviews_tf)\n",
    "sentiment_predictions = pd.DataFrame(data = sentiment_predictions,\n",
    "                                     index=sample_reviews.index,\n",
    "                                     columns=['sentiment_prediction'])\n",
    "sample_reviews = pd.concat([sample_reviews, sentiment_predictions], axis=1)\n",
    "print ('Some sample reviews with their sentiment - ')\n",
    "sample_reviews[['review','sentiment_prediction']]"
   ]
  },
  {
   "attachments": {},
   "cell_type": "markdown",
   "metadata": {},
   "source": [
    "## Topic Modeling"
   ]
  },
  {
   "cell_type": "code",
   "execution_count": 26,
   "metadata": {
    "ExecuteTime": {
     "end_time": "2023-06-22T06:02:59.210797100Z",
     "start_time": "2023-06-22T06:02:59.193259200Z"
    }
   },
   "outputs": [],
   "source": [
    "def display_topics(model, features, no_top_words=5):\n",
    "    for topic, words in enumerate(model.components_):\n",
    "        total = words.sum()\n",
    "        largest = words.argsort()[::-1] # invert sort order\n",
    "        print(\"\\nTopic %02d\" % topic)\n",
    "        for i in range(0, no_top_words):\n",
    "            print(\"  %s (%2.2f)\" % (features[largest[i]], abs(words[largest[i]]*100.0/total)))"
   ]
  },
  {
   "cell_type": "code",
   "execution_count": 27,
   "metadata": {
    "ExecuteTime": {
     "end_time": "2023-06-22T06:02:59.251357700Z",
     "start_time": "2023-06-22T06:02:59.208795100Z"
    }
   },
   "outputs": [],
   "source": [
    "def topic_to_category(matrix, df):\n",
    "    topic_to_category = defaultdict(list)\n",
    "    for idx, row in enumerate(matrix) :\n",
    "        topic = np.where(row == np.amax(row))[0]\n",
    "        category = df[\"sentiment\"].iloc[idx]\n",
    "        sentiment = []\n",
    "        if category == 1:\n",
    "            sentiment.append(\"Positive\")\n",
    "        else:\n",
    "            sentiment.append(\"Negative\")\n",
    "        topic_to_category[topic[0]].append(sentiment)  \n",
    "    return topic_to_category"
   ]
  },
  {
   "attachments": {},
   "cell_type": "markdown",
   "metadata": {},
   "source": [
    "### NMF"
   ]
  },
  {
   "cell_type": "code",
   "execution_count": 78,
   "metadata": {
    "ExecuteTime": {
     "end_time": "2023-06-22T06:03:00.539664500Z",
     "start_time": "2023-06-22T06:02:59.223808400Z"
    }
   },
   "outputs": [],
   "source": [
    "nmf_text_model = NMF(n_components=2, random_state=33)\n",
    "nmf_text_matrix = nmf_text_model.fit_transform(X_tfidf_vectors)\n",
    "c_text_matrix = nmf_text_model.components_"
   ]
  },
  {
   "cell_type": "code",
   "execution_count": 79,
   "metadata": {
    "ExecuteTime": {
     "end_time": "2023-06-22T06:03:00.548681300Z",
     "start_time": "2023-06-22T06:03:00.527153600Z"
    }
   },
   "outputs": [
    {
     "name": "stdout",
     "output_type": "stream",
     "text": [
      "\n",
      "Topic 00\n",
      "  book (3.86)\n",
      "  movie (3.13)\n",
      "  great (1.92)\n",
      "  read (1.85)\n",
      "  love (1.72)\n",
      "  good (1.32)\n",
      "  loved (1.27)\n",
      "  one (0.95)\n",
      "  story (0.94)\n",
      "  really (0.92)\n",
      "\n",
      "Topic 01\n",
      "  game (5.28)\n",
      "  play (1.33)\n",
      "  xbox (1.24)\n",
      "  like (1.04)\n",
      "  one (0.94)\n",
      "  get (0.87)\n",
      "  halo (0.84)\n",
      "  fun (0.80)\n",
      "  games (0.77)\n",
      "  time (0.67)\n"
     ]
    }
   ],
   "source": [
    "display_topics(nmf_text_model, idf.get_feature_names_out(), 10)"
   ]
  },
  {
   "attachments": {},
   "cell_type": "markdown",
   "metadata": {},
   "source": [
    "### SVD"
   ]
  },
  {
   "cell_type": "code",
   "execution_count": 76,
   "metadata": {
    "ExecuteTime": {
     "end_time": "2023-06-22T06:03:01.008383600Z",
     "start_time": "2023-06-22T06:03:00.542664600Z"
    }
   },
   "outputs": [],
   "source": [
    "svd_text_model = TruncatedSVD(n_components=2, random_state=33)\n",
    "svd_text_matrix = svd_text_model.fit_transform(X_tfidf_vectors)\n",
    "csvd_text_matrix = svd_text_model.components_"
   ]
  },
  {
   "cell_type": "code",
   "execution_count": 77,
   "metadata": {
    "ExecuteTime": {
     "end_time": "2023-06-22T06:03:01.022900600Z",
     "start_time": "2023-06-22T06:03:01.008890800Z"
    }
   },
   "outputs": [
    {
     "name": "stdout",
     "output_type": "stream",
     "text": [
      "\n",
      "Topic 00\n",
      "  game (2.17)\n",
      "  book (1.75)\n",
      "  movie (1.46)\n",
      "  great (1.08)\n",
      "  one (0.98)\n",
      "  good (0.97)\n",
      "  love (0.96)\n",
      "  like (0.94)\n",
      "  read (0.89)\n",
      "  story (0.72)\n",
      "\n",
      "Topic 01\n",
      "  game (38.18)\n",
      "  play (9.19)\n",
      "  xbox (8.75)\n",
      "  halo (5.27)\n",
      "  games (4.85)\n",
      "  work (4.04)\n",
      "  playing (3.94)\n",
      "  series (3.85)\n",
      "  code (3.74)\n",
      "  fun (3.72)\n"
     ]
    }
   ],
   "source": [
    "display_topics(svd_text_model, idf.get_feature_names_out(), 10)"
   ]
  },
  {
   "attachments": {},
   "cell_type": "markdown",
   "metadata": {},
   "source": [
    "### LDA"
   ]
  },
  {
   "cell_type": "code",
   "execution_count": 70,
   "metadata": {
    "ExecuteTime": {
     "end_time": "2023-06-22T06:08:58.565762500Z",
     "start_time": "2023-06-22T06:03:01.024400600Z"
    }
   },
   "outputs": [],
   "source": [
    "lda_text_model = LatentDirichletAllocation(n_components=2, random_state=33)\n",
    "lda_text_model.fit(X_count_vectors)\n",
    "lda_text_matrix = lda_text_model.transform(X_count_vectors)\n",
    "clda_text_matrix = lda_text_model.components_"
   ]
  },
  {
   "cell_type": "code",
   "execution_count": 71,
   "metadata": {
    "ExecuteTime": {
     "end_time": "2023-06-22T06:08:58.580888Z",
     "start_time": "2023-06-22T06:08:58.566759600Z"
    }
   },
   "outputs": [
    {
     "name": "stdout",
     "output_type": "stream",
     "text": [
      "\n",
      "Topic 00\n",
      "  book (3.82)\n",
      "  movie (2.96)\n",
      "  read (1.66)\n",
      "  one (1.42)\n",
      "  story (1.41)\n",
      "  great (1.37)\n",
      "  good (1.34)\n",
      "  love (1.29)\n",
      "  like (1.17)\n",
      "  really (1.07)\n",
      "\n",
      "Topic 01\n",
      "  game (6.05)\n",
      "  like (1.41)\n",
      "  play (1.31)\n",
      "  get (1.24)\n",
      "  one (1.14)\n",
      "  halo (1.04)\n",
      "  xbox (1.00)\n",
      "  games (0.91)\n",
      "  time (0.83)\n",
      "  world (0.77)\n"
     ]
    }
   ],
   "source": [
    "display_topics(lda_text_model, count.get_feature_names_out(), 10)"
   ]
  },
  {
   "cell_type": "code",
   "execution_count": 65,
   "metadata": {
    "ExecuteTime": {
     "end_time": "2023-06-22T06:09:17.243911100Z",
     "start_time": "2023-06-22T06:08:58.581889200Z"
    }
   },
   "outputs": [],
   "source": [
    "lda_display = pyLDAvis.lda_model.prepare(lda_text_model, X_count_vectors, count, sort_topics=False)"
   ]
  },
  {
   "cell_type": "code",
   "execution_count": 66,
   "metadata": {
    "ExecuteTime": {
     "start_time": "2023-06-22T06:09:17.243911100Z"
    }
   },
   "outputs": [
    {
     "data": {
      "text/html": [
       "\n",
       "<link rel=\"stylesheet\" type=\"text/css\" href=\"https://cdn.jsdelivr.net/gh/bmabey/pyLDAvis@3.4.0/pyLDAvis/js/ldavis.v1.0.0.css\">\n",
       "\n",
       "\n",
       "<div id=\"ldavis_el2376427990285452327756438996\" style=\"background-color:white;\"></div>\n",
       "<script type=\"text/javascript\">\n",
       "\n",
       "var ldavis_el2376427990285452327756438996_data = {\"mdsDat\": {\"x\": [0.11828935243503193, -0.11828935243503193], \"y\": [0.0, 0.0], \"topics\": [1, 2], \"cluster\": [1, 1], \"Freq\": [45.52845565710395, 54.47154434289606]}, \"tinfo\": {\"Term\": [\"game\", \"book\", \"movie\", \"read\", \"play\", \"love\", \"halo\", \"xbox\", \"loved\", \"games\", \"watch\", \"playing\", \"books\", \"great\", \"open\", \"life\", \"film\", \"code\", \"story\", \"characters\", \"reading\", \"graphics\", \"enjoyed\", \"world\", \"played\", \"good\", \"family\", \"man\", \"gameplay\", \"watching\", \"book\", \"movie\", \"read\", \"loved\", \"watch\", \"books\", \"spider\", \"author\", \"film\", \"family\", \"movies\", \"watching\", \"written\", \"miles\", \"funny\", \"animation\", \"hoover\", \"pages\", \"man\", \"habits\", \"romance\", \"acting\", \"colleen\", \"humor\", \"twist\", \"novel\", \"twists\", \"predictable\", \"actors\", \"school\", \"action\", \"enjoyed\", \"loves\", \"love\", \"plot\", \"reading\", \"life\", \"favorite\", \"recommend\", \"character\", \"characters\", \"great\", \"story\", \"good\", \"really\", \"well\", \"think\", \"people\", \"one\", \"would\", \"like\", \"never\", \"much\", \"see\", \"first\", \"could\", \"time\", \"way\", \"better\", \"get\", \"game\", \"play\", \"halo\", \"xbox\", \"games\", \"open\", \"code\", \"gameplay\", \"sonic\", \"dead\", \"campaign\", \"played\", \"dance\", \"disc\", \"download\", \"digital\", \"graphics\", \"online\", \"player\", \"mode\", \"players\", \"install\", \"update\", \"souls\", \"ring\", \"problem\", \"multiplayer\", \"weapons\", \"pre\", \"saints\", \"playing\", \"release\", \"order\", \"world\", \"series\", \"buy\", \"version\", \"get\", \"hours\", \"work\", \"money\", \"new\", \"like\", \"fun\", \"even\", \"still\", \"time\", \"one\", \"first\", \"would\", \"story\", \"good\", \"much\", \"better\", \"great\"], \"Freq\": [1171.0, 618.0, 478.0, 269.0, 254.0, 224.0, 201.0, 194.0, 139.0, 175.0, 113.0, 120.0, 78.0, 304.0, 101.0, 105.0, 69.0, 88.0, 330.0, 125.0, 91.0, 88.0, 73.0, 163.0, 83.0, 317.0, 60.0, 63.0, 79.0, 59.0, 618.3417314549781, 478.1217454343911, 269.2103709154454, 138.6659394387492, 112.54627483584476, 77.82045134091862, 56.561560973963445, 55.590464693932184, 68.99928213608645, 60.37278570927644, 55.56781572612646, 59.3804849576428, 54.58680891701597, 41.99694358891406, 40.96972529293847, 33.341998057079046, 27.55056359206873, 31.348485979689315, 62.654874060412695, 24.654248490611206, 24.651371042261058, 40.76056860116394, 23.688088837629472, 20.774260524782346, 19.81870084111841, 19.81865654208793, 19.796112001672487, 23.55812333323109, 19.778985226002135, 18.82721051953359, 53.53821155459852, 71.10655392123388, 31.923411347835874, 208.52490285494997, 62.365539747747015, 84.80135693859988, 95.40697353668185, 46.28907974391704, 76.78695647435968, 80.65497379814295, 107.10588735761266, 220.832129296958, 227.70861177607117, 216.71566136706457, 172.99099298520687, 107.25706658693078, 92.19515828546098, 95.63304235088489, 230.11108070983872, 149.4963998761075, 189.68339033741594, 83.0932853501961, 107.85689271148094, 82.53685709307884, 106.87286380483647, 93.27538581848214, 111.17451058817505, 85.19335951337997, 82.66628209313483, 77.75228830761283, 1170.9758191242743, 253.79856612727093, 200.79964075638216, 193.93102801923786, 175.25767762007519, 100.5922952457337, 87.87932720974577, 79.02836806953543, 74.13320935626373, 74.10390457594083, 69.21871502164882, 82.8553010239595, 64.30970013366733, 64.29462553538102, 60.368785894972774, 55.464774963363865, 87.52605615969965, 56.38717297474971, 50.55198223536964, 45.653832936576286, 45.6505938666711, 37.801158698890156, 37.78947270744829, 34.844419325815906, 33.86164211343536, 44.476665196537134, 31.90658223031156, 31.900880350935637, 34.795660993933325, 42.52795029255923, 118.55579720134368, 50.17835109815815, 42.12960860174857, 149.09961971346365, 114.38248939124938, 98.08006309288223, 82.52286041495947, 239.20048876599955, 68.40550215909285, 93.76970090178101, 98.37348918418782, 129.3097380689405, 272.8254229819208, 129.27830288228202, 142.6963280676924, 103.94755812302732, 160.08709011509941, 220.96696475389078, 106.51867711652874, 114.29512521651122, 102.62293041537397, 101.02112872250524, 89.80761487625868, 83.96668227358731, 84.07484254516265], \"Total\": [1171.0, 618.0, 478.0, 269.0, 254.0, 224.0, 201.0, 194.0, 139.0, 175.0, 113.0, 120.0, 78.0, 304.0, 101.0, 105.0, 69.0, 88.0, 330.0, 125.0, 91.0, 88.0, 73.0, 163.0, 83.0, 317.0, 60.0, 63.0, 79.0, 59.0, 618.8490610442916, 478.64304549291717, 269.78492624268415, 139.2482100085306, 113.14103444619678, 78.32990511026145, 57.05702142918634, 56.09014658418005, 69.6292963790907, 60.92565900852858, 56.09049894754936, 59.95911405401139, 55.1237782864975, 42.553870333246486, 41.58786861159056, 33.85067556221577, 28.04887974842321, 31.917724280245494, 63.83610350237514, 25.14799114292728, 25.14803590909079, 41.591122585783445, 24.18103949589834, 21.280423353775817, 20.313306796763477, 20.313307485949707, 20.313658224680363, 24.183061446013202, 20.313924676045094, 19.346749233907055, 55.14009193502367, 73.52444336092908, 32.890762590127025, 224.57585603287524, 65.80457037401092, 91.96905772642181, 105.55181857259369, 49.36097437983475, 86.20184590768807, 91.05158269460709, 125.00946692861984, 304.90697184212064, 330.3315421914451, 317.7367900895698, 246.73229885226678, 153.48461508320145, 125.24144194791363, 133.04381886225042, 451.0780454637295, 263.7915250926187, 462.5088133193367, 119.49114858073423, 197.66450758773962, 120.48178802720707, 213.39154092136522, 161.55799845663697, 271.26160070327444, 167.57563189407972, 166.63296436672215, 316.95277707361237, 1171.4973234085226, 254.32534038717714, 201.29870230556824, 194.42490364215433, 175.76699096345988, 101.1357694824309, 88.37080253575358, 79.53275676408181, 74.62306898425788, 74.6226200567117, 69.71308499702513, 83.45914060162586, 64.80318495085953, 64.80295401917031, 60.87505500439828, 55.96523161514093, 88.36539068472695, 56.94630158425751, 51.05527369526232, 46.14554010188146, 46.14549048172777, 38.28972683033449, 38.28954780959431, 35.34361322867557, 34.36161829488657, 45.16056724907898, 32.39778919591952, 32.397701847347406, 35.342866287117054, 43.196835350497125, 120.74974732260543, 51.04954994276923, 43.19073305061184, 163.76299470517952, 124.55357339276026, 108.83280005932579, 92.15650348593662, 316.95277707361237, 75.50226426343913, 111.66758704353339, 118.50669027253814, 171.19534447936286, 462.5088133193367, 187.63283465809707, 217.81351381527344, 140.83168971133898, 271.26160070327444, 451.0780454637295, 213.39154092136522, 263.7915250926187, 330.3315421914451, 317.7367900895698, 197.66450758773962, 166.63296436672215, 304.90697184212064], \"Category\": [\"Default\", \"Default\", \"Default\", \"Default\", \"Default\", \"Default\", \"Default\", \"Default\", \"Default\", \"Default\", \"Default\", \"Default\", \"Default\", \"Default\", \"Default\", \"Default\", \"Default\", \"Default\", \"Default\", \"Default\", \"Default\", \"Default\", \"Default\", \"Default\", \"Default\", \"Default\", \"Default\", \"Default\", \"Default\", \"Default\", \"Topic1\", \"Topic1\", \"Topic1\", \"Topic1\", \"Topic1\", \"Topic1\", \"Topic1\", \"Topic1\", \"Topic1\", \"Topic1\", \"Topic1\", \"Topic1\", \"Topic1\", \"Topic1\", \"Topic1\", \"Topic1\", \"Topic1\", \"Topic1\", \"Topic1\", \"Topic1\", \"Topic1\", \"Topic1\", \"Topic1\", \"Topic1\", \"Topic1\", \"Topic1\", \"Topic1\", \"Topic1\", \"Topic1\", \"Topic1\", \"Topic1\", \"Topic1\", \"Topic1\", \"Topic1\", \"Topic1\", \"Topic1\", \"Topic1\", \"Topic1\", \"Topic1\", \"Topic1\", \"Topic1\", \"Topic1\", \"Topic1\", \"Topic1\", \"Topic1\", \"Topic1\", \"Topic1\", \"Topic1\", \"Topic1\", \"Topic1\", \"Topic1\", \"Topic1\", \"Topic1\", \"Topic1\", \"Topic1\", \"Topic1\", \"Topic1\", \"Topic1\", \"Topic1\", \"Topic1\", \"Topic2\", \"Topic2\", \"Topic2\", \"Topic2\", \"Topic2\", \"Topic2\", \"Topic2\", \"Topic2\", \"Topic2\", \"Topic2\", \"Topic2\", \"Topic2\", \"Topic2\", \"Topic2\", \"Topic2\", \"Topic2\", \"Topic2\", \"Topic2\", \"Topic2\", \"Topic2\", \"Topic2\", \"Topic2\", \"Topic2\", \"Topic2\", \"Topic2\", \"Topic2\", \"Topic2\", \"Topic2\", \"Topic2\", \"Topic2\", \"Topic2\", \"Topic2\", \"Topic2\", \"Topic2\", \"Topic2\", \"Topic2\", \"Topic2\", \"Topic2\", \"Topic2\", \"Topic2\", \"Topic2\", \"Topic2\", \"Topic2\", \"Topic2\", \"Topic2\", \"Topic2\", \"Topic2\", \"Topic2\", \"Topic2\", \"Topic2\", \"Topic2\", \"Topic2\", \"Topic2\", \"Topic2\", \"Topic2\"], \"logprob\": [30.0, 29.0, 28.0, 27.0, 26.0, 25.0, 24.0, 23.0, 22.0, 21.0, 20.0, 19.0, 18.0, 17.0, 16.0, 15.0, 14.0, 13.0, 12.0, 11.0, 10.0, 9.0, 8.0, 7.0, 6.0, 5.0, 4.0, 3.0, 2.0, 1.0, -3.2641, -3.5212, -4.0956, -4.759, -4.9677, -5.3367, -5.6558, -5.6731, -5.457, -5.5906, -5.6735, -5.6071, -5.6913, -5.9535, -5.9783, -6.1843, -6.3751, -6.2459, -5.5535, -6.4862, -6.4863, -5.9834, -6.5261, -6.6574, -6.7045, -6.7045, -6.7056, -6.5316, -6.7065, -6.7558, -5.7107, -5.4269, -6.2278, -4.351, -5.5581, -5.2508, -5.133, -5.8562, -5.3501, -5.3009, -5.0173, -4.2937, -4.263, -4.3125, -4.5379, -5.0159, -5.1672, -5.1306, -4.2525, -4.6838, -4.4457, -5.2711, -5.0103, -5.2779, -5.0195, -5.1555, -4.98, -5.2462, -5.2763, -5.3376, -2.8049, -4.3339, -4.5681, -4.6029, -4.7042, -5.2594, -5.3945, -5.5006, -5.5646, -5.565, -5.6332, -5.4533, -5.7067, -5.707, -5.77, -5.8547, -5.3985, -5.8382, -5.9474, -6.0494, -6.0494, -6.2381, -6.2384, -6.3196, -6.3482, -6.0755, -6.4076, -6.4078, -6.321, -6.1203, -5.0951, -5.9549, -6.1297, -4.8658, -5.1309, -5.2847, -5.4574, -4.3931, -5.645, -5.3296, -5.2817, -5.0082, -4.2616, -5.0085, -4.9097, -5.2266, -4.7947, -4.4724, -5.2021, -5.1317, -5.2394, -5.2551, -5.3728, -5.44, -5.4387], \"loglift\": [30.0, 29.0, 28.0, 27.0, 26.0, 25.0, 24.0, 23.0, 22.0, 21.0, 20.0, 19.0, 18.0, 17.0, 16.0, 15.0, 14.0, 13.0, 12.0, 11.0, 10.0, 9.0, 8.0, 7.0, 6.0, 5.0, 4.0, 3.0, 2.0, 1.0, 0.786, 0.7857, 0.7847, 0.7826, 0.7816, 0.7803, 0.7781, 0.7779, 0.7777, 0.7777, 0.7775, 0.7771, 0.777, 0.7737, 0.7719, 0.7717, 0.7689, 0.7688, 0.7682, 0.767, 0.7669, 0.7667, 0.7662, 0.7628, 0.7622, 0.7622, 0.761, 0.7607, 0.7601, 0.7596, 0.7574, 0.7534, 0.757, 0.7127, 0.7332, 0.7057, 0.6858, 0.7226, 0.6712, 0.6656, 0.6323, 0.4642, 0.4148, 0.4042, 0.4318, 0.4285, 0.4805, 0.4567, 0.1138, 0.2189, -0.1045, 0.4236, 0.1811, 0.4086, 0.0953, 0.2375, -0.1051, 0.1103, 0.0859, -0.6184, 0.607, 0.6054, 0.605, 0.6049, 0.6046, 0.6021, 0.6019, 0.6011, 0.6009, 0.6005, 0.6004, 0.6002, 0.5998, 0.5996, 0.5991, 0.5985, 0.5979, 0.5976, 0.5976, 0.5968, 0.5967, 0.5946, 0.5943, 0.5933, 0.5928, 0.5922, 0.5922, 0.592, 0.5919, 0.5919, 0.5892, 0.5903, 0.5826, 0.5137, 0.5223, 0.5035, 0.4971, 0.326, 0.5088, 0.4328, 0.4213, 0.3269, 0.0797, 0.235, 0.1846, 0.3038, 0.0801, -0.1061, -0.0873, -0.2289, -0.5615, -0.5384, -0.1814, -0.0779, -0.6808]}, \"token.table\": {\"Topic\": [1, 2, 1, 2, 1, 2, 1, 2, 1, 1, 2, 1, 2, 1, 2, 1, 2, 2, 1, 2, 1, 2, 2, 1, 1, 2, 2, 1, 2, 1, 2, 1, 2, 1, 2, 1, 2, 1, 2, 1, 2, 1, 2, 1, 2, 1, 2, 1, 2, 1, 2, 1, 2, 1, 2, 1, 2, 1, 2, 1, 2, 1, 2, 1, 2, 1, 2, 1, 1, 2, 1, 2, 2, 1, 2, 1, 2, 1, 2, 1, 2, 1, 2, 1, 2, 1, 2, 2, 1, 2, 1, 2, 1, 2, 1, 2, 2, 1, 2, 1, 2, 1, 1, 2, 1, 2, 1, 2, 1, 2, 1, 2, 1, 2, 1, 2, 1, 2, 1, 2, 2, 1, 2, 1, 2, 1, 2, 1, 2, 1, 2, 1, 2, 1, 2, 1, 2, 1, 2, 1, 2, 2, 1, 1, 2, 1, 2, 1, 2, 1, 2, 2, 2, 1, 1, 2, 1, 2, 1, 2, 1, 2, 1, 1, 2, 1, 2, 1, 2, 1, 2, 1, 2, 1, 2, 2, 1, 2, 1, 2, 1, 2, 1, 2, 1, 2, 2], \"Freq\": [0.9857872894735114, 0.024043592426183202, 0.9793237208170211, 0.03627124891914893, 0.9845463306056615, 0.04922731653028308, 0.9748697611469446, 0.029541507913543773, 0.998392826732147, 0.49810072283978235, 0.5041019363679725, 0.9986279997858302, 0.001615902912274806, 0.9957882610760596, 0.01276651616764179, 0.10107247074414878, 0.9004638302660528, 0.9897711455882986, 0.8896056235692162, 0.10982785476163164, 0.8559351753823315, 0.14398909492413053, 0.9958040152956226, 0.9925131632190979, 0.575644665621193, 0.4209014759380766, 0.9876057796932576, 0.013400762385989933, 0.991656416563255, 0.017868236602266795, 0.9827530131246738, 0.015431395298803436, 0.9876092991234199, 0.01642708987988182, 0.9856253927929092, 0.9656652502823221, 0.02720183803612175, 0.3443312523923889, 0.6565249212281548, 0.9848067460641008, 0.016413445767735013, 0.9319102910333189, 0.06077675811086862, 0.9909621895981175, 0.014361770863740833, 0.5014256869696138, 0.5014256869696138, 0.30911434081186856, 0.6875129304263973, 0.9858644207742179, 0.024045473677419948, 0.0008536084376961754, 0.9995754805422213, 0.01257343565955223, 0.9933014171046262, 0.005689350398038558, 0.9956363196567476, 0.24609344243696113, 0.7540555479799194, 0.6829552219584891, 0.3178731678239972, 0.011316647753732386, 0.9958650023284501, 0.7248112388667608, 0.2754938645466421, 0.9941151902716133, 0.9985161240378251, 0.9982573368754252, 0.09271245131902153, 0.9006352413847807, 0.9868224729783837, 0.046991546332303985, 0.9924333011928161, 0.9000318638249076, 0.09474019619209555, 0.410802982620821, 0.5902590223972849, 0.9306432298287883, 0.071245414723735, 0.9982174994672075, 0.007181420859476313, 0.9729175452321556, 0.03040367328850486, 0.9869023412065865, 0.015665116527088675, 0.9869842548066948, 0.023499625114445113, 0.9968460635294304, 0.1687668430702486, 0.8269575310442181, 0.9986565238981903, 0.0020892395897451677, 0.9983865547775929, 0.017828331335314158, 0.5463803356404832, 0.45531694636706926, 0.9877217178766746, 0.6946121196912006, 0.3012775458901593, 0.24533377427832442, 0.7535251638548536, 0.984576244603868, 0.509889590754853, 0.48993738937748915, 0.017560402909052912, 0.983382562906963, 0.00988769853749635, 0.9986575522871314, 0.02315311478571522, 0.9724308210000392, 0.9712471894240439, 0.031330554497549803, 0.7215667801853728, 0.27810386319644576, 0.003931971538807854, 0.9987207708571948, 0.011981911062004382, 0.9944986181463638, 0.01958661520392153, 0.998917375399998, 0.9968471354360102, 0.016563181657487262, 0.9855093086204921, 0.9421837973808349, 0.04558953858294362, 0.028294252986620763, 0.9902988545317267, 0.9924301790150981, 0.04135125745896242, 0.02214321167589839, 0.9743013137395291, 0.9970905481873436, 0.0037066563129641026, 0.9242238868299325, 0.07611255538599444, 0.7011647879290637, 0.2999201983049174, 0.8932523333950163, 0.10440611689032657, 0.0195888112847436, 0.9794405642371801, 0.9894760982505768, 0.9941134206414396, 0.023149844007924338, 0.9954432923407465, 0.982077131940112, 0.05168827010211116, 0.6889007986937995, 0.3154003656670407, 0.08028673708514616, 0.9152688027706664, 0.9916504508225289, 0.9902779258461105, 0.9990006238012773, 0.2627249596723469, 0.7384701569168668, 0.6902156496695117, 0.3118079469998232, 0.7345811304077899, 0.2634910576462725, 0.40919908941118366, 0.5898365252773818, 0.9845762780083942, 0.9845592447598001, 0.04922796223799, 0.026116787927942763, 0.992437941261825, 0.10851106131132711, 0.900641808884015, 0.9987534633487566, 0.00883852622432528, 0.9840038654816111, 0.01667803161833239, 0.5072336534808732, 0.48933128924037184, 0.9877243809075931, 0.6971382763151674, 0.299704305705586, 0.16119270127134327, 0.8417841066392371, 0.0915957846704276, 0.9098514610595809, 0.5648399809193463, 0.4321594484886273, 0.9977545391418168, 0.018140991620760306, 0.9978145616420807], \"Term\": [\"acting\", \"acting\", \"action\", \"action\", \"actors\", \"actors\", \"animation\", \"animation\", \"author\", \"better\", \"better\", \"book\", \"book\", \"books\", \"books\", \"buy\", \"buy\", \"campaign\", \"character\", \"character\", \"characters\", \"characters\", \"code\", \"colleen\", \"could\", \"could\", \"dance\", \"dead\", \"dead\", \"digital\", \"digital\", \"disc\", \"disc\", \"download\", \"download\", \"enjoyed\", \"enjoyed\", \"even\", \"even\", \"family\", \"family\", \"favorite\", \"favorite\", \"film\", \"film\", \"first\", \"first\", \"fun\", \"fun\", \"funny\", \"funny\", \"game\", \"game\", \"gameplay\", \"gameplay\", \"games\", \"games\", \"get\", \"get\", \"good\", \"good\", \"graphics\", \"graphics\", \"great\", \"great\", \"habits\", \"halo\", \"hoover\", \"hours\", \"hours\", \"humor\", \"humor\", \"install\", \"life\", \"life\", \"like\", \"like\", \"love\", \"love\", \"loved\", \"loved\", \"loves\", \"loves\", \"man\", \"man\", \"miles\", \"miles\", \"mode\", \"money\", \"money\", \"movie\", \"movie\", \"movies\", \"movies\", \"much\", \"much\", \"multiplayer\", \"never\", \"never\", \"new\", \"new\", \"novel\", \"one\", \"one\", \"online\", \"online\", \"open\", \"open\", \"order\", \"order\", \"pages\", \"pages\", \"people\", \"people\", \"play\", \"play\", \"played\", \"played\", \"player\", \"player\", \"players\", \"playing\", \"playing\", \"plot\", \"plot\", \"pre\", \"pre\", \"predictable\", \"predictable\", \"problem\", \"problem\", \"read\", \"read\", \"reading\", \"reading\", \"really\", \"really\", \"recommend\", \"recommend\", \"release\", \"release\", \"ring\", \"romance\", \"saints\", \"saints\", \"school\", \"school\", \"see\", \"see\", \"series\", \"series\", \"sonic\", \"souls\", \"spider\", \"still\", \"still\", \"story\", \"story\", \"think\", \"think\", \"time\", \"time\", \"twist\", \"twists\", \"twists\", \"update\", \"update\", \"version\", \"version\", \"watch\", \"watch\", \"watching\", \"watching\", \"way\", \"way\", \"weapons\", \"well\", \"well\", \"work\", \"work\", \"world\", \"world\", \"would\", \"would\", \"written\", \"written\", \"xbox\"]}, \"R\": 30, \"lambda.step\": 0.01, \"plot.opts\": {\"xlab\": \"PC1\", \"ylab\": \"PC2\"}, \"topic.order\": [1, 2]};\n",
       "\n",
       "function LDAvis_load_lib(url, callback){\n",
       "  var s = document.createElement('script');\n",
       "  s.src = url;\n",
       "  s.async = true;\n",
       "  s.onreadystatechange = s.onload = callback;\n",
       "  s.onerror = function(){console.warn(\"failed to load library \" + url);};\n",
       "  document.getElementsByTagName(\"head\")[0].appendChild(s);\n",
       "}\n",
       "\n",
       "if(typeof(LDAvis) !== \"undefined\"){\n",
       "   // already loaded: just create the visualization\n",
       "   !function(LDAvis){\n",
       "       new LDAvis(\"#\" + \"ldavis_el2376427990285452327756438996\", ldavis_el2376427990285452327756438996_data);\n",
       "   }(LDAvis);\n",
       "}else if(typeof define === \"function\" && define.amd){\n",
       "   // require.js is available: use it to load d3/LDAvis\n",
       "   require.config({paths: {d3: \"https://d3js.org/d3.v5\"}});\n",
       "   require([\"d3\"], function(d3){\n",
       "      window.d3 = d3;\n",
       "      LDAvis_load_lib(\"https://cdn.jsdelivr.net/gh/bmabey/pyLDAvis@3.4.0/pyLDAvis/js/ldavis.v3.0.0.js\", function(){\n",
       "        new LDAvis(\"#\" + \"ldavis_el2376427990285452327756438996\", ldavis_el2376427990285452327756438996_data);\n",
       "      });\n",
       "    });\n",
       "}else{\n",
       "    // require.js not available: dynamically load d3 & LDAvis\n",
       "    LDAvis_load_lib(\"https://d3js.org/d3.v5.js\", function(){\n",
       "         LDAvis_load_lib(\"https://cdn.jsdelivr.net/gh/bmabey/pyLDAvis@3.4.0/pyLDAvis/js/ldavis.v3.0.0.js\", function(){\n",
       "                 new LDAvis(\"#\" + \"ldavis_el2376427990285452327756438996\", ldavis_el2376427990285452327756438996_data);\n",
       "            })\n",
       "         });\n",
       "}\n",
       "</script>"
      ],
      "text/plain": [
       "<IPython.core.display.HTML object>"
      ]
     },
     "execution_count": 66,
     "metadata": {},
     "output_type": "execute_result"
    }
   ],
   "source": [
    "pyLDAvis.display(lda_display)"
   ]
  },
  {
   "cell_type": "code",
   "execution_count": 73,
   "metadata": {
    "ExecuteTime": {
     "end_time": "2023-06-22T06:09:34.884356600Z",
     "start_time": "2023-06-22T06:09:34.857318400Z"
    }
   },
   "outputs": [],
   "source": [
    "#with open('../models/lda_model.pkl', 'wb') as file:\n",
    "    #pickle.dump(lda_text_model, file)\n",
    "\n",
    "with open('../models/count_vect.pkl', 'wb') as file:\n",
    "    pickle.dump(count, file)\n"
   ]
  }
 ],
 "metadata": {
  "kernelspec": {
   "display_name": "Python 3 (ipykernel)",
   "language": "python",
   "name": "python3"
  },
  "language_info": {
   "codemirror_mode": {
    "name": "ipython",
    "version": 3
   },
   "file_extension": ".py",
   "mimetype": "text/x-python",
   "name": "python",
   "nbconvert_exporter": "python",
   "pygments_lexer": "ipython3",
   "version": "3.9.16"
  }
 },
 "nbformat": 4,
 "nbformat_minor": 0
}
