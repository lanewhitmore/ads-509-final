{
 "cells": [
  {
   "cell_type": "code",
   "execution_count": 1,
   "metadata": {
    "collapsed": true,
    "ExecuteTime": {
     "end_time": "2023-06-22T05:52:55.913720800Z",
     "start_time": "2023-06-22T05:52:48.887812200Z"
    }
   },
   "outputs": [],
   "source": [
    "import os\n",
    "import pandas as pd\n",
    "import numpy as np\n",
    "import seaborn as sns\n",
    "\n",
    "\n",
    "import sys\n",
    "import functions.token_functions as tf\n",
    "import spacy\n",
    "import pickle\n",
    "from sklearn.model_selection import train_test_split\n",
    "from sklearn.feature_extraction.text import TfidfVectorizer, CountVectorizer\n",
    "from sklearn.decomposition import NMF, TruncatedSVD, LatentDirichletAllocation\n",
    "from sklearn.svm import LinearSVC\n",
    "from nltk.corpus import stopwords\n",
    "from collections import defaultdict\n",
    "import pyLDAvis\n",
    "import pyLDAvis.lda_model\n",
    "import pyLDAvis.gensim_models"
   ]
  },
  {
   "cell_type": "code",
   "execution_count": 2,
   "metadata": {
    "collapsed": false,
    "ExecuteTime": {
     "end_time": "2023-06-22T05:52:56.516911300Z",
     "start_time": "2023-06-22T05:52:55.913720800Z"
    }
   },
   "outputs": [],
   "source": [
    "nlp = spacy.load('en_core_web_sm')\n",
    "sw = stopwords.words(\"english\")"
   ]
  },
  {
   "cell_type": "code",
   "execution_count": 3,
   "metadata": {
    "collapsed": false,
    "ExecuteTime": {
     "end_time": "2023-06-22T05:52:56.890387300Z",
     "start_time": "2023-06-22T05:52:56.518909100Z"
    }
   },
   "outputs": [],
   "source": [
    "# Create an empty list to store the review dataframes\n",
    "df_list = []\n",
    "csv_files = os.listdir('../data/games',)\n",
    "\n",
    "# Iterate over each file in the folder\n",
    "for file in csv_files:\n",
    "    # Read the CSV file into a datadrame\n",
    "    df = pd.read_csv('../data/games/'+file, index_col=0)\n",
    "\n",
    "    # Append the dataframe to the list\n",
    "    df_list.append(df)\n",
    "\n",
    "# Combine the dataframes into a single dataframe\n",
    "games_df = pd.concat(df_list, ignore_index=True)\n"
   ]
  },
  {
   "cell_type": "code",
   "execution_count": 4,
   "metadata": {
    "ExecuteTime": {
     "end_time": "2023-06-22T05:52:58.038973100Z",
     "start_time": "2023-06-22T05:52:56.891886300Z"
    }
   },
   "outputs": [],
   "source": [
    "# Create an empty list to store the review dataframes\n",
    "df_list = []\n",
    "csv_files = os.listdir('../data/books',)\n",
    "\n",
    "# Iterate over each file in the folder\n",
    "for file in csv_files:\n",
    "    # Read the CSV file into a datadrame\n",
    "    df = pd.read_csv('../data/books/'+file, index_col=0)\n",
    "\n",
    "    # Append the dataframe to the list\n",
    "    df_list.append(df)\n",
    "\n",
    "# Combine the dataframes into a single dataframe\n",
    "books_df = pd.concat(df_list, ignore_index=True)"
   ]
  },
  {
   "cell_type": "code",
   "execution_count": 5,
   "metadata": {
    "ExecuteTime": {
     "end_time": "2023-06-22T05:52:58.503643600Z",
     "start_time": "2023-06-22T05:52:58.040473900Z"
    }
   },
   "outputs": [],
   "source": [
    "# Create an empty list to store the review dataframes\n",
    "df_list = []\n",
    "csv_files = os.listdir('../data/movies',)\n",
    "\n",
    "# Iterate over each file in the folder\n",
    "for file in csv_files:\n",
    "    # Read the CSV file into a datadrame\n",
    "    df = pd.read_csv('../data/movies/'+file, index_col=0)\n",
    "\n",
    "    # Append the dataframe to the list\n",
    "    df_list.append(df)\n",
    "\n",
    "# Combine the dataframes into a single dataframe\n",
    "movies_df = pd.concat(df_list, ignore_index=True)"
   ]
  },
  {
   "cell_type": "code",
   "execution_count": 6,
   "metadata": {
    "ExecuteTime": {
     "end_time": "2023-06-22T05:52:58.518656200Z",
     "start_time": "2023-06-22T05:52:58.507147100Z"
    }
   },
   "outputs": [],
   "source": [
    "movies_df.rename({'movie_title': 'title'}, axis = 1, inplace = True)\n",
    "books_df.rename({'movie_title': 'title'}, axis = 1, inplace = True)\n",
    "games_df.rename({'game_title': 'title'}, axis = 1, inplace = True)"
   ]
  },
  {
   "cell_type": "code",
   "execution_count": 7,
   "metadata": {
    "ExecuteTime": {
     "end_time": "2023-06-22T05:52:58.555797500Z",
     "start_time": "2023-06-22T05:52:58.519156200Z"
    }
   },
   "outputs": [
    {
     "data": {
      "text/plain": "             name             title          review_title  \\\n0  Not bad at all  2 Fast 2 Furious       Love this movie   \n1         Coleman  2 Fast 2 Furious        Fast n furious   \n2     Jack Pocock  2 Fast 2 Furious  American Masterpiece   \n3            Tina  2 Fast 2 Furious             Satisfied   \n4      N.Maletich  2 Fast 2 Furious               Classic   \n\n                                              review  rating  \\\n0  Truly one of my faves. It’s a must watch if yo...     5.0   \n1                        I LOVE ALL THEIR MOVIES LOL     5.0   \n2  If you didn't enjoy this movie--- you're wrong...     5.0   \n3                             Kids love these movies     5.0   \n4  Will always live in my heart forever and be on...     5.0   \n\n                                          date_place  \n0   Reviewed in the United States 🇺🇸 on May 11, 2023  \n1   Reviewed in the United States 🇺🇸 on May 16, 2023  \n2  Reviewed in the United States 🇺🇸 on April 28, ...  \n3  Reviewed in the United States 🇺🇸 on April 25, ...  \n4  Reviewed in the United States 🇺🇸 on March 22, ...  ",
      "text/html": "<div>\n<style scoped>\n    .dataframe tbody tr th:only-of-type {\n        vertical-align: middle;\n    }\n\n    .dataframe tbody tr th {\n        vertical-align: top;\n    }\n\n    .dataframe thead th {\n        text-align: right;\n    }\n</style>\n<table border=\"1\" class=\"dataframe\">\n  <thead>\n    <tr style=\"text-align: right;\">\n      <th></th>\n      <th>name</th>\n      <th>title</th>\n      <th>review_title</th>\n      <th>review</th>\n      <th>rating</th>\n      <th>date_place</th>\n    </tr>\n  </thead>\n  <tbody>\n    <tr>\n      <th>0</th>\n      <td>Not bad at all</td>\n      <td>2 Fast 2 Furious</td>\n      <td>Love this movie</td>\n      <td>Truly one of my faves. It’s a must watch if yo...</td>\n      <td>5.0</td>\n      <td>Reviewed in the United States 🇺🇸 on May 11, 2023</td>\n    </tr>\n    <tr>\n      <th>1</th>\n      <td>Coleman</td>\n      <td>2 Fast 2 Furious</td>\n      <td>Fast n furious</td>\n      <td>I LOVE ALL THEIR MOVIES LOL</td>\n      <td>5.0</td>\n      <td>Reviewed in the United States 🇺🇸 on May 16, 2023</td>\n    </tr>\n    <tr>\n      <th>2</th>\n      <td>Jack Pocock</td>\n      <td>2 Fast 2 Furious</td>\n      <td>American Masterpiece</td>\n      <td>If you didn't enjoy this movie--- you're wrong...</td>\n      <td>5.0</td>\n      <td>Reviewed in the United States 🇺🇸 on April 28, ...</td>\n    </tr>\n    <tr>\n      <th>3</th>\n      <td>Tina</td>\n      <td>2 Fast 2 Furious</td>\n      <td>Satisfied</td>\n      <td>Kids love these movies</td>\n      <td>5.0</td>\n      <td>Reviewed in the United States 🇺🇸 on April 25, ...</td>\n    </tr>\n    <tr>\n      <th>4</th>\n      <td>N.Maletich</td>\n      <td>2 Fast 2 Furious</td>\n      <td>Classic</td>\n      <td>Will always live in my heart forever and be on...</td>\n      <td>5.0</td>\n      <td>Reviewed in the United States 🇺🇸 on March 22, ...</td>\n    </tr>\n  </tbody>\n</table>\n</div>"
     },
     "execution_count": 7,
     "metadata": {},
     "output_type": "execute_result"
    }
   ],
   "source": [
    "all_df = pd.concat([movies_df, books_df, games_df], axis = 0)\n",
    "all_df.head()"
   ]
  },
  {
   "cell_type": "code",
   "execution_count": 8,
   "metadata": {
    "collapsed": false,
    "ExecuteTime": {
     "end_time": "2023-06-22T06:02:36.896116700Z",
     "start_time": "2023-06-22T05:52:58.551774600Z"
    }
   },
   "outputs": [],
   "source": [
    "# drop values\n",
    "all_df = all_df.dropna()\n",
    "\n",
    "# drop non english reviews\n",
    "all_df['lang'] = all_df['review'].apply(tf.detect_language)\n",
    "\n",
    "all_df = all_df.query('lang == \"en\"')\n"
   ]
  },
  {
   "cell_type": "code",
   "execution_count": 9,
   "metadata": {
    "collapsed": false,
    "ExecuteTime": {
     "end_time": "2023-06-22T06:02:48.215338400Z",
     "start_time": "2023-06-22T06:02:36.898629300Z"
    }
   },
   "outputs": [],
   "source": [
    "all_df['review_tokens'] = all_df['review'].apply(tf.clean_tokenize)\n",
    "all_df['review_title_tokens'] = all_df['review_title'].apply(tf.clean_tokenize)"
   ]
  },
  {
   "cell_type": "code",
   "execution_count": 10,
   "metadata": {
    "collapsed": false,
    "ExecuteTime": {
     "end_time": "2023-06-22T06:02:48.262570600Z",
     "start_time": "2023-06-22T06:02:48.215838200Z"
    }
   },
   "outputs": [
    {
     "data": {
      "text/plain": "rating\n1.0     6478\n2.0     3903\n3.0     6463\n4.0    12777\n5.0    91484\nName: review, dtype: int64"
     },
     "execution_count": 10,
     "metadata": {},
     "output_type": "execute_result"
    }
   ],
   "source": [
    "all_df.groupby(['rating'])['review'].count()"
   ]
  },
  {
   "cell_type": "code",
   "execution_count": 11,
   "metadata": {
    "collapsed": false,
    "ExecuteTime": {
     "end_time": "2023-06-22T06:02:48.262570600Z",
     "start_time": "2023-06-22T06:02:48.246042500Z"
    }
   },
   "outputs": [],
   "source": [
    "all_df['sentiment'] = 0\n",
    "all_df.loc[all_df['rating']>3, 'sentiment'] = 1\n",
    "all_df.loc[all_df['rating']<=3, 'sentiment'] = 0"
   ]
  },
  {
   "cell_type": "code",
   "execution_count": 12,
   "metadata": {
    "collapsed": false,
    "ExecuteTime": {
     "end_time": "2023-06-22T06:02:48.386146300Z",
     "start_time": "2023-06-22T06:02:48.263577700Z"
    }
   },
   "outputs": [
    {
     "data": {
      "text/plain": "<AxesSubplot:xlabel='sentiment', ylabel='count'>"
     },
     "execution_count": 12,
     "metadata": {},
     "output_type": "execute_result"
    },
    {
     "data": {
      "text/plain": "<Figure size 432x288 with 1 Axes>",
      "image/png": "[encoded data removed]"
     },
     "metadata": {},
     "output_type": "display_data"
    }
   ],
   "source": [
    "sns.countplot(x=all_df['sentiment'])"
   ]
  },
  {
   "attachments": {},
   "cell_type": "markdown",
   "metadata": {
    "collapsed": false
   },
   "source": [
    "## Split Data"
   ]
  },
  {
   "cell_type": "code",
   "execution_count": 13,
   "metadata": {
    "collapsed": false,
    "ExecuteTime": {
     "end_time": "2023-06-22T06:02:48.431709400Z",
     "start_time": "2023-06-22T06:02:48.387663500Z"
    }
   },
   "outputs": [],
   "source": [
    "X_train, X_test, y_train, y_test = train_test_split(all_df['review'], all_df['sentiment'], test_size=0.20, random_state=10, stratify=all_df['sentiment'])"
   ]
  },
  {
   "cell_type": "code",
   "execution_count": 14,
   "metadata": {
    "collapsed": false,
    "ExecuteTime": {
     "end_time": "2023-06-22T06:02:48.492471600Z",
     "start_time": "2023-06-22T06:02:48.433211Z"
    }
   },
   "outputs": [
    {
     "name": "stdout",
     "output_type": "stream",
     "text": [
      "Size of Training Data  96884\n",
      "Size of Test Data  24221\n",
      "Distribution of classes in Training Data :\n",
      "Positive Sentiment  86.09161471450393\n",
      "Negative Sentiment  13.908385285496058\n",
      "Distribution of classes in Testing Data :\n",
      "Positive Sentiment  86.09058255233062\n",
      "Negative Sentiment  13.909417447669378\n"
     ]
    }
   ],
   "source": [
    "tf.sentiment_stats(X_train, X_test, y_train, y_test)"
   ]
  },
  {
   "attachments": {},
   "cell_type": "markdown",
   "metadata": {
    "collapsed": false
   },
   "source": [
    "## Vectorize Data"
   ]
  },
  {
   "cell_type": "code",
   "execution_count": 15,
   "metadata": {
    "ExecuteTime": {
     "end_time": "2023-06-22T06:02:55.118120900Z",
     "start_time": "2023-06-22T06:02:48.464789100Z"
    }
   },
   "outputs": [],
   "source": [
    "count = CountVectorizer(min_df = 10, ngram_range=(1,1), stop_words=sw)\n",
    "X_count_vectors = count.fit_transform(all_df['review'])\n",
    "\n",
    "idf = TfidfVectorizer(min_df = 10, ngram_range=(1,1), stop_words=sw)\n",
    "X_tfidf_vectors = idf.fit_transform(all_df['review'])"
   ]
  },
  {
   "cell_type": "code",
   "execution_count": 16,
   "metadata": {
    "collapsed": false,
    "ExecuteTime": {
     "end_time": "2023-06-22T06:02:58.522945100Z",
     "start_time": "2023-06-22T06:02:55.119122300Z"
    }
   },
   "outputs": [],
   "source": [
    "tfidf = TfidfVectorizer(min_df = 10, ngram_range=(1,1), stop_words=sw)\n",
    "X_train_tf = tfidf.fit_transform(X_train)\n",
    "X_test_tf = tfidf.transform(X_test)"
   ]
  },
  {
   "attachments": {},
   "cell_type": "markdown",
   "metadata": {
    "collapsed": false
   },
   "source": [
    "## Train Sentiment Model"
   ]
  },
  {
   "cell_type": "code",
   "execution_count": 17,
   "metadata": {
    "collapsed": false,
    "ExecuteTime": {
     "end_time": "2023-06-22T06:02:59.151696700Z",
     "start_time": "2023-06-22T06:02:58.524181700Z"
    }
   },
   "outputs": [
    {
     "data": {
      "text/plain": "LinearSVC(random_state=10, tol=1e-05)"
     },
     "execution_count": 17,
     "metadata": {},
     "output_type": "execute_result"
    }
   ],
   "source": [
    "svc_model = LinearSVC(random_state=10, tol=1e-5)\n",
    "svc_model.fit(X_train_tf, y_train)"
   ]
  },
  {
   "cell_type": "code",
   "execution_count": 18,
   "metadata": {
    "collapsed": false,
    "ExecuteTime": {
     "end_time": "2023-06-22T06:02:59.189259300Z",
     "start_time": "2023-06-22T06:02:59.146180200Z"
    }
   },
   "outputs": [
    {
     "name": "stdout",
     "output_type": "stream",
     "text": [
      "Accuracy Score -  0.9247347343214566\n",
      "ROC-AUC Score -  0.8017407889619059\n"
     ]
    }
   ],
   "source": [
    "from sklearn.metrics import accuracy_score\n",
    "from sklearn.metrics import roc_auc_score\n",
    "y_pred = svc_model.predict(X_test_tf)\n",
    "print ('Accuracy Score - ', accuracy_score(y_test, y_pred))\n",
    "print ('ROC-AUC Score - ', roc_auc_score(y_test, y_pred))"
   ]
  },
  {
   "attachments": {},
   "cell_type": "markdown",
   "metadata": {
    "collapsed": false
   },
   "source": [
    "## Sample Predictions"
   ]
  },
  {
   "cell_type": "code",
   "execution_count": 19,
   "metadata": {
    "collapsed": false,
    "ExecuteTime": {
     "end_time": "2023-06-22T06:02:59.201775800Z",
     "start_time": "2023-06-22T06:02:59.162212600Z"
    }
   },
   "outputs": [
    {
     "name": "stdout",
     "output_type": "stream",
     "text": [
      "Some sample reviews with their sentiment - \n"
     ]
    },
    {
     "data": {
      "text/plain": "                                                review  sentiment_prediction\n400  You cannot install and launch the game offline...                     0\n329       Easy to install and the game is a lot of fun                     1\n912              My son was very happy with this game😊                     1\n736  The game is horribly broken. They claim it is ...                     0\n381                                       amazing game                     1",
      "text/html": "<div>\n<style scoped>\n    .dataframe tbody tr th:only-of-type {\n        vertical-align: middle;\n    }\n\n    .dataframe tbody tr th {\n        vertical-align: top;\n    }\n\n    .dataframe thead th {\n        text-align: right;\n    }\n</style>\n<table border=\"1\" class=\"dataframe\">\n  <thead>\n    <tr style=\"text-align: right;\">\n      <th></th>\n      <th>review</th>\n      <th>sentiment_prediction</th>\n    </tr>\n  </thead>\n  <tbody>\n    <tr>\n      <th>400</th>\n      <td>You cannot install and launch the game offline...</td>\n      <td>0</td>\n    </tr>\n    <tr>\n      <th>329</th>\n      <td>Easy to install and the game is a lot of fun</td>\n      <td>1</td>\n    </tr>\n    <tr>\n      <th>912</th>\n      <td>My son was very happy with this game😊</td>\n      <td>1</td>\n    </tr>\n    <tr>\n      <th>736</th>\n      <td>The game is horribly broken. They claim it is ...</td>\n      <td>0</td>\n    </tr>\n    <tr>\n      <th>381</th>\n      <td>amazing game</td>\n      <td>1</td>\n    </tr>\n  </tbody>\n</table>\n</div>"
     },
     "execution_count": 19,
     "metadata": {},
     "output_type": "execute_result"
    }
   ],
   "source": [
    "sample_reviews = games_df.sample(5)\n",
    "sample_reviews_tf = tfidf.transform(sample_reviews['review'])\n",
    "sentiment_predictions = svc_model.predict(sample_reviews_tf)\n",
    "sentiment_predictions = pd.DataFrame(data = sentiment_predictions,\n",
    "                                     index=sample_reviews.index,\n",
    "                                     columns=['sentiment_prediction'])\n",
    "sample_reviews = pd.concat([sample_reviews, sentiment_predictions], axis=1)\n",
    "print ('Some sample reviews with their sentiment - ')\n",
    "sample_reviews[['review','sentiment_prediction']]"
   ]
  },
  {
   "attachments": {},
   "cell_type": "markdown",
   "metadata": {
    "collapsed": false
   },
   "source": [
    "## Pickle Models"
   ]
  },
  {
   "cell_type": "code",
   "execution_count": 20,
   "metadata": {
    "collapsed": false,
    "ExecuteTime": {
     "end_time": "2023-06-22T06:02:59.202275100Z",
     "start_time": "2023-06-22T06:02:59.177227800Z"
    }
   },
   "outputs": [],
   "source": [
    "with open('../models/svc_model.pkl', 'wb') as file:\n",
    "    pickle.dump(svc_model, file)\n",
    "\n",
    "with open('../models/tfidf.pkl', 'wb') as file:\n",
    "    pickle.dump(tfidf, file)"
   ]
  },
  {
   "attachments": {},
   "cell_type": "markdown",
   "metadata": {},
   "source": [
    "## Topic Modeling"
   ]
  },
  {
   "cell_type": "code",
   "execution_count": 21,
   "metadata": {
    "ExecuteTime": {
     "end_time": "2023-06-22T06:02:59.210797100Z",
     "start_time": "2023-06-22T06:02:59.193259200Z"
    }
   },
   "outputs": [],
   "source": [
    "def display_topics(model, features, no_top_words=5):\n",
    "    for topic, words in enumerate(model.components_):\n",
    "        total = words.sum()\n",
    "        largest = words.argsort()[::-1] # invert sort order\n",
    "        print(\"\\nTopic %02d\" % topic)\n",
    "        print(topic)\n",
    "        for i in range(0, no_top_words):\n",
    "            print(\"  %s (%2.2f)\" % (features[largest[i]], abs(words[largest[i]]*100.0/total)))"
   ]
  },
  {
   "cell_type": "code",
   "execution_count": 22,
   "metadata": {
    "ExecuteTime": {
     "end_time": "2023-06-22T06:02:59.251357700Z",
     "start_time": "2023-06-22T06:02:59.208795100Z"
    }
   },
   "outputs": [],
   "source": [
    "def topic_to_category(matrix, df):\n",
    "    topic_to_category = defaultdict(list)\n",
    "    for idx, row in enumerate(matrix) :\n",
    "        topic = np.where(row == np.amax(row))[0]\n",
    "        category = df[\"sentiment\"].iloc[idx]\n",
    "        sentiment = []\n",
    "        if category == 1:\n",
    "            sentiment.append(\"Positive\")\n",
    "        else:\n",
    "            sentiment.append(\"Negative\")\n",
    "        topic_to_category[topic[0]].append(sentiment)  \n",
    "    return topic_to_category"
   ]
  },
  {
   "attachments": {},
   "cell_type": "markdown",
   "metadata": {},
   "source": [
    "### NMF"
   ]
  },
  {
   "cell_type": "code",
   "execution_count": 23,
   "metadata": {
    "ExecuteTime": {
     "end_time": "2023-06-22T06:03:00.539664500Z",
     "start_time": "2023-06-22T06:02:59.223808400Z"
    }
   },
   "outputs": [
    {
     "name": "stderr",
     "output_type": "stream",
     "text": [
      "C:\\Users\\Ivan\\anaconda3\\lib\\site-packages\\sklearn\\decomposition\\_nmf.py:289: FutureWarning: The 'init' value, when 'init=None' and n_components is less than n_samples and n_features, will be changed from 'nndsvd' to 'nndsvda' in 1.1 (renaming of 0.26).\n",
      "  warnings.warn(\n"
     ]
    }
   ],
   "source": [
    "nmf_text_model = NMF(n_components=2, random_state=33)\n",
    "nmf_text_matrix = nmf_text_model.fit_transform(X_tfidf_vectors)\n",
    "c_text_matrix = nmf_text_model.components_"
   ]
  },
  {
   "cell_type": "code",
   "execution_count": 24,
   "metadata": {
    "ExecuteTime": {
     "end_time": "2023-06-22T06:03:00.548681300Z",
     "start_time": "2023-06-22T06:03:00.527153600Z"
    }
   },
   "outputs": [
    {
     "name": "stdout",
     "output_type": "stream",
     "text": [
      "\n",
      "Topic 00\n",
      "0\n",
      "  book (2.41)\n",
      "  read (1.72)\n",
      "  love (1.20)\n",
      "  good (0.88)\n",
      "  one (0.81)\n",
      "  loved (0.81)\n",
      "  story (0.65)\n",
      "  put (0.65)\n",
      "  books (0.56)\n",
      "  reading (0.56)\n",
      "  recommend (0.50)\n",
      "  really (0.47)\n",
      "\n",
      "Topic 01\n",
      "1\n",
      "  great (27.34)\n",
      "  movie (12.36)\n",
      "  book (2.61)\n",
      "  family (2.18)\n",
      "  kids (1.71)\n",
      "  watch (1.52)\n",
      "  gift (1.06)\n",
      "  funny (0.91)\n",
      "  story (0.89)\n",
      "  condition (0.89)\n",
      "  read (0.67)\n",
      "  price (0.62)\n"
     ]
    }
   ],
   "source": [
    "display_topics(nmf_text_model, idf.get_feature_names_out(), 12)"
   ]
  },
  {
   "attachments": {},
   "cell_type": "markdown",
   "metadata": {},
   "source": [
    "### SVD"
   ]
  },
  {
   "cell_type": "code",
   "execution_count": 25,
   "metadata": {
    "ExecuteTime": {
     "end_time": "2023-06-22T06:03:01.008383600Z",
     "start_time": "2023-06-22T06:03:00.542664600Z"
    }
   },
   "outputs": [],
   "source": [
    "svd_text_model = TruncatedSVD(n_components=2, random_state=33)\n",
    "svd_text_matrix = svd_text_model.fit_transform(X_tfidf_vectors)\n",
    "csvd_text_matrix = svd_text_model.components_"
   ]
  },
  {
   "cell_type": "code",
   "execution_count": 26,
   "metadata": {
    "ExecuteTime": {
     "end_time": "2023-06-22T06:03:01.022900600Z",
     "start_time": "2023-06-22T06:03:01.008890800Z"
    }
   },
   "outputs": [
    {
     "name": "stdout",
     "output_type": "stream",
     "text": [
      "\n",
      "Topic 00\n",
      "0\n",
      "  book (2.49)\n",
      "  great (1.82)\n",
      "  read (1.68)\n",
      "  love (1.15)\n",
      "  good (0.84)\n",
      "  loved (0.79)\n",
      "  movie (0.76)\n",
      "  one (0.74)\n",
      "  story (0.68)\n",
      "  put (0.60)\n",
      "  reading (0.52)\n",
      "  books (0.51)\n",
      "\n",
      "Topic 01\n",
      "1\n",
      "  great (10.08)\n",
      "  movie (4.81)\n",
      "  family (0.75)\n",
      "  watch (0.52)\n",
      "  kids (0.49)\n",
      "  gift (0.28)\n",
      "  funny (0.28)\n",
      "  condition (0.26)\n",
      "  price (0.20)\n",
      "  quality (0.16)\n",
      "  watched (0.16)\n",
      "  animation (0.15)\n"
     ]
    }
   ],
   "source": [
    "display_topics(svd_text_model, idf.get_feature_names_out(), 12)"
   ]
  },
  {
   "attachments": {},
   "cell_type": "markdown",
   "metadata": {},
   "source": [
    "### LDA"
   ]
  },
  {
   "cell_type": "code",
   "execution_count": 27,
   "metadata": {
    "ExecuteTime": {
     "end_time": "2023-06-22T06:08:58.565762500Z",
     "start_time": "2023-06-22T06:03:01.024400600Z"
    }
   },
   "outputs": [],
   "source": [
    "lda_text_model = LatentDirichletAllocation(n_components=2, random_state=33)\n",
    "lda_text_matrix = lda_text_model.fit_transform(X_count_vectors)\n",
    "clda_text_matrix = lda_text_model.components_"
   ]
  },
  {
   "cell_type": "code",
   "execution_count": 28,
   "metadata": {
    "ExecuteTime": {
     "end_time": "2023-06-22T06:08:58.580888Z",
     "start_time": "2023-06-22T06:08:58.566759600Z"
    }
   },
   "outputs": [
    {
     "name": "stdout",
     "output_type": "stream",
     "text": [
      "\n",
      "Topic 00\n",
      "0\n",
      "  story (1.61)\n",
      "  book (1.36)\n",
      "  love (1.12)\n",
      "  movie (1.09)\n",
      "  like (0.90)\n",
      "  one (0.90)\n",
      "  characters (0.76)\n",
      "  loved (0.68)\n",
      "  good (0.66)\n",
      "  read (0.61)\n",
      "  really (0.57)\n",
      "  would (0.52)\n",
      "\n",
      "Topic 01\n",
      "1\n",
      "  book (7.26)\n",
      "  read (3.44)\n",
      "  great (1.40)\n",
      "  one (1.11)\n",
      "  reading (0.98)\n",
      "  books (0.91)\n",
      "  good (0.87)\n",
      "  life (0.75)\n",
      "  love (0.74)\n",
      "  recommend (0.71)\n",
      "  put (0.66)\n",
      "  time (0.53)\n"
     ]
    }
   ],
   "source": [
    "display_topics(lda_text_model, count.get_feature_names_out(), 12)"
   ]
  },
  {
   "cell_type": "code",
   "execution_count": 29,
   "metadata": {
    "ExecuteTime": {
     "end_time": "2023-06-22T06:09:17.243911100Z",
     "start_time": "2023-06-22T06:08:58.581889200Z"
    }
   },
   "outputs": [
    {
     "ename": "TypeError",
     "evalue": "drop() takes from 1 to 2 positional arguments but 3 were given",
     "output_type": "error",
     "traceback": [
      "\u001B[1;31m---------------------------------------------------------------------------\u001B[0m",
      "\u001B[1;31mTypeError\u001B[0m                                 Traceback (most recent call last)",
      "Input \u001B[1;32mIn [29]\u001B[0m, in \u001B[0;36m<cell line: 1>\u001B[1;34m()\u001B[0m\n\u001B[1;32m----> 1\u001B[0m lda_display \u001B[38;5;241m=\u001B[39m \u001B[43mpyLDAvis\u001B[49m\u001B[38;5;241;43m.\u001B[39;49m\u001B[43mlda_model\u001B[49m\u001B[38;5;241;43m.\u001B[39;49m\u001B[43mprepare\u001B[49m\u001B[43m(\u001B[49m\u001B[43mlda_text_model\u001B[49m\u001B[43m,\u001B[49m\u001B[43m \u001B[49m\u001B[43mX_count_vectors\u001B[49m\u001B[43m,\u001B[49m\u001B[43m \u001B[49m\u001B[43mcount\u001B[49m\u001B[43m,\u001B[49m\u001B[43m \u001B[49m\u001B[43msort_topics\u001B[49m\u001B[38;5;241;43m=\u001B[39;49m\u001B[38;5;28;43;01mFalse\u001B[39;49;00m\u001B[43m)\u001B[49m\n",
      "File \u001B[1;32m~\\anaconda3\\lib\\site-packages\\pyLDAvis\\lda_model.py:95\u001B[0m, in \u001B[0;36mprepare\u001B[1;34m(lda_model, dtm, vectorizer, **kwargs)\u001B[0m\n\u001B[0;32m     63\u001B[0m \u001B[38;5;250m\u001B[39m\u001B[38;5;124;03m\"\"\"Create Prepared Data from sklearn's LatentDirichletAllocation and CountVectorizer.\u001B[39;00m\n\u001B[0;32m     64\u001B[0m \n\u001B[0;32m     65\u001B[0m \u001B[38;5;124;03mParameters\u001B[39;00m\n\u001B[1;32m   (...)\u001B[0m\n\u001B[0;32m     92\u001B[0m \u001B[38;5;124;03mSee `pyLDAvis.prepare` for **kwargs.\u001B[39;00m\n\u001B[0;32m     93\u001B[0m \u001B[38;5;124;03m\"\"\"\u001B[39;00m\n\u001B[0;32m     94\u001B[0m opts \u001B[38;5;241m=\u001B[39m fp\u001B[38;5;241m.\u001B[39mmerge(_extract_data(lda_model, dtm, vectorizer), kwargs)\n\u001B[1;32m---> 95\u001B[0m \u001B[38;5;28;01mreturn\u001B[39;00m \u001B[43mpyLDAvis\u001B[49m\u001B[38;5;241;43m.\u001B[39;49m\u001B[43mprepare\u001B[49m\u001B[43m(\u001B[49m\u001B[38;5;241;43m*\u001B[39;49m\u001B[38;5;241;43m*\u001B[39;49m\u001B[43mopts\u001B[49m\u001B[43m)\u001B[49m\n",
      "File \u001B[1;32m~\\anaconda3\\lib\\site-packages\\pyLDAvis\\_prepare.py:432\u001B[0m, in \u001B[0;36mprepare\u001B[1;34m(topic_term_dists, doc_topic_dists, doc_lengths, vocab, term_frequency, R, lambda_step, mds, n_jobs, plot_opts, sort_topics, start_index)\u001B[0m\n\u001B[0;32m    426\u001B[0m \u001B[38;5;66;03m# Quick fix for red bar width bug.  We calculate the\u001B[39;00m\n\u001B[0;32m    427\u001B[0m \u001B[38;5;66;03m# term frequencies internally, using the topic term distributions and the\u001B[39;00m\n\u001B[0;32m    428\u001B[0m \u001B[38;5;66;03m# topic frequencies, rather than using the user-supplied term frequencies.\u001B[39;00m\n\u001B[0;32m    429\u001B[0m \u001B[38;5;66;03m# For a detailed discussion, see: https://github.com/cpsievert/LDAvis/pull/41\u001B[39;00m\n\u001B[0;32m    430\u001B[0m term_frequency \u001B[38;5;241m=\u001B[39m np\u001B[38;5;241m.\u001B[39msum(term_topic_freq, axis\u001B[38;5;241m=\u001B[39m\u001B[38;5;241m0\u001B[39m)\n\u001B[1;32m--> 432\u001B[0m topic_info \u001B[38;5;241m=\u001B[39m \u001B[43m_topic_info\u001B[49m\u001B[43m(\u001B[49m\u001B[43mtopic_term_dists\u001B[49m\u001B[43m,\u001B[49m\u001B[43m \u001B[49m\u001B[43mtopic_proportion\u001B[49m\u001B[43m,\u001B[49m\n\u001B[0;32m    433\u001B[0m \u001B[43m                         \u001B[49m\u001B[43mterm_frequency\u001B[49m\u001B[43m,\u001B[49m\u001B[43m \u001B[49m\u001B[43mterm_topic_freq\u001B[49m\u001B[43m,\u001B[49m\u001B[43m \u001B[49m\u001B[43mvocab\u001B[49m\u001B[43m,\u001B[49m\u001B[43m \u001B[49m\u001B[43mlambda_step\u001B[49m\u001B[43m,\u001B[49m\u001B[43m \u001B[49m\u001B[43mR\u001B[49m\u001B[43m,\u001B[49m\n\u001B[0;32m    434\u001B[0m \u001B[43m                         \u001B[49m\u001B[43mn_jobs\u001B[49m\u001B[43m,\u001B[49m\u001B[43m \u001B[49m\u001B[43mstart_index\u001B[49m\u001B[43m)\u001B[49m\n\u001B[0;32m    435\u001B[0m token_table \u001B[38;5;241m=\u001B[39m _token_table(topic_info, term_topic_freq, vocab, term_frequency, start_index)\n\u001B[0;32m    436\u001B[0m topic_coordinates \u001B[38;5;241m=\u001B[39m _topic_coordinates(mds, topic_term_dists, topic_proportion, start_index)\n",
      "File \u001B[1;32m~\\anaconda3\\lib\\site-packages\\pyLDAvis\\_prepare.py:243\u001B[0m, in \u001B[0;36m_topic_info\u001B[1;34m(topic_term_dists, topic_proportion, term_frequency, term_topic_freq, vocab, lambda_step, R, n_jobs, start_index)\u001B[0m\n\u001B[0;32m    236\u001B[0m \u001B[38;5;66;03m# Order the terms for the \"default\" view by decreasing saliency:\u001B[39;00m\n\u001B[0;32m    237\u001B[0m default_term_info \u001B[38;5;241m=\u001B[39m pd\u001B[38;5;241m.\u001B[39mDataFrame({\n\u001B[0;32m    238\u001B[0m     \u001B[38;5;124m'\u001B[39m\u001B[38;5;124msaliency\u001B[39m\u001B[38;5;124m'\u001B[39m: saliency,\n\u001B[0;32m    239\u001B[0m     \u001B[38;5;124m'\u001B[39m\u001B[38;5;124mTerm\u001B[39m\u001B[38;5;124m'\u001B[39m: vocab,\n\u001B[0;32m    240\u001B[0m     \u001B[38;5;124m'\u001B[39m\u001B[38;5;124mFreq\u001B[39m\u001B[38;5;124m'\u001B[39m: term_frequency,\n\u001B[0;32m    241\u001B[0m     \u001B[38;5;124m'\u001B[39m\u001B[38;5;124mTotal\u001B[39m\u001B[38;5;124m'\u001B[39m: term_frequency,\n\u001B[0;32m    242\u001B[0m     \u001B[38;5;124m'\u001B[39m\u001B[38;5;124mCategory\u001B[39m\u001B[38;5;124m'\u001B[39m: \u001B[38;5;124m'\u001B[39m\u001B[38;5;124mDefault\u001B[39m\u001B[38;5;124m'\u001B[39m})\n\u001B[1;32m--> 243\u001B[0m default_term_info \u001B[38;5;241m=\u001B[39m \u001B[43mdefault_term_info\u001B[49m\u001B[38;5;241;43m.\u001B[39;49m\u001B[43msort_values\u001B[49m\u001B[43m(\u001B[49m\n\u001B[0;32m    244\u001B[0m \u001B[43m    \u001B[49m\u001B[43mby\u001B[49m\u001B[38;5;241;43m=\u001B[39;49m\u001B[38;5;124;43m'\u001B[39;49m\u001B[38;5;124;43msaliency\u001B[39;49m\u001B[38;5;124;43m'\u001B[39;49m\u001B[43m,\u001B[49m\u001B[43m \u001B[49m\u001B[43mascending\u001B[49m\u001B[38;5;241;43m=\u001B[39;49m\u001B[38;5;28;43;01mFalse\u001B[39;49;00m\u001B[43m)\u001B[49m\u001B[38;5;241;43m.\u001B[39;49m\u001B[43mhead\u001B[49m\u001B[43m(\u001B[49m\u001B[43mR\u001B[49m\u001B[43m)\u001B[49m\u001B[38;5;241;43m.\u001B[39;49m\u001B[43mdrop\u001B[49m\u001B[43m(\u001B[49m\u001B[38;5;124;43m'\u001B[39;49m\u001B[38;5;124;43msaliency\u001B[39;49m\u001B[38;5;124;43m'\u001B[39;49m\u001B[43m,\u001B[49m\u001B[43m \u001B[49m\u001B[38;5;241;43m1\u001B[39;49m\u001B[43m)\u001B[49m\n\u001B[0;32m    245\u001B[0m \u001B[38;5;66;03m# Rounding Freq and Total to integer values to match LDAvis code:\u001B[39;00m\n\u001B[0;32m    246\u001B[0m default_term_info[\u001B[38;5;124m'\u001B[39m\u001B[38;5;124mFreq\u001B[39m\u001B[38;5;124m'\u001B[39m] \u001B[38;5;241m=\u001B[39m np\u001B[38;5;241m.\u001B[39mfloor(default_term_info[\u001B[38;5;124m'\u001B[39m\u001B[38;5;124mFreq\u001B[39m\u001B[38;5;124m'\u001B[39m])\n",
      "\u001B[1;31mTypeError\u001B[0m: drop() takes from 1 to 2 positional arguments but 3 were given"
     ]
    }
   ],
   "source": [
    "lda_display = pyLDAvis.lda_model.prepare(lda_text_model, X_count_vectors, count, sort_topics=False)"
   ]
  },
  {
   "cell_type": "code",
   "execution_count": null,
   "metadata": {
    "ExecuteTime": {
     "start_time": "2023-06-22T06:09:17.243911100Z"
    }
   },
   "outputs": [],
   "source": [
    "pyLDAvis.display(lda_display)"
   ]
  },
  {
   "cell_type": "code",
   "execution_count": 30,
   "metadata": {
    "ExecuteTime": {
     "end_time": "2023-06-22T06:09:34.884356600Z",
     "start_time": "2023-06-22T06:09:34.857318400Z"
    }
   },
   "outputs": [],
   "source": [
    "with open('../models/lda_model.pkl', 'wb') as file:\n",
    "    pickle.dump(lda_text_model, file)\n",
    "\n",
    "with open('../models/count_vect.pkl', 'wb') as file:\n",
    "    pickle.dump(count, file)"
   ]
  }
 ],
 "metadata": {
  "kernelspec": {
   "display_name": "Python 3 (ipykernel)",
   "language": "python",
   "name": "python3"
  },
  "language_info": {
   "codemirror_mode": {
    "name": "ipython",
    "version": 3
   },
   "file_extension": ".py",
   "mimetype": "text/x-python",
   "name": "python",
   "nbconvert_exporter": "python",
   "pygments_lexer": "ipython3",
   "version": "3.9.16"
  }
 },
 "nbformat": 4,
 "nbformat_minor": 0
}
