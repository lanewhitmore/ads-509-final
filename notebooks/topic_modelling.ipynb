{
 "cells": [
  {
   "cell_type": "code",
   "execution_count": 1,
   "metadata": {
    "ExecuteTime": {
     "end_time": "2023-06-12T02:57:09.738060Z",
     "start_time": "2023-06-12T02:57:09.710653Z"
    },
    "collapsed": true
   },
   "outputs": [],
   "source": [
    "import os\n",
    "import pandas as pd\n",
    "import numpy as np\n",
    "import seaborn as sns\n",
    "\n",
    "\n",
    "import sys\n",
    "import functions.token_functions as tf\n",
    "import spacy\n",
    "import pickle\n",
    "from sklearn.model_selection import train_test_split\n",
    "from sklearn.feature_extraction.text import TfidfVectorizer, CountVectorizer\n",
    "from sklearn.decomposition import NMF, TruncatedSVD, LatentDirichletAllocation\n",
    "from sklearn.svm import LinearSVC\n",
    "from nltk.corpus import stopwords\n",
    "from collections import defaultdict\n",
    "import pyLDAvis\n",
    "import pyLDAvis.lda_model\n",
    "import pyLDAvis.gensim_models"
   ]
  },
  {
   "cell_type": "code",
   "execution_count": 2,
   "metadata": {
    "ExecuteTime": {
     "end_time": "2023-06-12T02:57:10.159974Z",
     "start_time": "2023-06-12T02:57:09.738361Z"
    },
    "collapsed": false
   },
   "outputs": [],
   "source": [
    "nlp = spacy.load('en_core_web_sm')\n",
    "sw = stopwords.words(\"english\")"
   ]
  },
  {
   "cell_type": "code",
   "execution_count": 3,
   "metadata": {
    "ExecuteTime": {
     "end_time": "2023-06-12T02:57:10.224662Z",
     "start_time": "2023-06-12T02:57:10.162326Z"
    },
    "collapsed": false
   },
   "outputs": [],
   "source": [
    "# Create an empty list to store the review dataframes\n",
    "df_list = []\n",
    "csv_files = os.listdir('../data/games',)\n",
    "\n",
    "# Iterate over each file in the folder\n",
    "for file in csv_files:\n",
    "    # Read the CSV file into a datadrame\n",
    "    df = pd.read_csv('../data/games/'+file, index_col=0)\n",
    "\n",
    "    # Append the dataframe to the list\n",
    "    df_list.append(df)\n",
    "\n",
    "# Combine the dataframes into a single dataframe\n",
    "games_df = pd.concat(df_list, ignore_index=True)\n"
   ]
  },
  {
   "cell_type": "code",
   "execution_count": 4,
   "metadata": {},
   "outputs": [],
   "source": [
    "# Create an empty list to store the review dataframes\n",
    "df_list = []\n",
    "csv_files = os.listdir('../data/books',)\n",
    "\n",
    "# Iterate over each file in the folder\n",
    "for file in csv_files:\n",
    "    # Read the CSV file into a datadrame\n",
    "    df = pd.read_csv('../data/books/'+file, index_col=0)\n",
    "\n",
    "    # Append the dataframe to the list\n",
    "    df_list.append(df)\n",
    "\n",
    "# Combine the dataframes into a single dataframe\n",
    "books_df = pd.concat(df_list, ignore_index=True)"
   ]
  },
  {
   "cell_type": "code",
   "execution_count": 5,
   "metadata": {},
   "outputs": [],
   "source": [
    "# Create an empty list to store the review dataframes\n",
    "df_list = []\n",
    "csv_files = os.listdir('../data/movies',)\n",
    "\n",
    "# Iterate over each file in the folder\n",
    "for file in csv_files:\n",
    "    # Read the CSV file into a datadrame\n",
    "    df = pd.read_csv('../data/movies/'+file, index_col=0)\n",
    "\n",
    "    # Append the dataframe to the list\n",
    "    df_list.append(df)\n",
    "\n",
    "# Combine the dataframes into a single dataframe\n",
    "movies_df = pd.concat(df_list, ignore_index=True)"
   ]
  },
  {
   "cell_type": "code",
   "execution_count": 6,
   "metadata": {},
   "outputs": [],
   "source": [
    "movies_df.rename({'movie_title': 'title'}, axis = 1, inplace = True)\n",
    "books_df.rename({'movie_title': 'title'}, axis = 1, inplace = True)\n",
    "games_df.rename({'game_title': 'title'}, axis = 1, inplace = True)"
   ]
  },
  {
   "cell_type": "code",
   "execution_count": 7,
   "metadata": {},
   "outputs": [
    {
     "data": {
      "text/html": [
       "<div>\n",
       "<style scoped>\n",
       "    .dataframe tbody tr th:only-of-type {\n",
       "        vertical-align: middle;\n",
       "    }\n",
       "\n",
       "    .dataframe tbody tr th {\n",
       "        vertical-align: top;\n",
       "    }\n",
       "\n",
       "    .dataframe thead th {\n",
       "        text-align: right;\n",
       "    }\n",
       "</style>\n",
       "<table border=\"1\" class=\"dataframe\">\n",
       "  <thead>\n",
       "    <tr style=\"text-align: right;\">\n",
       "      <th></th>\n",
       "      <th>name</th>\n",
       "      <th>title</th>\n",
       "      <th>review_title</th>\n",
       "      <th>review</th>\n",
       "      <th>rating</th>\n",
       "      <th>date_place</th>\n",
       "    </tr>\n",
       "  </thead>\n",
       "  <tbody>\n",
       "    <tr>\n",
       "      <th>0</th>\n",
       "      <td>Not bad at all</td>\n",
       "      <td>2 Fast 2 Furious</td>\n",
       "      <td>Love this movie</td>\n",
       "      <td>Truly one of my faves. It’s a must watch if yo...</td>\n",
       "      <td>5.0</td>\n",
       "      <td>Reviewed in the United States 🇺🇸 on May 11, 2023</td>\n",
       "    </tr>\n",
       "    <tr>\n",
       "      <th>1</th>\n",
       "      <td>Coleman</td>\n",
       "      <td>2 Fast 2 Furious</td>\n",
       "      <td>Fast n furious</td>\n",
       "      <td>I LOVE ALL THEIR MOVIES LOL</td>\n",
       "      <td>5.0</td>\n",
       "      <td>Reviewed in the United States 🇺🇸 on May 16, 2023</td>\n",
       "    </tr>\n",
       "    <tr>\n",
       "      <th>2</th>\n",
       "      <td>Jack Pocock</td>\n",
       "      <td>2 Fast 2 Furious</td>\n",
       "      <td>American Masterpiece</td>\n",
       "      <td>If you didn't enjoy this movie--- you're wrong...</td>\n",
       "      <td>5.0</td>\n",
       "      <td>Reviewed in the United States 🇺🇸 on April 28, ...</td>\n",
       "    </tr>\n",
       "    <tr>\n",
       "      <th>3</th>\n",
       "      <td>Tina</td>\n",
       "      <td>2 Fast 2 Furious</td>\n",
       "      <td>Satisfied</td>\n",
       "      <td>Kids love these movies</td>\n",
       "      <td>5.0</td>\n",
       "      <td>Reviewed in the United States 🇺🇸 on April 25, ...</td>\n",
       "    </tr>\n",
       "    <tr>\n",
       "      <th>4</th>\n",
       "      <td>N.Maletich</td>\n",
       "      <td>2 Fast 2 Furious</td>\n",
       "      <td>Classic</td>\n",
       "      <td>Will always live in my heart forever and be on...</td>\n",
       "      <td>5.0</td>\n",
       "      <td>Reviewed in the United States 🇺🇸 on March 22, ...</td>\n",
       "    </tr>\n",
       "  </tbody>\n",
       "</table>\n",
       "</div>"
      ],
      "text/plain": [
       "             name             title          review_title  \\\n",
       "0  Not bad at all  2 Fast 2 Furious       Love this movie   \n",
       "1         Coleman  2 Fast 2 Furious        Fast n furious   \n",
       "2     Jack Pocock  2 Fast 2 Furious  American Masterpiece   \n",
       "3            Tina  2 Fast 2 Furious             Satisfied   \n",
       "4      N.Maletich  2 Fast 2 Furious               Classic   \n",
       "\n",
       "                                              review  rating  \\\n",
       "0  Truly one of my faves. It’s a must watch if yo...     5.0   \n",
       "1                        I LOVE ALL THEIR MOVIES LOL     5.0   \n",
       "2  If you didn't enjoy this movie--- you're wrong...     5.0   \n",
       "3                             Kids love these movies     5.0   \n",
       "4  Will always live in my heart forever and be on...     5.0   \n",
       "\n",
       "                                          date_place  \n",
       "0   Reviewed in the United States 🇺🇸 on May 11, 2023  \n",
       "1   Reviewed in the United States 🇺🇸 on May 16, 2023  \n",
       "2  Reviewed in the United States 🇺🇸 on April 28, ...  \n",
       "3  Reviewed in the United States 🇺🇸 on April 25, ...  \n",
       "4  Reviewed in the United States 🇺🇸 on March 22, ...  "
      ]
     },
     "execution_count": 7,
     "metadata": {},
     "output_type": "execute_result"
    }
   ],
   "source": [
    "all_df = pd.concat([movies_df, books_df, games_df], axis = 0)\n",
    "all_df.head()"
   ]
  },
  {
   "cell_type": "code",
   "execution_count": 8,
   "metadata": {
    "ExecuteTime": {
     "end_time": "2023-06-12T02:57:15.387113Z",
     "start_time": "2023-06-12T02:57:10.226709Z"
    },
    "collapsed": false
   },
   "outputs": [],
   "source": [
    "# drop values\n",
    "all_df = all_df.dropna()\n",
    "\n",
    "# drop non english reviews\n",
    "all_df['lang'] = all_df['review'].apply(tf.detect_language)\n",
    "\n",
    "all_df = all_df.query('lang == \"en\"')\n"
   ]
  },
  {
   "cell_type": "code",
   "execution_count": 9,
   "metadata": {
    "ExecuteTime": {
     "end_time": "2023-06-12T02:57:15.539208Z",
     "start_time": "2023-06-12T02:57:15.450267Z"
    },
    "collapsed": false
   },
   "outputs": [],
   "source": [
    "all_df['review_tokens'] = all_df['review'].apply(tf.clean_tokenize)\n",
    "all_df['review_title_tokens'] = all_df['review_title'].apply(tf.clean_tokenize)"
   ]
  },
  {
   "cell_type": "code",
   "execution_count": 10,
   "metadata": {
    "ExecuteTime": {
     "end_time": "2023-06-12T02:57:15.544073Z",
     "start_time": "2023-06-12T02:57:15.539964Z"
    },
    "collapsed": false
   },
   "outputs": [
    {
     "data": {
      "text/plain": [
       "rating\n",
       "1.0     6480\n",
       "2.0     3899\n",
       "3.0     6465\n",
       "4.0    12788\n",
       "5.0    91508\n",
       "Name: review, dtype: int64"
      ]
     },
     "execution_count": 10,
     "metadata": {},
     "output_type": "execute_result"
    }
   ],
   "source": [
    "all_df.groupby(['rating'])['review'].count()"
   ]
  },
  {
   "cell_type": "code",
   "execution_count": 11,
   "metadata": {
    "ExecuteTime": {
     "end_time": "2023-06-12T02:57:15.548314Z",
     "start_time": "2023-06-12T02:57:15.546638Z"
    },
    "collapsed": false
   },
   "outputs": [],
   "source": [
    "all_df['sentiment'] = 0\n",
    "all_df.loc[all_df['rating']>3, 'sentiment'] = 1\n",
    "all_df.loc[all_df['rating']<=3, 'sentiment'] = 0"
   ]
  },
  {
   "cell_type": "code",
   "execution_count": 12,
   "metadata": {
    "ExecuteTime": {
     "end_time": "2023-06-12T02:57:15.743882Z",
     "start_time": "2023-06-12T02:57:15.549714Z"
    },
    "collapsed": false
   },
   "outputs": [
    {
     "data": {
      "text/plain": [
       "<AxesSubplot:xlabel='sentiment', ylabel='count'>"
      ]
     },
     "execution_count": 12,
     "metadata": {},
     "output_type": "execute_result"
    },
    {
     "data": {
      "image/png": "[encoded data removed]",
      "text/plain": [
       "<Figure size 640x480 with 1 Axes>"
      ]
     },
     "metadata": {},
     "output_type": "display_data"
    }
   ],
   "source": [
    "sns.countplot(x=all_df['sentiment'])"
   ]
  },
  {
   "attachments": {},
   "cell_type": "markdown",
   "metadata": {
    "collapsed": false
   },
   "source": [
    "## Split Data"
   ]
  },
  {
   "cell_type": "code",
   "execution_count": 13,
   "metadata": {
    "ExecuteTime": {
     "end_time": "2023-06-12T02:57:15.755919Z",
     "start_time": "2023-06-12T02:57:15.752391Z"
    },
    "collapsed": false
   },
   "outputs": [],
   "source": [
    "X_train, X_test, y_train, y_test = train_test_split(all_df['review'], all_df['sentiment'], test_size=0.20, random_state=10, stratify=all_df['sentiment'])"
   ]
  },
  {
   "cell_type": "code",
   "execution_count": 14,
   "metadata": {
    "ExecuteTime": {
     "end_time": "2023-06-12T02:57:15.759840Z",
     "start_time": "2023-06-12T02:57:15.757105Z"
    },
    "collapsed": false
   },
   "outputs": [
    {
     "name": "stdout",
     "output_type": "stream",
     "text": [
      "Size of Training Data  96912\n",
      "Size of Test Data  24228\n",
      "Distribution of classes in Training Data :\n",
      "Positive Sentiment  86.09563315172528\n",
      "Negative Sentiment  13.904366848274725\n",
      "Distribution of classes in Testing Data :\n",
      "Positive Sentiment  86.09460128776622\n",
      "Negative Sentiment  13.90539871223378\n"
     ]
    }
   ],
   "source": [
    "tf.sentiment_stats(X_train, X_test, y_train, y_test)"
   ]
  },
  {
   "attachments": {},
   "cell_type": "markdown",
   "metadata": {
    "collapsed": false
   },
   "source": [
    "## Vectorize Data"
   ]
  },
  {
   "cell_type": "code",
   "execution_count": 15,
   "metadata": {},
   "outputs": [],
   "source": [
    "count = CountVectorizer(min_df = 10, ngram_range=(1,1), stop_words=sw)\n",
    "X_count_vectors = count.fit_transform(all_df['review'])\n",
    "\n",
    "idf = TfidfVectorizer(min_df = 10, ngram_range=(1,1), stop_words=sw)\n",
    "X_tfidf_vectors = idf.fit_transform(all_df['review'])"
   ]
  },
  {
   "cell_type": "code",
   "execution_count": 16,
   "metadata": {
    "ExecuteTime": {
     "end_time": "2023-06-12T02:57:15.808529Z",
     "start_time": "2023-06-12T02:57:15.772785Z"
    },
    "collapsed": false
   },
   "outputs": [],
   "source": [
    "tfidf = TfidfVectorizer(min_df = 10, ngram_range=(1,1), stop_words=sw)\n",
    "X_train_tf = tfidf.fit_transform(X_train)\n",
    "X_test_tf = tfidf.transform(X_test)"
   ]
  },
  {
   "attachments": {},
   "cell_type": "markdown",
   "metadata": {
    "collapsed": false
   },
   "source": [
    "## Train Sentiment Model"
   ]
  },
  {
   "cell_type": "code",
   "execution_count": 17,
   "metadata": {
    "ExecuteTime": {
     "end_time": "2023-06-12T02:57:15.816128Z",
     "start_time": "2023-06-12T02:57:15.809077Z"
    },
    "collapsed": false
   },
   "outputs": [
    {
     "data": {
      "text/html": [
       "<style>#sk-container-id-1 {color: black;background-color: white;}#sk-container-id-1 pre{padding: 0;}#sk-container-id-1 div.sk-toggleable {background-color: white;}#sk-container-id-1 label.sk-toggleable__label {cursor: pointer;display: block;width: 100%;margin-bottom: 0;padding: 0.3em;box-sizing: border-box;text-align: center;}#sk-container-id-1 label.sk-toggleable__label-arrow:before {content: \"▸\";float: left;margin-right: 0.25em;color: #696969;}#sk-container-id-1 label.sk-toggleable__label-arrow:hover:before {color: black;}#sk-container-id-1 div.sk-estimator:hover label.sk-toggleable__label-arrow:before {color: black;}#sk-container-id-1 div.sk-toggleable__content {max-height: 0;max-width: 0;overflow: hidden;text-align: left;background-color: #f0f8ff;}#sk-container-id-1 div.sk-toggleable__content pre {margin: 0.2em;color: black;border-radius: 0.25em;background-color: #f0f8ff;}#sk-container-id-1 input.sk-toggleable__control:checked~div.sk-toggleable__content {max-height: 200px;max-width: 100%;overflow: auto;}#sk-container-id-1 input.sk-toggleable__control:checked~label.sk-toggleable__label-arrow:before {content: \"▾\";}#sk-container-id-1 div.sk-estimator input.sk-toggleable__control:checked~label.sk-toggleable__label {background-color: #d4ebff;}#sk-container-id-1 div.sk-label input.sk-toggleable__control:checked~label.sk-toggleable__label {background-color: #d4ebff;}#sk-container-id-1 input.sk-hidden--visually {border: 0;clip: rect(1px 1px 1px 1px);clip: rect(1px, 1px, 1px, 1px);height: 1px;margin: -1px;overflow: hidden;padding: 0;position: absolute;width: 1px;}#sk-container-id-1 div.sk-estimator {font-family: monospace;background-color: #f0f8ff;border: 1px dotted black;border-radius: 0.25em;box-sizing: border-box;margin-bottom: 0.5em;}#sk-container-id-1 div.sk-estimator:hover {background-color: #d4ebff;}#sk-container-id-1 div.sk-parallel-item::after {content: \"\";width: 100%;border-bottom: 1px solid gray;flex-grow: 1;}#sk-container-id-1 div.sk-label:hover label.sk-toggleable__label {background-color: #d4ebff;}#sk-container-id-1 div.sk-serial::before {content: \"\";position: absolute;border-left: 1px solid gray;box-sizing: border-box;top: 0;bottom: 0;left: 50%;z-index: 0;}#sk-container-id-1 div.sk-serial {display: flex;flex-direction: column;align-items: center;background-color: white;padding-right: 0.2em;padding-left: 0.2em;position: relative;}#sk-container-id-1 div.sk-item {position: relative;z-index: 1;}#sk-container-id-1 div.sk-parallel {display: flex;align-items: stretch;justify-content: center;background-color: white;position: relative;}#sk-container-id-1 div.sk-item::before, #sk-container-id-1 div.sk-parallel-item::before {content: \"\";position: absolute;border-left: 1px solid gray;box-sizing: border-box;top: 0;bottom: 0;left: 50%;z-index: -1;}#sk-container-id-1 div.sk-parallel-item {display: flex;flex-direction: column;z-index: 1;position: relative;background-color: white;}#sk-container-id-1 div.sk-parallel-item:first-child::after {align-self: flex-end;width: 50%;}#sk-container-id-1 div.sk-parallel-item:last-child::after {align-self: flex-start;width: 50%;}#sk-container-id-1 div.sk-parallel-item:only-child::after {width: 0;}#sk-container-id-1 div.sk-dashed-wrapped {border: 1px dashed gray;margin: 0 0.4em 0.5em 0.4em;box-sizing: border-box;padding-bottom: 0.4em;background-color: white;}#sk-container-id-1 div.sk-label label {font-family: monospace;font-weight: bold;display: inline-block;line-height: 1.2em;}#sk-container-id-1 div.sk-label-container {text-align: center;}#sk-container-id-1 div.sk-container {/* jupyter's `normalize.less` sets `[hidden] { display: none; }` but bootstrap.min.css set `[hidden] { display: none !important; }` so we also need the `!important` here to be able to override the default hidden behavior on the sphinx rendered scikit-learn.org. See: https://github.com/scikit-learn/scikit-learn/issues/21755 */display: inline-block !important;position: relative;}#sk-container-id-1 div.sk-text-repr-fallback {display: none;}</style><div id=\"sk-container-id-1\" class=\"sk-top-container\"><div class=\"sk-text-repr-fallback\"><pre>LinearSVC(random_state=10, tol=1e-05)</pre><b>In a Jupyter environment, please rerun this cell to show the HTML representation or trust the notebook. <br />On GitHub, the HTML representation is unable to render, please try loading this page with nbviewer.org.</b></div><div class=\"sk-container\" hidden><div class=\"sk-item\"><div class=\"sk-estimator sk-toggleable\"><input class=\"sk-toggleable__control sk-hidden--visually\" id=\"sk-estimator-id-1\" type=\"checkbox\" checked><label for=\"sk-estimator-id-1\" class=\"sk-toggleable__label sk-toggleable__label-arrow\">LinearSVC</label><div class=\"sk-toggleable__content\"><pre>LinearSVC(random_state=10, tol=1e-05)</pre></div></div></div></div></div>"
      ],
      "text/plain": [
       "LinearSVC(random_state=10, tol=1e-05)"
      ]
     },
     "execution_count": 17,
     "metadata": {},
     "output_type": "execute_result"
    }
   ],
   "source": [
    "svc_model = LinearSVC(random_state=10, tol=1e-5)\n",
    "svc_model.fit(X_train_tf, y_train)"
   ]
  },
  {
   "cell_type": "code",
   "execution_count": 18,
   "metadata": {
    "ExecuteTime": {
     "end_time": "2023-06-12T02:57:15.833247Z",
     "start_time": "2023-06-12T02:57:15.817922Z"
    },
    "collapsed": false
   },
   "outputs": [
    {
     "name": "stdout",
     "output_type": "stream",
     "text": [
      "Accuracy Score -  0.9264074624401519\n",
      "ROC-AUC Score -  0.8022065168339498\n"
     ]
    }
   ],
   "source": [
    "from sklearn.metrics import accuracy_score\n",
    "from sklearn.metrics import roc_auc_score\n",
    "y_pred = svc_model.predict(X_test_tf)\n",
    "print ('Accuracy Score - ', accuracy_score(y_test, y_pred))\n",
    "print ('ROC-AUC Score - ', roc_auc_score(y_test, y_pred))"
   ]
  },
  {
   "attachments": {},
   "cell_type": "markdown",
   "metadata": {
    "collapsed": false
   },
   "source": [
    "## Sample Predictions"
   ]
  },
  {
   "cell_type": "code",
   "execution_count": 19,
   "metadata": {
    "ExecuteTime": {
     "end_time": "2023-06-12T02:57:15.842400Z",
     "start_time": "2023-06-12T02:57:15.833077Z"
    },
    "collapsed": false
   },
   "outputs": [
    {
     "name": "stdout",
     "output_type": "stream",
     "text": [
      "Some sample reviews with their sentiment - \n"
     ]
    },
    {
     "data": {
      "text/html": [
       "<div>\n",
       "<style scoped>\n",
       "    .dataframe tbody tr th:only-of-type {\n",
       "        vertical-align: middle;\n",
       "    }\n",
       "\n",
       "    .dataframe tbody tr th {\n",
       "        vertical-align: top;\n",
       "    }\n",
       "\n",
       "    .dataframe thead th {\n",
       "        text-align: right;\n",
       "    }\n",
       "</style>\n",
       "<table border=\"1\" class=\"dataframe\">\n",
       "  <thead>\n",
       "    <tr style=\"text-align: right;\">\n",
       "      <th></th>\n",
       "      <th>review</th>\n",
       "      <th>sentiment_prediction</th>\n",
       "    </tr>\n",
       "  </thead>\n",
       "  <tbody>\n",
       "    <tr>\n",
       "      <th>452</th>\n",
       "      <td>Someone already bought for Christmas gift</td>\n",
       "      <td>1</td>\n",
       "    </tr>\n",
       "    <tr>\n",
       "      <th>1026</th>\n",
       "      <td>Underrated Gem - One of the Best Superhero Gam...</td>\n",
       "      <td>1</td>\n",
       "    </tr>\n",
       "    <tr>\n",
       "      <th>1035</th>\n",
       "      <td>A really fun and refreshing superhero game - n...</td>\n",
       "      <td>1</td>\n",
       "    </tr>\n",
       "    <tr>\n",
       "      <th>475</th>\n",
       "      <td>I bought this for my grandsons for their bday ...</td>\n",
       "      <td>1</td>\n",
       "    </tr>\n",
       "    <tr>\n",
       "      <th>132</th>\n",
       "      <td>I’m writing this review 10 hours into the game...</td>\n",
       "      <td>1</td>\n",
       "    </tr>\n",
       "  </tbody>\n",
       "</table>\n",
       "</div>"
      ],
      "text/plain": [
       "                                                 review  sentiment_prediction\n",
       "452           Someone already bought for Christmas gift                     1\n",
       "1026  Underrated Gem - One of the Best Superhero Gam...                     1\n",
       "1035  A really fun and refreshing superhero game - n...                     1\n",
       "475   I bought this for my grandsons for their bday ...                     1\n",
       "132   I’m writing this review 10 hours into the game...                     1"
      ]
     },
     "execution_count": 19,
     "metadata": {},
     "output_type": "execute_result"
    }
   ],
   "source": [
    "sample_reviews = games_df.sample(5)\n",
    "sample_reviews_tf = tfidf.transform(sample_reviews['review'])\n",
    "sentiment_predictions = svc_model.predict(sample_reviews_tf)\n",
    "sentiment_predictions = pd.DataFrame(data = sentiment_predictions,\n",
    "                                     index=sample_reviews.index,\n",
    "                                     columns=['sentiment_prediction'])\n",
    "sample_reviews = pd.concat([sample_reviews, sentiment_predictions], axis=1)\n",
    "print ('Some sample reviews with their sentiment - ')\n",
    "sample_reviews[['review','sentiment_prediction']]"
   ]
  },
  {
   "attachments": {},
   "cell_type": "markdown",
   "metadata": {
    "collapsed": false
   },
   "source": [
    "## Pickle Models"
   ]
  },
  {
   "cell_type": "code",
   "execution_count": 20,
   "metadata": {
    "ExecuteTime": {
     "end_time": "2023-06-12T02:57:15.855544Z",
     "start_time": "2023-06-12T02:57:15.836376Z"
    },
    "collapsed": false
   },
   "outputs": [],
   "source": [
    "with open('../models/svc_model.pkl', 'wb') as file:\n",
    "    pickle.dump(svc_model, file)\n",
    "\n",
    "with open('../models/tfidf.pkl', 'wb') as file:\n",
    "    pickle.dump(tfidf, file)"
   ]
  },
  {
   "attachments": {},
   "cell_type": "markdown",
   "metadata": {},
   "source": [
    "## Topic Modeling"
   ]
  },
  {
   "cell_type": "code",
   "execution_count": 32,
   "metadata": {},
   "outputs": [],
   "source": [
    "def display_topics(model, features, no_top_words=5):\n",
    "    for topic, words in enumerate(model.components_):\n",
    "        total = words.sum()\n",
    "        largest = words.argsort()[::-1] # invert sort order\n",
    "        print(\"\\nTopic %02d\" % topic)\n",
    "        print(topic)\n",
    "        for i in range(0, no_top_words):\n",
    "            print(\"  %s (%2.2f)\" % (features[largest[i]], abs(words[largest[i]]*100.0/total)))"
   ]
  },
  {
   "cell_type": "code",
   "execution_count": 22,
   "metadata": {},
   "outputs": [],
   "source": [
    "def topic_to_category(matrix, df):\n",
    "    topic_to_category = defaultdict(list)\n",
    "    for idx, row in enumerate(matrix) :\n",
    "        topic = np.where(row == np.amax(row))[0]\n",
    "        category = df[\"sentiment\"].iloc[idx]\n",
    "        sentiment = []\n",
    "        if category == 1:\n",
    "            sentiment.append(\"Positive\")\n",
    "        else:\n",
    "            sentiment.append(\"Negative\")\n",
    "        topic_to_category[topic[0]].append(sentiment)  \n",
    "    return topic_to_category"
   ]
  },
  {
   "attachments": {},
   "cell_type": "markdown",
   "metadata": {},
   "source": [
    "### NMF"
   ]
  },
  {
   "cell_type": "code",
   "execution_count": 23,
   "metadata": {},
   "outputs": [],
   "source": [
    "nmf_text_model = NMF(n_components=2, random_state=33)\n",
    "nmf_text_matrix = nmf_text_model.fit_transform(X_tfidf_vectors)\n",
    "c_text_matrix = nmf_text_model.components_"
   ]
  },
  {
   "cell_type": "code",
   "execution_count": 33,
   "metadata": {},
   "outputs": [
    {
     "name": "stdout",
     "output_type": "stream",
     "text": [
      "\n",
      "Topic 00\n",
      "0\n",
      "  book (2.41)\n",
      "  read (1.72)\n",
      "  love (1.22)\n",
      "  good (0.88)\n",
      "  one (0.81)\n",
      "  loved (0.81)\n",
      "  story (0.65)\n",
      "  put (0.65)\n",
      "  books (0.56)\n",
      "  reading (0.56)\n",
      "  recommend (0.50)\n",
      "  really (0.47)\n",
      "\n",
      "Topic 01\n",
      "1\n",
      "  great (27.50)\n",
      "  movie (12.33)\n",
      "  book (2.68)\n",
      "  family (2.16)\n",
      "  kids (1.72)\n",
      "  watch (1.51)\n",
      "  gift (1.05)\n",
      "  funny (0.91)\n",
      "  condition (0.89)\n",
      "  story (0.89)\n",
      "  read (0.66)\n",
      "  price (0.62)\n"
     ]
    }
   ],
   "source": [
    "display_topics(nmf_text_model, idf.get_feature_names_out(), 12)"
   ]
  },
  {
   "attachments": {},
   "cell_type": "markdown",
   "metadata": {},
   "source": [
    "### SVD"
   ]
  },
  {
   "cell_type": "code",
   "execution_count": 25,
   "metadata": {},
   "outputs": [],
   "source": [
    "svd_text_model = TruncatedSVD(n_components=2, random_state=33)\n",
    "svd_text_matrix = svd_text_model.fit_transform(X_tfidf_vectors)\n",
    "csvd_text_matrix = svd_text_model.components_"
   ]
  },
  {
   "cell_type": "code",
   "execution_count": 26,
   "metadata": {},
   "outputs": [
    {
     "name": "stdout",
     "output_type": "stream",
     "text": [
      "\n",
      "Topic 00\n",
      "  book (2.50)\n",
      "  great (1.83)\n",
      "  read (1.68)\n",
      "  love (1.16)\n",
      "  good (0.84)\n",
      "  loved (0.79)\n",
      "  movie (0.76)\n",
      "  one (0.74)\n",
      "  story (0.68)\n",
      "  put (0.60)\n",
      "  reading (0.52)\n",
      "  books (0.51)\n",
      "\n",
      "Topic 01\n",
      "  great (10.03)\n",
      "  movie (4.71)\n",
      "  family (0.74)\n",
      "  watch (0.51)\n",
      "  kids (0.49)\n",
      "  gift (0.27)\n",
      "  funny (0.27)\n",
      "  condition (0.26)\n",
      "  price (0.20)\n",
      "  quality (0.17)\n",
      "  watched (0.15)\n",
      "  animation (0.14)\n"
     ]
    }
   ],
   "source": [
    "display_topics(svd_text_model, idf.get_feature_names_out(), 12)"
   ]
  },
  {
   "attachments": {},
   "cell_type": "markdown",
   "metadata": {},
   "source": [
    "### LDA"
   ]
  },
  {
   "cell_type": "code",
   "execution_count": 27,
   "metadata": {},
   "outputs": [],
   "source": [
    "lda_text_model = LatentDirichletAllocation(n_components=2, random_state=33)\n",
    "lda_text_matrix = lda_text_model.fit_transform(X_count_vectors)\n",
    "clda_text_matrix = lda_text_model.components_"
   ]
  },
  {
   "cell_type": "code",
   "execution_count": 28,
   "metadata": {},
   "outputs": [
    {
     "name": "stdout",
     "output_type": "stream",
     "text": [
      "\n",
      "Topic 00\n",
      "  book (4.95)\n",
      "  read (2.97)\n",
      "  love (1.57)\n",
      "  story (1.47)\n",
      "  one (1.30)\n",
      "  loved (1.01)\n",
      "  reading (0.86)\n",
      "  good (0.83)\n",
      "  like (0.83)\n",
      "  books (0.77)\n",
      "  characters (0.75)\n",
      "  put (0.71)\n",
      "\n",
      "Topic 01\n",
      "  book (2.95)\n",
      "  movie (1.28)\n",
      "  great (1.15)\n",
      "  life (0.73)\n",
      "  good (0.66)\n",
      "  one (0.65)\n",
      "  read (0.64)\n",
      "  like (0.54)\n",
      "  people (0.52)\n",
      "  well (0.44)\n",
      "  time (0.43)\n",
      "  would (0.41)\n"
     ]
    }
   ],
   "source": [
    "display_topics(lda_text_model, count.get_feature_names_out(), 12)"
   ]
  },
  {
   "cell_type": "code",
   "execution_count": 29,
   "metadata": {},
   "outputs": [],
   "source": [
    "lda_display = pyLDAvis.lda_model.prepare(lda_text_model, X_count_vectors, count, sort_topics=False)"
   ]
  },
  {
   "cell_type": "code",
   "execution_count": 30,
   "metadata": {},
   "outputs": [
    {
     "data": {
      "text/html": [
       "\n",
       "<link rel=\"stylesheet\" type=\"text/css\" href=\"https://cdn.jsdelivr.net/gh/bmabey/pyLDAvis@3.4.0/pyLDAvis/js/ldavis.v1.0.0.css\">\n",
       "\n",
       "\n",
       "<div id=\"ldavis_el1268421386685658883776789439\" style=\"background-color:white;\"></div>\n",
       "<script type=\"text/javascript\">\n",
       "\n",
       "var ldavis_el1268421386685658883776789439_data = {\"mdsDat\": {\"x\": [0.10904753356594094, -0.10904753356594094], \"y\": [0.0, 0.0], \"topics\": [1, 2], \"cluster\": [1, 1], \"Freq\": [52.68415025274543, 47.31584974725458]}, \"tinfo\": {\"Term\": [\"movie\", \"read\", \"love\", \"loved\", \"put\", \"characters\", \"story\", \"colleen\", \"ending\", \"wait\", \"kids\", \"hoover\", \"money\", \"watch\", \"end\", \"habits\", \"gift\", \"reading\", \"history\", \"romance\", \"miles\", \"kept\", \"book\", \"trauma\", \"finished\", \"children\", \"books\", \"page\", \"twists\", \"power\", \"colleen\", \"romance\", \"twists\", \"tate\", \"evelyn\", \"naomi\", \"knox\", \"atlas\", \"hannah\", \"lucy\", \"lily\", \"zade\", \"verity\", \"hooked\", \"twist\", \"millie\", \"hugo\", \"cried\", \"owen\", \"monique\", \"freida\", \"mcfadden\", \"bailey\", \"housemaid\", \"adeline\", \"turner\", \"thriller\", \"guessing\", \"spice\", \"ryle\", \"ending\", \"finished\", \"wait\", \"ugly\", \"kept\", \"miles\", \"wow\", \"suspense\", \"turns\", \"put\", \"hoover\", \"characters\", \"loved\", \"finish\", \"sex\", \"page\", \"love\", \"read\", \"next\", \"end\", \"story\", \"felt\", \"definitely\", \"reading\", \"book\", \"books\", \"plot\", \"heart\", \"absolutely\", \"one\", \"first\", \"amazing\", \"could\", \"writing\", \"like\", \"really\", \"good\", \"recommend\", \"would\", \"much\", \"know\", \"author\", \"time\", \"great\", \"get\", \"way\", \"well\", \"want\", \"movie\", \"osage\", \"film\", \"laws\", \"power\", \"financial\", \"trauma\", \"movies\", \"agreements\", \"spider\", \"american\", \"law\", \"examples\", \"teachers\", \"graduation\", \"animation\", \"acting\", \"grann\", \"colors\", \"watched\", \"grandson\", \"native\", \"murders\", \"indians\", \"oklahoma\", \"animals\", \"ptsd\", \"cars\", \"teach\", \"americans\", \"watch\", \"money\", \"gift\", \"history\", \"game\", \"elizabeth\", \"children\", \"dr\", \"research\", \"classic\", \"price\", \"practical\", \"white\", \"advice\", \"kids\", \"habits\", \"son\", \"information\", \"rich\", \"use\", \"loves\", \"bought\", \"school\", \"people\", \"old\", \"life\", \"family\", \"great\", \"child\", \"simple\", \"help\", \"book\", \"year\", \"work\", \"years\", \"good\", \"new\", \"well\", \"many\", \"also\", \"one\", \"like\", \"time\", \"would\", \"make\", \"read\", \"get\", \"way\", \"much\", \"really\", \"story\", \"even\"], \"Freq\": [16728.0, 51706.0, 26181.0, 15695.0, 10704.0, 11476.0, 25759.0, 5937.0, 5218.0, 4941.0, 4389.0, 5065.0, 3575.0, 3527.0, 7985.0, 3814.0, 3292.0, 15403.0, 3206.0, 3630.0, 3876.0, 3826.0, 110627.0, 3001.0, 3521.0, 3126.0, 13844.0, 4936.0, 3245.0, 2772.0, 5936.972223315553, 3629.459210978788, 3245.368777424125, 2596.0283794984816, 2786.048935779437, 1693.2189669342183, 1673.4216345296752, 1882.2265298046202, 1421.9555784201525, 1269.5456019359037, 2512.335207072088, 1216.0850962860984, 1227.9585514543116, 1399.089711517453, 2319.267507291904, 1139.840475331479, 1068.5616953838437, 1344.6067027921365, 975.5110722696764, 973.5264397198168, 885.4665945450032, 884.4733867842533, 919.0768655633568, 822.1057830880352, 826.0590278592869, 1192.057248247936, 1550.1670005764113, 722.09860230834, 685.4925588948468, 1080.1529371513025, 5214.055609405984, 3509.3786755737533, 4901.425361300002, 1909.5671926898121, 3792.986477583125, 3841.49512082725, 2015.5511530419988, 1439.9372713797547, 2283.8618831331537, 10344.475655593562, 4968.917385228872, 10956.934993212422, 14776.086631211085, 2309.9460544012754, 1634.8343888148347, 4677.715194724672, 22849.63473840152, 43285.78032233588, 4482.409211900382, 7223.801544247558, 21452.523712546074, 4180.339693202062, 5990.005929392639, 12468.715528866916, 72057.14447708873, 11206.298710852383, 4140.973162862669, 3685.6193422796096, 3743.9537819077887, 18893.781982131874, 8641.096404544143, 5695.771638042121, 7382.179264979758, 4332.767995323162, 12084.871295149525, 9735.235485926329, 12111.85194051951, 6909.905970963161, 8405.133166370899, 7651.995074434995, 6155.954871666624, 6188.466756338713, 7883.7124193532245, 10027.056497011401, 6667.427782379831, 6450.197493261128, 6434.244103378274, 5641.599495576267, 16727.23492928888, 2383.554187284348, 2565.965579919739, 1522.362724857112, 2770.9988758548743, 1361.9304513270781, 3000.287036080564, 2142.4460266178253, 1244.516882936227, 1000.0210715778452, 977.9436869313766, 1043.0579012428293, 1077.1147044196648, 891.733161456574, 1403.7149913722558, 877.683772973841, 1022.933796942691, 789.4808595938518, 900.6881834447405, 1306.417423923141, 854.5651626554005, 723.3146974796698, 688.2228457950877, 660.1625205902999, 641.112649218918, 652.1161364911814, 643.0973640976707, 594.9915125807242, 615.0246564053344, 578.9556726037566, 3524.0549365800084, 3567.0200216035832, 3283.631294420293, 3196.2324909192603, 2541.327765303764, 1801.6775887304566, 3092.258150089446, 1110.6023584832762, 1117.9938580662804, 1666.8060505356193, 990.4860609391161, 957.5720351297985, 997.9407821243934, 1379.5810104056147, 4296.648222824944, 3742.5163299185965, 2821.1397642993666, 1810.0904176334234, 1268.1323755772855, 2195.2612064641085, 3130.6923814981224, 3800.7102407781726, 2906.415668487915, 6800.592359317857, 3847.937542013191, 9556.2149182387, 3915.7855217751085, 14993.94250478834, 2380.2539713964597, 1908.5754856448382, 3048.03745720948, 38570.65300266739, 3653.699218472478, 3520.2476564402946, 3194.9684241674063, 8662.764444198794, 3876.9615277893004, 5720.748048540466, 4908.924221885594, 4498.073602732192, 8449.161530431355, 7022.841494054283, 5609.221042430701, 5378.89854998965, 4020.612885205624, 8420.461026430254, 4620.383728239914, 4529.596928525544, 4462.37807870967, 4643.364240974621, 4306.783399812444, 3724.9520017225414], \"Total\": [16728.0, 51706.0, 26181.0, 15695.0, 10704.0, 11476.0, 25759.0, 5937.0, 5218.0, 4941.0, 4389.0, 5065.0, 3575.0, 3527.0, 7985.0, 3814.0, 3292.0, 15403.0, 3206.0, 3630.0, 3876.0, 3826.0, 110627.0, 3001.0, 3521.0, 3126.0, 13844.0, 4936.0, 3245.0, 2772.0, 5937.485410383275, 3630.006108316696, 3245.921178084237, 2596.5398375543114, 2786.6030558671473, 1693.7422556485187, 1673.9440487611541, 1882.8158590307758, 1422.5073314021538, 1270.0607617633398, 2513.394322304497, 1216.6057016288182, 1228.4846889177002, 1399.7406572388877, 2320.3623634743585, 1140.3829230640936, 1069.1094853548532, 1345.2961036469476, 976.0579533593834, 974.0781952527448, 885.9756855769783, 884.9858179111922, 919.6332145790276, 822.6215429425239, 826.5812637939819, 1192.851315653137, 1551.2016956091938, 722.6409897012059, 686.0140639850313, 1080.9920775413054, 5218.865087931271, 3521.2589741864117, 4941.1406878755815, 1912.5432556152323, 3826.4230702308655, 3876.933720076593, 2021.47045457734, 1442.328730647206, 2300.7635315713746, 10704.47546696539, 5065.597888112321, 11476.639570152283, 15695.729803977243, 2353.565733082652, 1648.370530430882, 4936.980403150681, 26181.582346437564, 51706.24134876613, 4775.056226813664, 7985.30773614981, 25759.307112358518, 4489.176491111753, 6664.662588155745, 15403.38335936632, 110627.79747975612, 13844.495823019055, 4551.837728576972, 3990.208380410611, 4086.7110287558867, 27342.94351256323, 11076.125393592356, 6759.653501600606, 9640.507364708008, 4934.36875884841, 19107.712789203808, 14378.59972690095, 20774.616384718305, 10111.72533925228, 13784.031716360549, 12114.373153144665, 8699.733683618397, 8781.527862021341, 13492.933461783927, 25020.99900179974, 11287.811510619744, 10979.794421786672, 12154.992151918741, 8001.508026126155, 16728.60788834961, 2384.0681834693582, 2566.5324385557738, 1522.873851137447, 2772.0499387615173, 1362.464824229588, 3001.631189681326, 2143.4488444829994, 1245.1644939785317, 1000.5427889075996, 978.4863213498526, 1043.651714160799, 1077.7381902464851, 892.2667446122952, 1404.568045124726, 878.2308088993565, 1023.599702034517, 790.0062834842707, 901.2888784093824, 1307.3196247957587, 855.1712990380497, 723.8377131363179, 688.7482726569093, 660.6768862059074, 641.6283326889287, 652.6561224422858, 643.6331845900123, 595.510777081576, 615.5616419642417, 579.4699675644503, 3527.939879696781, 3575.007539238775, 3292.2787231988727, 3206.0441592453903, 2544.443677447433, 1810.500834337639, 3126.529904051699, 1111.8174879105488, 1119.829991910454, 1677.1417578862095, 991.5133399746152, 958.4311870184749, 999.5266413601262, 1386.4452778149084, 4389.006672909449, 3814.799345467729, 2883.5522400198834, 1844.2638745198985, 1278.1293687216519, 2287.651898540447, 3388.3508430348675, 4244.16425939183, 3197.439281165783, 8692.048549450956, 4586.278794630956, 13522.91692287159, 4829.662429916047, 25020.99900179974, 2707.7270616085343, 2078.134823678226, 3838.7072192436763, 110627.79747975612, 5122.3398814310685, 4870.209539352234, 4263.251874952596, 20774.616384718305, 5858.678944968377, 12154.992151918741, 9381.914751479319, 8006.697724204603, 27342.94351256323, 19107.712789203808, 13492.933461783927, 13784.031716360549, 7052.342145518189, 51706.24134876613, 11287.811510619744, 10979.794421786672, 12114.373153144665, 14378.59972690095, 25759.307112358518, 8888.85541288428], \"Category\": [\"Default\", \"Default\", \"Default\", \"Default\", \"Default\", \"Default\", \"Default\", \"Default\", \"Default\", \"Default\", \"Default\", \"Default\", \"Default\", \"Default\", \"Default\", \"Default\", \"Default\", \"Default\", \"Default\", \"Default\", \"Default\", \"Default\", \"Default\", \"Default\", \"Default\", \"Default\", \"Default\", \"Default\", \"Default\", \"Default\", \"Topic1\", \"Topic1\", \"Topic1\", \"Topic1\", \"Topic1\", \"Topic1\", \"Topic1\", \"Topic1\", \"Topic1\", \"Topic1\", \"Topic1\", \"Topic1\", \"Topic1\", \"Topic1\", \"Topic1\", \"Topic1\", \"Topic1\", \"Topic1\", \"Topic1\", \"Topic1\", \"Topic1\", \"Topic1\", \"Topic1\", \"Topic1\", \"Topic1\", \"Topic1\", \"Topic1\", \"Topic1\", \"Topic1\", \"Topic1\", \"Topic1\", \"Topic1\", \"Topic1\", \"Topic1\", \"Topic1\", \"Topic1\", \"Topic1\", \"Topic1\", \"Topic1\", \"Topic1\", \"Topic1\", \"Topic1\", \"Topic1\", \"Topic1\", \"Topic1\", \"Topic1\", \"Topic1\", \"Topic1\", \"Topic1\", \"Topic1\", \"Topic1\", \"Topic1\", \"Topic1\", \"Topic1\", \"Topic1\", \"Topic1\", \"Topic1\", \"Topic1\", \"Topic1\", \"Topic1\", \"Topic1\", \"Topic1\", \"Topic1\", \"Topic1\", \"Topic1\", \"Topic1\", \"Topic1\", \"Topic1\", \"Topic1\", \"Topic1\", \"Topic1\", \"Topic1\", \"Topic1\", \"Topic1\", \"Topic1\", \"Topic1\", \"Topic1\", \"Topic1\", \"Topic2\", \"Topic2\", \"Topic2\", \"Topic2\", \"Topic2\", \"Topic2\", \"Topic2\", \"Topic2\", \"Topic2\", \"Topic2\", \"Topic2\", \"Topic2\", \"Topic2\", \"Topic2\", \"Topic2\", \"Topic2\", \"Topic2\", \"Topic2\", \"Topic2\", \"Topic2\", \"Topic2\", \"Topic2\", \"Topic2\", \"Topic2\", \"Topic2\", \"Topic2\", \"Topic2\", \"Topic2\", \"Topic2\", \"Topic2\", \"Topic2\", \"Topic2\", \"Topic2\", \"Topic2\", \"Topic2\", \"Topic2\", \"Topic2\", \"Topic2\", \"Topic2\", \"Topic2\", \"Topic2\", \"Topic2\", \"Topic2\", \"Topic2\", \"Topic2\", \"Topic2\", \"Topic2\", \"Topic2\", \"Topic2\", \"Topic2\", \"Topic2\", \"Topic2\", \"Topic2\", \"Topic2\", \"Topic2\", \"Topic2\", \"Topic2\", \"Topic2\", \"Topic2\", \"Topic2\", \"Topic2\", \"Topic2\", \"Topic2\", \"Topic2\", \"Topic2\", \"Topic2\", \"Topic2\", \"Topic2\", \"Topic2\", \"Topic2\", \"Topic2\", \"Topic2\", \"Topic2\", \"Topic2\", \"Topic2\", \"Topic2\", \"Topic2\", \"Topic2\", \"Topic2\", \"Topic2\", \"Topic2\", \"Topic2\"], \"logprob\": [30.0, 29.0, 28.0, 27.0, 26.0, 25.0, 24.0, 23.0, 22.0, 21.0, 20.0, 19.0, 18.0, 17.0, 16.0, 15.0, 14.0, 13.0, 12.0, 11.0, 10.0, 9.0, 8.0, 7.0, 6.0, 5.0, 4.0, 3.0, 2.0, 1.0, -5.5022, -5.9944, -6.1062, -6.3295, -6.2588, -6.7568, -6.7686, -6.651, -6.9314, -7.0448, -6.3622, -7.0878, -7.0781, -6.9476, -6.4422, -7.1525, -7.2171, -6.9873, -7.3082, -7.3103, -7.4051, -7.4062, -7.3678, -7.4793, -7.4745, -7.1078, -6.8451, -7.609, -7.6611, -7.2063, -5.6321, -6.028, -5.6939, -6.6366, -5.9503, -5.9376, -6.5825, -6.9188, -6.4576, -4.947, -5.6802, -4.8895, -4.5904, -6.4462, -6.7919, -5.7406, -4.1545, -3.5156, -5.7833, -5.3061, -4.2176, -5.853, -5.4933, -4.7602, -3.006, -4.867, -5.8625, -5.979, -5.9633, -4.3446, -5.1269, -5.5437, -5.2844, -5.8172, -4.7915, -5.0077, -4.7893, -5.3505, -5.1546, -5.2485, -5.466, -5.4607, -5.2186, -4.9781, -5.3862, -5.4193, -5.4218, -5.5533, -4.3589, -6.3074, -6.2336, -6.7557, -6.1568, -6.8671, -6.0773, -6.414, -6.9572, -7.1759, -7.1983, -7.1338, -7.1017, -7.2906, -6.8368, -7.3064, -7.1533, -7.4123, -7.2806, -6.9087, -7.3331, -7.4999, -7.5496, -7.5912, -7.6205, -7.6035, -7.6174, -7.6952, -7.6621, -7.7225, -5.9164, -5.9042, -5.987, -6.014, -6.2433, -6.5872, -6.0471, -7.0711, -7.0644, -6.6651, -7.1855, -7.2193, -7.178, -6.8542, -5.7181, -5.8562, -6.1388, -6.5826, -6.9384, -6.3897, -6.0347, -5.8408, -6.109, -5.259, -5.8284, -4.9188, -5.8109, -4.4683, -6.3088, -6.5296, -6.0615, -3.5235, -5.8802, -5.9174, -6.0144, -5.0169, -5.8209, -5.4319, -5.5849, -5.6723, -5.0419, -5.2268, -5.4516, -5.4935, -5.7845, -5.0453, -5.6455, -5.6653, -5.6803, -5.6405, -5.7158, -5.8609], \"loglift\": [30.0, 29.0, 28.0, 27.0, 26.0, 25.0, 24.0, 23.0, 22.0, 21.0, 20.0, 19.0, 18.0, 17.0, 16.0, 15.0, 14.0, 13.0, 12.0, 11.0, 10.0, 9.0, 8.0, 7.0, 6.0, 5.0, 4.0, 3.0, 2.0, 1.0, 0.6408, 0.6407, 0.6407, 0.6407, 0.6407, 0.6405, 0.6405, 0.6405, 0.6405, 0.6404, 0.6404, 0.6404, 0.6404, 0.6404, 0.6404, 0.6404, 0.6403, 0.6403, 0.6403, 0.6403, 0.6403, 0.6403, 0.6403, 0.6402, 0.6402, 0.6402, 0.6402, 0.6401, 0.6401, 0.6401, 0.6399, 0.6375, 0.6328, 0.6393, 0.6321, 0.6317, 0.6379, 0.6392, 0.6335, 0.6066, 0.6216, 0.5945, 0.5805, 0.6221, 0.6326, 0.5869, 0.5047, 0.4631, 0.5776, 0.5406, 0.4579, 0.5696, 0.5341, 0.4295, 0.2121, 0.4294, 0.5463, 0.5615, 0.5533, 0.2712, 0.3926, 0.4696, 0.374, 0.5108, 0.1827, 0.2509, 0.1013, 0.2601, 0.1462, 0.1814, 0.295, 0.2909, 0.1035, -0.2736, 0.1144, 0.1089, 0.0047, 0.2914, 0.7482, 0.7481, 0.7481, 0.748, 0.7479, 0.7479, 0.7479, 0.7479, 0.7478, 0.7478, 0.7478, 0.7478, 0.7477, 0.7477, 0.7477, 0.7477, 0.7477, 0.7477, 0.7477, 0.7476, 0.7476, 0.7476, 0.7476, 0.7475, 0.7475, 0.7475, 0.7475, 0.7475, 0.7475, 0.7474, 0.7472, 0.7461, 0.7457, 0.7453, 0.7471, 0.7434, 0.7373, 0.7472, 0.7467, 0.7421, 0.7473, 0.7474, 0.7467, 0.7434, 0.7271, 0.7292, 0.7264, 0.7296, 0.7405, 0.7071, 0.6692, 0.638, 0.6529, 0.5029, 0.5728, 0.4011, 0.5386, 0.2363, 0.6194, 0.6632, 0.5177, -0.3054, 0.4105, 0.4237, 0.4599, -0.1264, 0.3355, -0.0053, 0.1006, 0.1717, -0.4261, -0.2526, -0.1294, -0.1927, 0.1864, -1.0666, -0.1449, -0.1371, -0.2504, -0.382, -1.0403, -0.1214]}, \"token.table\": {\"Topic\": [1, 2, 1, 2, 1, 2, 1, 2, 1, 2, 1, 2, 1, 2, 1, 2, 1, 2, 1, 2, 1, 2, 1, 2, 1, 2, 1, 2, 1, 2, 1, 2, 1, 2, 1, 2, 1, 2, 1, 2, 1, 2, 1, 2, 1, 2, 1, 2, 1, 2, 1, 2, 1, 2, 1, 2, 1, 2, 1, 2, 1, 2, 1, 2, 1, 2, 1, 2, 1, 2, 1, 2, 1, 2, 1, 2, 1, 2, 1, 2, 1, 2, 1, 2, 1, 2, 1, 2, 1, 2, 1, 2, 1, 2, 1, 2, 1, 2, 1, 2, 1, 2, 1, 2, 1, 2, 1, 2, 1, 2, 1, 2, 1, 2, 1, 2, 1, 2, 1, 2, 1, 2, 1, 2, 1, 2, 1, 2, 1, 2, 1, 2, 1, 2, 1, 2, 1, 2, 1, 2, 1, 2, 1, 2, 1, 2, 1, 2, 1, 2, 1, 2, 1, 2, 1, 2, 1, 2, 1, 2, 1, 2, 1, 2, 1, 2, 1, 2, 1, 2, 1, 2, 1, 2, 1, 2, 1, 2, 1, 2, 1, 2, 1, 2, 1, 2, 1, 2, 1, 2, 1, 2, 1, 2, 1, 2, 1, 2, 1, 2, 1, 2, 1, 2, 1, 2, 1, 2, 1, 2, 1, 2, 1, 2, 1, 2, 1, 2, 1, 2, 1, 2, 1, 2, 1, 2, 1, 2, 1, 2, 1, 2, 1, 2, 1, 2, 1, 2, 1, 2, 1, 2, 1, 2, 1, 2, 1, 2, 1, 2, 1, 2, 1, 2, 1, 2, 1, 2, 1, 2, 1, 2, 1, 2, 1, 2, 1, 2, 1, 2, 1, 2, 1, 2, 1, 2, 1, 2, 1, 2, 1, 2, 1, 2, 1, 2, 1, 2, 1, 2, 1, 2], \"Freq\": [0.9161401365683989, 0.08393057340891048, 0.0009769444031806477, 0.9994141244538025, 0.9992967856647103, 0.0012098024039524336, 0.005048883004623357, 0.9953512209114619, 0.0008031067419894173, 0.9998678937768245, 0.43825808352826123, 0.5617796693388769, 0.8426467419744598, 0.1574045178126449, 0.0010219866933044793, 0.9995029860517808, 0.0017257149739840093, 0.9991889699367414, 0.0015322004431030673, 0.9989946889031999, 0.001138652834615596, 0.9997371887924933, 0.9995666814538116, 0.0005311193844069137, 0.704660976680616, 0.29527891282043267, 0.9993114487721961, 0.0010873900421895497, 0.6513462406515486, 0.34865558999362833, 0.8094191470207197, 0.19054503925046035, 0.10437861800935103, 0.8955826795791044, 0.0016792307351694076, 0.9991422874257976, 0.9547219752806624, 0.04530943024057173, 0.12076549539884, 0.8789659909762667, 0.010874676092475267, 0.9889558375862801, 0.005962525202761351, 0.9939529513003172, 0.9999182464714059, 0.00016842146647657165, 0.0011095221786879535, 0.9996794829978461, 0.765727333711091, 0.23422003786502893, 0.9997798970456059, 0.0007433307784725694, 0.8987701809008701, 0.10128044609483929, 0.0008994281983091589, 0.9992647283214755, 0.004971000194701703, 0.9953047056502744, 0.904661440572498, 0.09542525162184988, 0.9990677881398924, 0.0009580627043919184, 0.999783587452157, 0.0003588598662785919, 0.5809521878952884, 0.419064078216489, 0.0009278691328283486, 0.9993150560561315, 0.18924718099105073, 0.8108227141804756, 0.9311284615955954, 0.06883222359642081, 0.0003896307660006491, 0.9997925455576656, 0.0007339639029326534, 0.999658835794274, 0.9814894768094747, 0.018695037653513803, 0.9965185820536689, 0.003407872038941017, 0.780146458525912, 0.2198422204039574, 0.9988987445221559, 0.0011286991463527185, 0.0011790396567196086, 0.9986465892415085, 0.5906370773225249, 0.4092910300330081, 0.0027336689134434345, 0.9974854124164709, 0.583019189173068, 0.4169992764040859, 0.0007119626588907622, 0.9995955730826301, 0.001169356363017401, 0.9997996903798778, 0.001265812716817347, 0.9987262335688868, 0.40074339155198263, 0.5992566483425179, 0.999112990114952, 0.0013838130056993796, 0.018873862942631953, 0.9811787360315473, 0.9996433541037334, 0.0007029840746158462, 0.923761279760706, 0.07643711077781208, 0.2060589554823739, 0.7940173151836607, 0.003119108628358291, 0.9968671176233098, 0.999470861094834, 0.0007144180565366934, 0.98093060478823, 0.019148776144990606, 0.9992444363415276, 0.001215625834965362, 0.9998975920087204, 0.000935357897108251, 0.0015135991902830678, 0.9989754655868248, 0.018435539767242326, 0.9814213817267238, 0.9912651921605603, 0.008624242378407195, 0.020961462776499653, 0.9790370168545545, 0.7076078675364226, 0.2924227444789894, 0.9994360332641626, 0.0005973915321363794, 0.0009581740598242592, 0.9993755443967023, 0.0006566532081781375, 0.9994261828471254, 0.29335386903771704, 0.7066522743948637, 0.6324671159401264, 0.36754791520459307, 0.9994452433141415, 0.00039786832934480155, 0.8727509169478872, 0.12726503524159125, 0.9414025460769472, 0.058614668542960977, 0.07614323662213071, 0.9240483483096561, 0.9999521583807884, 0.0007873639042368413, 0.4299280916095168, 0.5701651900929641, 0.4767683483048818, 0.5232407381687155, 0.9988860636054949, 0.0011299616104134557, 0.9907314071709529, 0.009027752994267989, 0.9996642153645507, 0.0008768984345303078, 0.0022377575186046843, 0.9977601336078638, 0.9999197238444245, 0.0010266116261236392, 5.97778372638189e-05, 0.9999038839118988, 0.0004665378427732901, 0.9993240592203875, 0.6316463842797911, 0.3683228132065379, 0.0014519092674343977, 0.9989135759948656, 0.9995617658790508, 0.0005904086035906974, 0.0013815251427935385, 0.9988426782397284, 0.33830152131859104, 0.6617532785833388, 0.9386276908807801, 0.06136053400893989, 0.0015585346672725804, 0.999020721721724, 0.16091477056823464, 0.8390244405780038, 0.6910009520854548, 0.3090011138017364, 0.000419451090758979, 0.9999714003694059, 0.9999406250835988, 0.0010245293289790972, 0.9475427524513962, 0.05246121694846336, 0.21755515851547416, 0.7824392559829402, 0.9097424484186498, 0.09029320123160228, 0.0003607438617959296, 0.9996212410365211, 0.001043371724067994, 0.999550111657138, 0.0010085592998936375, 0.998473706894701, 0.0015536799903146537, 0.9990162337723223, 0.9663247892829651, 0.033630793130497626, 0.8371523218643881, 0.16284301044444274, 0.809497479163757, 0.19054255364067904, 0.6770478478364461, 0.32291044247607803, 0.6833650804552971, 0.3166620821444083, 0.0017859853856815864, 0.9983658305960068, 0.00782393413743533, 0.9920748486267998, 0.9997228356408572, 0.00027548163010219265, 0.9990822527177425, 0.0009250761599238356, 0.09101032870713395, 0.9088522859894544, 0.9918886377886246, 0.008493236042226755, 0.08180412457508697, 0.9186121989049473, 0.021501257767944055, 0.9783072284414546, 0.9985218029217352, 0.0014576960626594673, 0.0009994575055523689, 0.999457505552369, 0.8328251962067533, 0.16720170232892773, 0.9983854369688934, 0.0013866464402345741, 0.9997920934828329, 0.0003851279250704287, 0.001624532673623108, 0.9990875942782115, 0.0011207410855982498, 0.9997010483536388, 0.9992253131152478, 0.0006446614923324179, 0.5843058533068347, 0.415699078031207, 0.0003331521885292533, 0.99945656558776, 0.9992863187205601, 0.0008383274485910739, 0.9927139267719853, 0.007388851468968368, 0.999412866069626, 0.00043096716949962314, 0.9997162044197325, 0.00030807895359621955, 0.9986702232183428, 0.0015685919736413761, 0.04021590874848453, 0.9594991272056906, 0.9996054579091848, 0.0008140109592094338, 0.9918762305282912, 0.008095296719267833, 0.7051170831270808, 0.2949444020169994, 0.0011338061691526873, 0.9988832350235175, 0.000764923880153814, 0.9989905874808811, 0.5874426926611285, 0.41257603065967624, 0.5293298358061345, 0.4706708098611898, 0.0020009471656287814, 0.9984726356487619, 0.2771954654295137, 0.7227615098606579, 0.6097635418252799, 0.39023415722524457, 0.9972938241244373, 0.00296813638132273, 0.8781265065019668, 0.1220014209356529, 0.28678300034819126, 0.7133458701649359, 0.25051299602416177, 0.749427923499248, 0.9995021380978182, 0.000821958995146232], \"Term\": [\"absolutely\", \"absolutely\", \"acting\", \"acting\", \"adeline\", \"adeline\", \"advice\", \"advice\", \"agreements\", \"agreements\", \"also\", \"also\", \"amazing\", \"amazing\", \"american\", \"american\", \"americans\", \"americans\", \"animals\", \"animals\", \"animation\", \"animation\", \"atlas\", \"atlas\", \"author\", \"author\", \"bailey\", \"bailey\", \"book\", \"book\", \"books\", \"books\", \"bought\", \"bought\", \"cars\", \"cars\", \"characters\", \"characters\", \"child\", \"child\", \"children\", \"children\", \"classic\", \"classic\", \"colleen\", \"colleen\", \"colors\", \"colors\", \"could\", \"could\", \"cried\", \"cried\", \"definitely\", \"definitely\", \"dr\", \"dr\", \"elizabeth\", \"elizabeth\", \"end\", \"end\", \"ending\", \"ending\", \"evelyn\", \"evelyn\", \"even\", \"even\", \"examples\", \"examples\", \"family\", \"family\", \"felt\", \"felt\", \"film\", \"film\", \"financial\", \"financial\", \"finish\", \"finish\", \"finished\", \"finished\", \"first\", \"first\", \"freida\", \"freida\", \"game\", \"game\", \"get\", \"get\", \"gift\", \"gift\", \"good\", \"good\", \"graduation\", \"graduation\", \"grandson\", \"grandson\", \"grann\", \"grann\", \"great\", \"great\", \"guessing\", \"guessing\", \"habits\", \"habits\", \"hannah\", \"hannah\", \"heart\", \"heart\", \"help\", \"help\", \"history\", \"history\", \"hooked\", \"hooked\", \"hoover\", \"hoover\", \"housemaid\", \"housemaid\", \"hugo\", \"hugo\", \"indians\", \"indians\", \"information\", \"information\", \"kept\", \"kept\", \"kids\", \"kids\", \"know\", \"know\", \"knox\", \"knox\", \"law\", \"law\", \"laws\", \"laws\", \"life\", \"life\", \"like\", \"like\", \"lily\", \"lily\", \"love\", \"love\", \"loved\", \"loved\", \"loves\", \"loves\", \"lucy\", \"lucy\", \"make\", \"make\", \"many\", \"many\", \"mcfadden\", \"mcfadden\", \"miles\", \"miles\", \"millie\", \"millie\", \"money\", \"money\", \"monique\", \"monique\", \"movie\", \"movie\", \"movies\", \"movies\", \"much\", \"much\", \"murders\", \"murders\", \"naomi\", \"naomi\", \"native\", \"native\", \"new\", \"new\", \"next\", \"next\", \"oklahoma\", \"oklahoma\", \"old\", \"old\", \"one\", \"one\", \"osage\", \"osage\", \"owen\", \"owen\", \"page\", \"page\", \"people\", \"people\", \"plot\", \"plot\", \"power\", \"power\", \"practical\", \"practical\", \"price\", \"price\", \"ptsd\", \"ptsd\", \"put\", \"put\", \"read\", \"read\", \"reading\", \"reading\", \"really\", \"really\", \"recommend\", \"recommend\", \"research\", \"research\", \"rich\", \"rich\", \"romance\", \"romance\", \"ryle\", \"ryle\", \"school\", \"school\", \"sex\", \"sex\", \"simple\", \"simple\", \"son\", \"son\", \"spice\", \"spice\", \"spider\", \"spider\", \"story\", \"story\", \"suspense\", \"suspense\", \"tate\", \"tate\", \"teach\", \"teach\", \"teachers\", \"teachers\", \"thriller\", \"thriller\", \"time\", \"time\", \"trauma\", \"trauma\", \"turner\", \"turner\", \"turns\", \"turns\", \"twist\", \"twist\", \"twists\", \"twists\", \"ugly\", \"ugly\", \"use\", \"use\", \"verity\", \"verity\", \"wait\", \"wait\", \"want\", \"want\", \"watch\", \"watch\", \"watched\", \"watched\", \"way\", \"way\", \"well\", \"well\", \"white\", \"white\", \"work\", \"work\", \"would\", \"would\", \"wow\", \"wow\", \"writing\", \"writing\", \"year\", \"year\", \"years\", \"years\", \"zade\", \"zade\"]}, \"R\": 30, \"lambda.step\": 0.01, \"plot.opts\": {\"xlab\": \"PC1\", \"ylab\": \"PC2\"}, \"topic.order\": [1, 2]};\n",
       "\n",
       "function LDAvis_load_lib(url, callback){\n",
       "  var s = document.createElement('script');\n",
       "  s.src = url;\n",
       "  s.async = true;\n",
       "  s.onreadystatechange = s.onload = callback;\n",
       "  s.onerror = function(){console.warn(\"failed to load library \" + url);};\n",
       "  document.getElementsByTagName(\"head\")[0].appendChild(s);\n",
       "}\n",
       "\n",
       "if(typeof(LDAvis) !== \"undefined\"){\n",
       "   // already loaded: just create the visualization\n",
       "   !function(LDAvis){\n",
       "       new LDAvis(\"#\" + \"ldavis_el1268421386685658883776789439\", ldavis_el1268421386685658883776789439_data);\n",
       "   }(LDAvis);\n",
       "}else if(typeof define === \"function\" && define.amd){\n",
       "   // require.js is available: use it to load d3/LDAvis\n",
       "   require.config({paths: {d3: \"https://d3js.org/d3.v5\"}});\n",
       "   require([\"d3\"], function(d3){\n",
       "      window.d3 = d3;\n",
       "      LDAvis_load_lib(\"https://cdn.jsdelivr.net/gh/bmabey/pyLDAvis@3.4.0/pyLDAvis/js/ldavis.v3.0.0.js\", function(){\n",
       "        new LDAvis(\"#\" + \"ldavis_el1268421386685658883776789439\", ldavis_el1268421386685658883776789439_data);\n",
       "      });\n",
       "    });\n",
       "}else{\n",
       "    // require.js not available: dynamically load d3 & LDAvis\n",
       "    LDAvis_load_lib(\"https://d3js.org/d3.v5.js\", function(){\n",
       "         LDAvis_load_lib(\"https://cdn.jsdelivr.net/gh/bmabey/pyLDAvis@3.4.0/pyLDAvis/js/ldavis.v3.0.0.js\", function(){\n",
       "                 new LDAvis(\"#\" + \"ldavis_el1268421386685658883776789439\", ldavis_el1268421386685658883776789439_data);\n",
       "            })\n",
       "         });\n",
       "}\n",
       "</script>"
      ],
      "text/plain": [
       "<IPython.core.display.HTML object>"
      ]
     },
     "execution_count": 30,
     "metadata": {},
     "output_type": "execute_result"
    }
   ],
   "source": [
    "pyLDAvis.display(lda_display)"
   ]
  },
  {
   "cell_type": "code",
   "execution_count": 31,
   "metadata": {},
   "outputs": [],
   "source": [
    "#with open('../models/lda_model.pkl', 'wb') as file:\n",
    "    ##pickle.dump(lda_text_model, file)\n",
    "\n",
    "with open('../models/count_vect.pkl', 'wb') as file:\n",
    "    pickle.dump(count, file)"
   ]
  }
 ],
 "metadata": {
  "kernelspec": {
   "display_name": "Python 3 (ipykernel)",
   "language": "python",
   "name": "python3"
  },
  "language_info": {
   "codemirror_mode": {
    "name": "ipython",
    "version": 3
   },
   "file_extension": ".py",
   "mimetype": "text/x-python",
   "name": "python",
   "nbconvert_exporter": "python",
   "pygments_lexer": "ipython3",
   "version": "3.9.16"
  }
 },
 "nbformat": 4,
 "nbformat_minor": 0
}
