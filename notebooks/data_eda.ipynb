{
 "cells": [
  {
   "cell_type": "code",
   "execution_count": 26,
   "metadata": {
    "collapsed": true,
    "ExecuteTime": {
     "end_time": "2023-06-11T21:21:41.516617900Z",
     "start_time": "2023-06-11T21:21:41.491747100Z"
    }
   },
   "outputs": [],
   "source": [
    "import os\n",
    "import pandas as pd\n",
    "import seaborn as sns\n",
    "import functions.token_functions as tf\n",
    "import spacy\n",
    "from sklearn.model_selection import train_test_split\n",
    "from sklearn.feature_extraction.text import TfidfVectorizer\n",
    "from sklearn.svm import LinearSVC\n",
    "from nltk.corpus import stopwords"
   ]
  },
  {
   "cell_type": "code",
   "execution_count": 27,
   "outputs": [],
   "source": [
    "nlp = spacy.load('en_core_web_sm')\n",
    "sw = stopwords.words(\"english\")"
   ],
   "metadata": {
    "collapsed": false,
    "ExecuteTime": {
     "end_time": "2023-06-11T21:21:41.937505400Z",
     "start_time": "2023-06-11T21:21:41.520132100Z"
    }
   }
  },
  {
   "cell_type": "code",
   "execution_count": 28,
   "outputs": [],
   "source": [
    "# Create an empty list to store the review dataframes\n",
    "df_list = []\n",
    "csv_files = os.listdir('../data/games',)\n",
    "\n",
    "# Iterate over each file in the folder\n",
    "for file in csv_files:\n",
    "    # Read the CSV file into a datadrame\n",
    "    df = pd.read_csv('../data/games/'+file, index_col=0)\n",
    "\n",
    "    # Append the dataframe to the list\n",
    "    df_list.append(df)\n",
    "\n",
    "# Combine the dataframes into a single dataframe\n",
    "games_df = pd.concat(df_list, ignore_index=True)\n"
   ],
   "metadata": {
    "collapsed": false,
    "ExecuteTime": {
     "end_time": "2023-06-11T21:21:42.014068500Z",
     "start_time": "2023-06-11T21:21:41.938887300Z"
    }
   }
  },
  {
   "cell_type": "code",
   "execution_count": 29,
   "outputs": [],
   "source": [
    "# drop values\n",
    "games_df = games_df.dropna()\n",
    "\n",
    "# drop non english reviews\n",
    "games_df['lang'] = games_df['review'].apply(tf.detect_language)\n",
    "\n",
    "games_df = games_df.query('lang == \"en\"')\n"
   ],
   "metadata": {
    "collapsed": false,
    "ExecuteTime": {
     "end_time": "2023-06-11T21:21:49.006237700Z",
     "start_time": "2023-06-11T21:21:42.015067900Z"
    }
   }
  },
  {
   "cell_type": "code",
   "execution_count": 30,
   "outputs": [],
   "source": [
    "games_df['review_tokens'] = games_df['review'].apply(tf.clean_tokenize)\n",
    "games_df['review_title_tokens'] = games_df['review_title'].apply(tf.clean_tokenize)"
   ],
   "metadata": {
    "collapsed": false,
    "ExecuteTime": {
     "end_time": "2023-06-11T21:21:49.160304400Z",
     "start_time": "2023-06-11T21:21:49.007734300Z"
    }
   }
  },
  {
   "cell_type": "code",
   "execution_count": 31,
   "outputs": [
    {
     "data": {
      "text/plain": "rating\n1.0    356\n2.0     68\n3.0     81\n4.0    107\n5.0    674\nName: review, dtype: int64"
     },
     "execution_count": 31,
     "metadata": {},
     "output_type": "execute_result"
    }
   ],
   "source": [
    "games_df.groupby(['rating'])['review'].count()"
   ],
   "metadata": {
    "collapsed": false,
    "ExecuteTime": {
     "end_time": "2023-06-11T21:21:49.176097600Z",
     "start_time": "2023-06-11T21:21:49.160804100Z"
    }
   }
  },
  {
   "cell_type": "code",
   "execution_count": 32,
   "outputs": [],
   "source": [
    "games_df['sentiment'] = 0\n",
    "games_df.loc[games_df['rating']>3, 'sentiment'] = 1\n",
    "games_df.loc[games_df['rating']<=3, 'sentiment'] = 0"
   ],
   "metadata": {
    "collapsed": false,
    "ExecuteTime": {
     "end_time": "2023-06-11T21:21:49.203101Z",
     "start_time": "2023-06-11T21:21:49.177096400Z"
    }
   }
  },
  {
   "cell_type": "code",
   "execution_count": 33,
   "outputs": [
    {
     "data": {
      "text/plain": "<AxesSubplot:xlabel='sentiment', ylabel='count'>"
     },
     "execution_count": 33,
     "metadata": {},
     "output_type": "execute_result"
    },
    {
     "data": {
      "text/plain": "<Figure size 432x288 with 1 Axes>",
      "image/png": "[encoded data removed]"
     },
     "metadata": {},
     "output_type": "display_data"
    }
   ],
   "source": [
    "sns.countplot(x=games_df['sentiment'])"
   ],
   "metadata": {
    "collapsed": false,
    "ExecuteTime": {
     "end_time": "2023-06-11T21:21:49.269615Z",
     "start_time": "2023-06-11T21:21:49.192597700Z"
    }
   }
  },
  {
   "cell_type": "markdown",
   "source": [
    "## Split Data"
   ],
   "metadata": {
    "collapsed": false
   }
  },
  {
   "cell_type": "code",
   "execution_count": 34,
   "outputs": [],
   "source": [
    "#high_low_df = games_df.query('rating == 1 | rating ==5')\n",
    "#high_low_df.shape"
   ],
   "metadata": {
    "collapsed": false,
    "ExecuteTime": {
     "end_time": "2023-06-11T21:21:49.289116600Z",
     "start_time": "2023-06-11T21:21:49.269615Z"
    }
   }
  },
  {
   "cell_type": "code",
   "execution_count": 35,
   "outputs": [],
   "source": [
    "#X = high_low_df[['review_tokens', 'review_title_tokens']]\n",
    "#y = high_low_df['rating']"
   ],
   "metadata": {
    "collapsed": false,
    "ExecuteTime": {
     "end_time": "2023-06-11T21:21:49.301632400Z",
     "start_time": "2023-06-11T21:21:49.285617300Z"
    }
   }
  },
  {
   "cell_type": "code",
   "execution_count": 36,
   "outputs": [],
   "source": [
    "X_train, X_test, y_train, y_test = train_test_split(games_df['review'], games_df['sentiment'], test_size=0.20, random_state=10, stratify=games_df['sentiment'])"
   ],
   "metadata": {
    "collapsed": false,
    "ExecuteTime": {
     "end_time": "2023-06-11T21:21:49.319147400Z",
     "start_time": "2023-06-11T21:21:49.302134600Z"
    }
   }
  },
  {
   "cell_type": "code",
   "execution_count": 37,
   "outputs": [
    {
     "name": "stdout",
     "output_type": "stream",
     "text": [
      "Size of Training Data  1028\n",
      "Size of Test Data  258\n",
      "Distribution of classes in Training Data :\n",
      "Positive Sentiment  60.70038910505836\n",
      "Negative Sentiment  39.29961089494164\n",
      "Distribution of classes in Testing Data :\n",
      "Positive Sentiment  60.85271317829457\n",
      "Negative Sentiment  39.14728682170542\n"
     ]
    }
   ],
   "source": [
    "tf.sentiment_stats(X_train, X_test, y_train, y_test)"
   ],
   "metadata": {
    "collapsed": false,
    "ExecuteTime": {
     "end_time": "2023-06-11T21:21:49.331165400Z",
     "start_time": "2023-06-11T21:21:49.316647200Z"
    }
   }
  },
  {
   "cell_type": "markdown",
   "source": [
    "## Vectorize Data"
   ],
   "metadata": {
    "collapsed": false
   }
  },
  {
   "cell_type": "code",
   "execution_count": 38,
   "outputs": [],
   "source": [
    "tfidf = TfidfVectorizer(min_df = 10, ngram_range=(1,1),stop_words=sw)\n",
    "X_train_tf = tfidf.fit_transform(X_train)\n",
    "X_test_tf = tfidf.transform(X_test)"
   ],
   "metadata": {
    "collapsed": false,
    "ExecuteTime": {
     "end_time": "2023-06-11T21:21:49.392727400Z",
     "start_time": "2023-06-11T21:21:49.370691700Z"
    }
   }
  },
  {
   "cell_type": "markdown",
   "source": [
    "## Train Sentiment Model"
   ],
   "metadata": {
    "collapsed": false
   }
  },
  {
   "cell_type": "code",
   "execution_count": 39,
   "outputs": [
    {
     "data": {
      "text/plain": "LinearSVC(random_state=10, tol=1e-05)"
     },
     "execution_count": 39,
     "metadata": {},
     "output_type": "execute_result"
    }
   ],
   "source": [
    "svc_model = LinearSVC(random_state=10, tol=1e-5)\n",
    "svc_model.fit(X_train_tf, y_train)"
   ],
   "metadata": {
    "collapsed": false,
    "ExecuteTime": {
     "end_time": "2023-06-11T21:21:49.408767100Z",
     "start_time": "2023-06-11T21:21:49.394231Z"
    }
   }
  },
  {
   "cell_type": "code",
   "execution_count": 40,
   "outputs": [
    {
     "name": "stdout",
     "output_type": "stream",
     "text": [
      "Accuracy Score -  0.8294573643410853\n",
      "ROC-AUC Score -  0.8192596329696664\n"
     ]
    }
   ],
   "source": [
    "from sklearn.metrics import accuracy_score\n",
    "from sklearn.metrics import roc_auc_score\n",
    "y_pred = svc_model.predict(X_test_tf)\n",
    "print ('Accuracy Score - ', accuracy_score(y_test, y_pred))\n",
    "print ('ROC-AUC Score - ', roc_auc_score(y_test, y_pred))"
   ],
   "metadata": {
    "collapsed": false,
    "ExecuteTime": {
     "end_time": "2023-06-11T21:21:49.453721100Z",
     "start_time": "2023-06-11T21:21:49.411268400Z"
    }
   }
  },
  {
   "cell_type": "markdown",
   "source": [
    "## Sample Predictions"
   ],
   "metadata": {
    "collapsed": false
   }
  },
  {
   "cell_type": "code",
   "execution_count": 41,
   "outputs": [
    {
     "name": "stdout",
     "output_type": "stream",
     "text": [
      "Some sample reviews with their sentiment - \n"
     ]
    },
    {
     "data": {
      "text/plain": "                                                 review  sentiment_prediction\n1055  Superior graphics and interface. If you've eve...                     1\n1286  This game is amazing. I had extremely low expe...                     1\n1258  I could rip this game a new one and say it’s j...                     1\n573   Unbeatable price for a flagship game cheapest ...                     1\n1068  When this product arrived it was in good condi...                     0",
      "text/html": "<div>\n<style scoped>\n    .dataframe tbody tr th:only-of-type {\n        vertical-align: middle;\n    }\n\n    .dataframe tbody tr th {\n        vertical-align: top;\n    }\n\n    .dataframe thead th {\n        text-align: right;\n    }\n</style>\n<table border=\"1\" class=\"dataframe\">\n  <thead>\n    <tr style=\"text-align: right;\">\n      <th></th>\n      <th>review</th>\n      <th>sentiment_prediction</th>\n    </tr>\n  </thead>\n  <tbody>\n    <tr>\n      <th>1055</th>\n      <td>Superior graphics and interface. If you've eve...</td>\n      <td>1</td>\n    </tr>\n    <tr>\n      <th>1286</th>\n      <td>This game is amazing. I had extremely low expe...</td>\n      <td>1</td>\n    </tr>\n    <tr>\n      <th>1258</th>\n      <td>I could rip this game a new one and say it’s j...</td>\n      <td>1</td>\n    </tr>\n    <tr>\n      <th>573</th>\n      <td>Unbeatable price for a flagship game cheapest ...</td>\n      <td>1</td>\n    </tr>\n    <tr>\n      <th>1068</th>\n      <td>When this product arrived it was in good condi...</td>\n      <td>0</td>\n    </tr>\n  </tbody>\n</table>\n</div>"
     },
     "execution_count": 41,
     "metadata": {},
     "output_type": "execute_result"
    }
   ],
   "source": [
    "sample_reviews = games_df.sample(5)\n",
    "sample_reviews_tf = tfidf.transform(sample_reviews['review'])\n",
    "sentiment_predictions = svc_model.predict(sample_reviews_tf)\n",
    "sentiment_predictions = pd.DataFrame(data = sentiment_predictions,\n",
    "                                     index=sample_reviews.index,\n",
    "                                     columns=['sentiment_prediction'])\n",
    "sample_reviews = pd.concat([sample_reviews, sentiment_predictions], axis=1)\n",
    "print ('Some sample reviews with their sentiment - ')\n",
    "sample_reviews[['review','sentiment_prediction']]"
   ],
   "metadata": {
    "collapsed": false,
    "ExecuteTime": {
     "end_time": "2023-06-11T21:21:49.463735300Z",
     "start_time": "2023-06-11T21:21:49.426217100Z"
    }
   }
  }
 ],
 "metadata": {
  "kernelspec": {
   "name": "python3",
   "language": "python",
   "display_name": "Python 3 (ipykernel)"
  },
  "language_info": {
   "codemirror_mode": {
    "name": "ipython",
    "version": 2
   },
   "file_extension": ".py",
   "mimetype": "text/x-python",
   "name": "python",
   "nbconvert_exporter": "python",
   "pygments_lexer": "ipython2",
   "version": "2.7.6"
  }
 },
 "nbformat": 4,
 "nbformat_minor": 0
}
