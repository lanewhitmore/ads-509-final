{
 "cells": [
  {
   "cell_type": "code",
   "execution_count": 111,
   "metadata": {
    "collapsed": true,
    "ExecuteTime": {
     "end_time": "2023-06-12T02:57:09.738060Z",
     "start_time": "2023-06-12T02:57:09.710653Z"
    }
   },
   "outputs": [],
   "source": [
    "import os\n",
    "import pandas as pd\n",
    "import seaborn as sns\n",
    "import functions.token_functions as tf\n",
    "import spacy\n",
    "import pickle\n",
    "from sklearn.model_selection import train_test_split\n",
    "from sklearn.feature_extraction.text import TfidfVectorizer\n",
    "from sklearn.svm import LinearSVC\n",
    "from nltk.corpus import stopwords"
   ]
  },
  {
   "cell_type": "code",
   "execution_count": 112,
   "outputs": [],
   "source": [
    "nlp = spacy.load('en_core_web_sm')\n",
    "sw = stopwords.words(\"english\")"
   ],
   "metadata": {
    "collapsed": false,
    "ExecuteTime": {
     "end_time": "2023-06-12T02:57:10.159974Z",
     "start_time": "2023-06-12T02:57:09.738361Z"
    }
   }
  },
  {
   "cell_type": "code",
   "execution_count": 113,
   "outputs": [],
   "source": [
    "# Create an empty list to store the review dataframes\n",
    "df_list = []\n",
    "csv_files = os.listdir('../data/games',)\n",
    "\n",
    "# Iterate over each file in the folder\n",
    "for file in csv_files:\n",
    "    # Read the CSV file into a datadrame\n",
    "    df = pd.read_csv('../data/games/'+file, index_col=0)\n",
    "\n",
    "    # Append the dataframe to the list\n",
    "    df_list.append(df)\n",
    "\n",
    "# Combine the dataframes into a single dataframe\n",
    "games_df = pd.concat(df_list, ignore_index=True)\n"
   ],
   "metadata": {
    "collapsed": false,
    "ExecuteTime": {
     "end_time": "2023-06-12T02:57:10.224662Z",
     "start_time": "2023-06-12T02:57:10.162326Z"
    }
   }
  },
  {
   "cell_type": "code",
   "execution_count": 114,
   "outputs": [],
   "source": [
    "# drop values\n",
    "games_df = games_df.dropna()\n",
    "\n",
    "# drop non english reviews\n",
    "games_df['lang'] = games_df['review'].apply(tf.detect_language)\n",
    "\n",
    "games_df = games_df.query('lang == \"en\"')\n"
   ],
   "metadata": {
    "collapsed": false,
    "ExecuteTime": {
     "end_time": "2023-06-12T02:57:15.387113Z",
     "start_time": "2023-06-12T02:57:10.226709Z"
    }
   }
  },
  {
   "cell_type": "code",
   "execution_count": 115,
   "outputs": [],
   "source": [
    "games_df['review_tokens'] = games_df['review'].apply(tf.clean_tokenize)\n",
    "games_df['review_title_tokens'] = games_df['review_title'].apply(tf.clean_tokenize)"
   ],
   "metadata": {
    "collapsed": false,
    "ExecuteTime": {
     "end_time": "2023-06-12T02:57:15.539208Z",
     "start_time": "2023-06-12T02:57:15.450267Z"
    }
   }
  },
  {
   "cell_type": "code",
   "execution_count": 116,
   "outputs": [
    {
     "data": {
      "text/plain": "rating\n1.0    357\n2.0     68\n3.0     81\n4.0    108\n5.0    671\nName: review, dtype: int64"
     },
     "execution_count": 116,
     "metadata": {},
     "output_type": "execute_result"
    }
   ],
   "source": [
    "games_df.groupby(['rating'])['review'].count()"
   ],
   "metadata": {
    "collapsed": false,
    "ExecuteTime": {
     "end_time": "2023-06-12T02:57:15.544073Z",
     "start_time": "2023-06-12T02:57:15.539964Z"
    }
   }
  },
  {
   "cell_type": "code",
   "execution_count": 117,
   "outputs": [],
   "source": [
    "games_df['sentiment'] = 0\n",
    "games_df.loc[games_df['rating']>3, 'sentiment'] = 1\n",
    "games_df.loc[games_df['rating']<=3, 'sentiment'] = 0"
   ],
   "metadata": {
    "collapsed": false,
    "ExecuteTime": {
     "end_time": "2023-06-12T02:57:15.548314Z",
     "start_time": "2023-06-12T02:57:15.546638Z"
    }
   }
  },
  {
   "cell_type": "code",
   "execution_count": 118,
   "outputs": [
    {
     "data": {
      "text/plain": "<AxesSubplot:xlabel='sentiment', ylabel='count'>"
     },
     "execution_count": 118,
     "metadata": {},
     "output_type": "execute_result"
    },
    {
     "data": {
      "text/plain": "<Figure size 432x288 with 1 Axes>",
      "image/png": "[encoded data removed]"
     },
     "metadata": {},
     "output_type": "display_data"
    }
   ],
   "source": [
    "sns.countplot(x=games_df['sentiment'])"
   ],
   "metadata": {
    "collapsed": false,
    "ExecuteTime": {
     "end_time": "2023-06-12T02:57:15.743882Z",
     "start_time": "2023-06-12T02:57:15.549714Z"
    }
   }
  },
  {
   "cell_type": "markdown",
   "source": [
    "## Split Data"
   ],
   "metadata": {
    "collapsed": false
   }
  },
  {
   "cell_type": "code",
   "execution_count": 119,
   "outputs": [],
   "source": [
    "#high_low_df = games_df.query('rating == 1 | rating ==5')\n",
    "#high_low_df.shape"
   ],
   "metadata": {
    "collapsed": false,
    "ExecuteTime": {
     "end_time": "2023-06-12T02:57:15.746589Z",
     "start_time": "2023-06-12T02:57:15.744093Z"
    }
   }
  },
  {
   "cell_type": "code",
   "execution_count": 120,
   "outputs": [],
   "source": [
    "#X = high_low_df[['review_tokens', 'review_title_tokens']]\n",
    "#y = high_low_df['rating']"
   ],
   "metadata": {
    "collapsed": false,
    "ExecuteTime": {
     "end_time": "2023-06-12T02:57:15.748976Z",
     "start_time": "2023-06-12T02:57:15.746794Z"
    }
   }
  },
  {
   "cell_type": "code",
   "execution_count": 121,
   "outputs": [],
   "source": [
    "X_train, X_test, y_train, y_test = train_test_split(games_df['review'], games_df['sentiment'], test_size=0.20, random_state=10, stratify=games_df['sentiment'])"
   ],
   "metadata": {
    "collapsed": false,
    "ExecuteTime": {
     "end_time": "2023-06-12T02:57:15.755919Z",
     "start_time": "2023-06-12T02:57:15.752391Z"
    }
   }
  },
  {
   "cell_type": "code",
   "execution_count": 122,
   "outputs": [
    {
     "name": "stdout",
     "output_type": "stream",
     "text": [
      "Size of Training Data  1028\n",
      "Size of Test Data  257\n",
      "Distribution of classes in Training Data :\n",
      "Positive Sentiment  60.60311284046692\n",
      "Negative Sentiment  39.39688715953307\n",
      "Distribution of classes in Testing Data :\n",
      "Positive Sentiment  60.70038910505836\n",
      "Negative Sentiment  39.29961089494164\n"
     ]
    }
   ],
   "source": [
    "tf.sentiment_stats(X_train, X_test, y_train, y_test)"
   ],
   "metadata": {
    "collapsed": false,
    "ExecuteTime": {
     "end_time": "2023-06-12T02:57:15.759840Z",
     "start_time": "2023-06-12T02:57:15.757105Z"
    }
   }
  },
  {
   "cell_type": "markdown",
   "source": [
    "## Vectorize Data"
   ],
   "metadata": {
    "collapsed": false
   }
  },
  {
   "cell_type": "code",
   "execution_count": 123,
   "outputs": [],
   "source": [
    "tfidf = TfidfVectorizer(min_df = 10, ngram_range=(1,1),stop_words=sw)\n",
    "X_train_tf = tfidf.fit_transform(X_train)\n",
    "X_test_tf = tfidf.transform(X_test)"
   ],
   "metadata": {
    "collapsed": false,
    "ExecuteTime": {
     "end_time": "2023-06-12T02:57:15.808529Z",
     "start_time": "2023-06-12T02:57:15.772785Z"
    }
   }
  },
  {
   "cell_type": "markdown",
   "source": [
    "## Train Sentiment Model"
   ],
   "metadata": {
    "collapsed": false
   }
  },
  {
   "cell_type": "code",
   "execution_count": 124,
   "outputs": [
    {
     "data": {
      "text/plain": "LinearSVC(random_state=10, tol=1e-05)",
      "text/html": "<style>#sk-container-id-6 {color: black;background-color: white;}#sk-container-id-6 pre{padding: 0;}#sk-container-id-6 div.sk-toggleable {background-color: white;}#sk-container-id-6 label.sk-toggleable__label {cursor: pointer;display: block;width: 100%;margin-bottom: 0;padding: 0.3em;box-sizing: border-box;text-align: center;}#sk-container-id-6 label.sk-toggleable__label-arrow:before {content: \"▸\";float: left;margin-right: 0.25em;color: #696969;}#sk-container-id-6 label.sk-toggleable__label-arrow:hover:before {color: black;}#sk-container-id-6 div.sk-estimator:hover label.sk-toggleable__label-arrow:before {color: black;}#sk-container-id-6 div.sk-toggleable__content {max-height: 0;max-width: 0;overflow: hidden;text-align: left;background-color: #f0f8ff;}#sk-container-id-6 div.sk-toggleable__content pre {margin: 0.2em;color: black;border-radius: 0.25em;background-color: #f0f8ff;}#sk-container-id-6 input.sk-toggleable__control:checked~div.sk-toggleable__content {max-height: 200px;max-width: 100%;overflow: auto;}#sk-container-id-6 input.sk-toggleable__control:checked~label.sk-toggleable__label-arrow:before {content: \"▾\";}#sk-container-id-6 div.sk-estimator input.sk-toggleable__control:checked~label.sk-toggleable__label {background-color: #d4ebff;}#sk-container-id-6 div.sk-label input.sk-toggleable__control:checked~label.sk-toggleable__label {background-color: #d4ebff;}#sk-container-id-6 input.sk-hidden--visually {border: 0;clip: rect(1px 1px 1px 1px);clip: rect(1px, 1px, 1px, 1px);height: 1px;margin: -1px;overflow: hidden;padding: 0;position: absolute;width: 1px;}#sk-container-id-6 div.sk-estimator {font-family: monospace;background-color: #f0f8ff;border: 1px dotted black;border-radius: 0.25em;box-sizing: border-box;margin-bottom: 0.5em;}#sk-container-id-6 div.sk-estimator:hover {background-color: #d4ebff;}#sk-container-id-6 div.sk-parallel-item::after {content: \"\";width: 100%;border-bottom: 1px solid gray;flex-grow: 1;}#sk-container-id-6 div.sk-label:hover label.sk-toggleable__label {background-color: #d4ebff;}#sk-container-id-6 div.sk-serial::before {content: \"\";position: absolute;border-left: 1px solid gray;box-sizing: border-box;top: 0;bottom: 0;left: 50%;z-index: 0;}#sk-container-id-6 div.sk-serial {display: flex;flex-direction: column;align-items: center;background-color: white;padding-right: 0.2em;padding-left: 0.2em;position: relative;}#sk-container-id-6 div.sk-item {position: relative;z-index: 1;}#sk-container-id-6 div.sk-parallel {display: flex;align-items: stretch;justify-content: center;background-color: white;position: relative;}#sk-container-id-6 div.sk-item::before, #sk-container-id-6 div.sk-parallel-item::before {content: \"\";position: absolute;border-left: 1px solid gray;box-sizing: border-box;top: 0;bottom: 0;left: 50%;z-index: -1;}#sk-container-id-6 div.sk-parallel-item {display: flex;flex-direction: column;z-index: 1;position: relative;background-color: white;}#sk-container-id-6 div.sk-parallel-item:first-child::after {align-self: flex-end;width: 50%;}#sk-container-id-6 div.sk-parallel-item:last-child::after {align-self: flex-start;width: 50%;}#sk-container-id-6 div.sk-parallel-item:only-child::after {width: 0;}#sk-container-id-6 div.sk-dashed-wrapped {border: 1px dashed gray;margin: 0 0.4em 0.5em 0.4em;box-sizing: border-box;padding-bottom: 0.4em;background-color: white;}#sk-container-id-6 div.sk-label label {font-family: monospace;font-weight: bold;display: inline-block;line-height: 1.2em;}#sk-container-id-6 div.sk-label-container {text-align: center;}#sk-container-id-6 div.sk-container {/* jupyter's `normalize.less` sets `[hidden] { display: none; }` but bootstrap.min.css set `[hidden] { display: none !important; }` so we also need the `!important` here to be able to override the default hidden behavior on the sphinx rendered scikit-learn.org. See: https://github.com/scikit-learn/scikit-learn/issues/21755 */display: inline-block !important;position: relative;}#sk-container-id-6 div.sk-text-repr-fallback {display: none;}</style><div id=\"sk-container-id-6\" class=\"sk-top-container\"><div class=\"sk-text-repr-fallback\"><pre>LinearSVC(random_state=10, tol=1e-05)</pre><b>In a Jupyter environment, please rerun this cell to show the HTML representation or trust the notebook. <br />On GitHub, the HTML representation is unable to render, please try loading this page with nbviewer.org.</b></div><div class=\"sk-container\" hidden><div class=\"sk-item\"><div class=\"sk-estimator sk-toggleable\"><input class=\"sk-toggleable__control sk-hidden--visually\" id=\"sk-estimator-id-6\" type=\"checkbox\" checked><label for=\"sk-estimator-id-6\" class=\"sk-toggleable__label sk-toggleable__label-arrow\">LinearSVC</label><div class=\"sk-toggleable__content\"><pre>LinearSVC(random_state=10, tol=1e-05)</pre></div></div></div></div></div>"
     },
     "execution_count": 124,
     "metadata": {},
     "output_type": "execute_result"
    }
   ],
   "source": [
    "svc_model = LinearSVC(random_state=10, tol=1e-5)\n",
    "svc_model.fit(X_train_tf, y_train)"
   ],
   "metadata": {
    "collapsed": false,
    "ExecuteTime": {
     "end_time": "2023-06-12T02:57:15.816128Z",
     "start_time": "2023-06-12T02:57:15.809077Z"
    }
   }
  },
  {
   "cell_type": "code",
   "execution_count": 125,
   "outputs": [
    {
     "name": "stdout",
     "output_type": "stream",
     "text": [
      "Accuracy Score -  0.7898832684824902\n",
      "ROC-AUC Score -  0.7693259710586442\n"
     ]
    }
   ],
   "source": [
    "from sklearn.metrics import accuracy_score\n",
    "from sklearn.metrics import roc_auc_score\n",
    "y_pred = svc_model.predict(X_test_tf)\n",
    "print ('Accuracy Score - ', accuracy_score(y_test, y_pred))\n",
    "print ('ROC-AUC Score - ', roc_auc_score(y_test, y_pred))"
   ],
   "metadata": {
    "collapsed": false,
    "ExecuteTime": {
     "end_time": "2023-06-12T02:57:15.833247Z",
     "start_time": "2023-06-12T02:57:15.817922Z"
    }
   }
  },
  {
   "cell_type": "markdown",
   "source": [
    "## Sample Predictions"
   ],
   "metadata": {
    "collapsed": false
   }
  },
  {
   "cell_type": "code",
   "execution_count": 126,
   "outputs": [
    {
     "name": "stdout",
     "output_type": "stream",
     "text": [
      "Some sample reviews with their sentiment - \n"
     ]
    },
    {
     "data": {
      "text/plain": "                                                 review  sentiment_prediction\n199   Playing on series x. Game is not as good as or...                     1\n804   I bought this as a gift for my boyfriend, who ...                     0\n1060  First sonic game probably since the genesis. I...                     0\n149   My kids are looking forward to having Just Dan...                     0\n83                                      Not Saints Row.                     0",
      "text/html": "<div>\n<style scoped>\n    .dataframe tbody tr th:only-of-type {\n        vertical-align: middle;\n    }\n\n    .dataframe tbody tr th {\n        vertical-align: top;\n    }\n\n    .dataframe thead th {\n        text-align: right;\n    }\n</style>\n<table border=\"1\" class=\"dataframe\">\n  <thead>\n    <tr style=\"text-align: right;\">\n      <th></th>\n      <th>review</th>\n      <th>sentiment_prediction</th>\n    </tr>\n  </thead>\n  <tbody>\n    <tr>\n      <th>199</th>\n      <td>Playing on series x. Game is not as good as or...</td>\n      <td>1</td>\n    </tr>\n    <tr>\n      <th>804</th>\n      <td>I bought this as a gift for my boyfriend, who ...</td>\n      <td>0</td>\n    </tr>\n    <tr>\n      <th>1060</th>\n      <td>First sonic game probably since the genesis. I...</td>\n      <td>0</td>\n    </tr>\n    <tr>\n      <th>149</th>\n      <td>My kids are looking forward to having Just Dan...</td>\n      <td>0</td>\n    </tr>\n    <tr>\n      <th>83</th>\n      <td>Not Saints Row.</td>\n      <td>0</td>\n    </tr>\n  </tbody>\n</table>\n</div>"
     },
     "execution_count": 126,
     "metadata": {},
     "output_type": "execute_result"
    }
   ],
   "source": [
    "sample_reviews = games_df.sample(5)\n",
    "sample_reviews_tf = tfidf.transform(sample_reviews['review'])\n",
    "sentiment_predictions = svc_model.predict(sample_reviews_tf)\n",
    "sentiment_predictions = pd.DataFrame(data = sentiment_predictions,\n",
    "                                     index=sample_reviews.index,\n",
    "                                     columns=['sentiment_prediction'])\n",
    "sample_reviews = pd.concat([sample_reviews, sentiment_predictions], axis=1)\n",
    "print ('Some sample reviews with their sentiment - ')\n",
    "sample_reviews[['review','sentiment_prediction']]"
   ],
   "metadata": {
    "collapsed": false,
    "ExecuteTime": {
     "end_time": "2023-06-12T02:57:15.842400Z",
     "start_time": "2023-06-12T02:57:15.833077Z"
    }
   }
  },
  {
   "cell_type": "markdown",
   "source": [
    "## Pickle Models"
   ],
   "metadata": {
    "collapsed": false
   }
  },
  {
   "cell_type": "code",
   "execution_count": 128,
   "outputs": [],
   "source": [
    "with open('../models/svc_model.pkl', 'wb') as file:\n",
    "    pickle.dump(svc_model, file)\n",
    "\n",
    "with open('../models/tfidf.pkl', 'wb') as file:\n",
    "    pickle.dump(tfidf, file)"
   ],
   "metadata": {
    "collapsed": false,
    "ExecuteTime": {
     "end_time": "2023-06-12T02:57:15.855544Z",
     "start_time": "2023-06-12T02:57:15.836376Z"
    }
   }
  }
 ],
 "metadata": {
  "kernelspec": {
   "name": "python3",
   "language": "python",
   "display_name": "Python 3 (ipykernel)"
  },
  "language_info": {
   "codemirror_mode": {
    "name": "ipython",
    "version": 2
   },
   "file_extension": ".py",
   "mimetype": "text/x-python",
   "name": "python",
   "nbconvert_exporter": "python",
   "pygments_lexer": "ipython2",
   "version": "2.7.6"
  }
 },
 "nbformat": 4,
 "nbformat_minor": 0
}
