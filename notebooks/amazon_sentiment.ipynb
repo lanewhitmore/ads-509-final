{
 "cells": [
  {
   "attachments": {},
   "cell_type": "markdown",
   "metadata": {},
   "source": [
    "# Amazon Review Sentiment\n",
    "## Ivan Chavez, Uyen Pham, & Lane Whitmore\n",
    "### ADS 509\n",
    "### The University of San Diego\n",
    "### Dr. Sadeghian"
   ]
  },
  {
   "cell_type": "code",
   "execution_count": 73,
   "metadata": {},
   "outputs": [],
   "source": [
    "# Imports\n",
    "import os\n",
    "import pandas as pd\n",
    "import seaborn as sns\n",
    "# Custom Function imports\n",
    "import sys\n",
    "sys.path.append('C:/Users/whitm/Documents/GitHub/ads-509-final/functions')\n",
    "import token_functions as tf\n",
    "import data_loading as dl\n",
    "#import functions.token_functions as tf\n",
    "#import functions.data_loading as dl\n",
    "import numpy as np\n",
    "import spacy\n",
    "import pickle\n",
    "import torch\n",
    "from sklearn.model_selection import train_test_split\n",
    "from sklearn.feature_extraction.text import TfidfVectorizer, CountVectorizer\n",
    "from sklearn.metrics import accuracy_score, precision_score, recall_score, f1_score\n",
    "from sklearn.decomposition import NMF, TruncatedSVD, LatentDirichletAllocation\n",
    "from sklearn.svm import LinearSVC\n",
    "from sklearn.utils import resample\n",
    "import matplotlib.pyplot as plt\n",
    "from transformers import BertConfig, BertTokenizer, BertForSequenceClassification, AdamW, get_linear_schedule_with_warmup\n",
    "from torch.utils.data import TensorDataset, SequentialSampler, DataLoader, RandomSampler\n",
    "from tqdm import trange, notebook\n",
    "from nltk.corpus import stopwords\n",
    "import pyLDAvis\n",
    "import pyLDAvis.lda_model\n",
    "import pyLDAvis.gensim_models"
   ]
  },
  {
   "cell_type": "code",
   "execution_count": 4,
   "metadata": {},
   "outputs": [],
   "source": [
    "# Extracting Stopwords from packages\n",
    "nlp = spacy.load('en_core_web_sm')\n",
    "sw = stopwords.words(\"english\")"
   ]
  },
  {
   "attachments": {},
   "cell_type": "markdown",
   "metadata": {},
   "source": [
    "## Importing the Data\n",
    "\n",
    "The data from Amazon has been scraped into a csv file of reviews for each product. Those files were stored in their respective folders; games, books, or movies for ease of use moving forward in the project. "
   ]
  },
  {
   "cell_type": "code",
   "execution_count": 5,
   "metadata": {},
   "outputs": [],
   "source": [
    "# Directories for each folder\n",
    "games_dir = 'C:/Users/whitm/OneDrive/Desktop/ADS509/data/games'\n",
    "books_dir = 'C:/Users/whitm/OneDrive/Desktop/ADS509/data/books'\n",
    "movies_dir = 'C:/Users/whitm/OneDrive/Desktop/ADS509/data/movies'"
   ]
  },
  {
   "cell_type": "code",
   "execution_count": 6,
   "metadata": {},
   "outputs": [],
   "source": [
    "# Importing each folder as a single pandas dataframe\n",
    "games_df = dl.read_csv_files(games_dir)\n",
    "books_df = dl.read_csv_files(books_dir)\n",
    "movies_df = dl.read_csv_files(movies_dir)"
   ]
  },
  {
   "cell_type": "code",
   "execution_count": 7,
   "metadata": {},
   "outputs": [],
   "source": [
    "# Creates a combined dataframe if needed for analysis\n",
    "# Create an empty list to store the review dataframes\n",
    "df_list = []\n",
    "\n",
    "for root, dirs, files in os.walk('C:/Users/whitm/OneDrive/Desktop/ADS509/data'):\n",
    "    for filename in files:\n",
    "        # Read the CSV file into a datadrame\n",
    "        df = pd.read_csv(os.path.join(root, filename), index_col=0)\n",
    "\n",
    "        # Append the dataframe to the list\n",
    "        df_list.append(df)\n",
    "\n",
    "# Combine the dataframes into a single dataframe\n",
    "combined_df = pd.concat(df_list, ignore_index=True)"
   ]
  },
  {
   "attachments": {},
   "cell_type": "markdown",
   "metadata": {},
   "source": [
    "## Exploratory Data Analysis"
   ]
  },
  {
   "attachments": {},
   "cell_type": "markdown",
   "metadata": {},
   "source": [
    "### Games Data Exploration"
   ]
  },
  {
   "cell_type": "code",
   "execution_count": 8,
   "metadata": {},
   "outputs": [
    {
     "data": {
      "text/plain": [
       "name            0\n",
       "game_title      0\n",
       "review_title    0\n",
       "review          3\n",
       "rating          0\n",
       "date_place      0\n",
       "dtype: int64"
      ]
     },
     "execution_count": 8,
     "metadata": {},
     "output_type": "execute_result"
    }
   ],
   "source": [
    "games_df.isna().sum()"
   ]
  },
  {
   "cell_type": "code",
   "execution_count": 9,
   "metadata": {},
   "outputs": [
    {
     "data": {
      "text/plain": [
       "(1417, 6)"
      ]
     },
     "execution_count": 9,
     "metadata": {},
     "output_type": "execute_result"
    }
   ],
   "source": [
    "# removing null values\n",
    "games_df = games_df.dropna()\n",
    "games_df.shape"
   ]
  },
  {
   "cell_type": "code",
   "execution_count": 10,
   "metadata": {},
   "outputs": [
    {
     "data": {
      "text/html": [
       "<div>\n",
       "<style scoped>\n",
       "    .dataframe tbody tr th:only-of-type {\n",
       "        vertical-align: middle;\n",
       "    }\n",
       "\n",
       "    .dataframe tbody tr th {\n",
       "        vertical-align: top;\n",
       "    }\n",
       "\n",
       "    .dataframe thead th {\n",
       "        text-align: right;\n",
       "    }\n",
       "</style>\n",
       "<table border=\"1\" class=\"dataframe\">\n",
       "  <thead>\n",
       "    <tr style=\"text-align: right;\">\n",
       "      <th></th>\n",
       "      <th>name</th>\n",
       "      <th>game_title</th>\n",
       "      <th>review_title</th>\n",
       "      <th>review</th>\n",
       "      <th>rating</th>\n",
       "      <th>date_place</th>\n",
       "    </tr>\n",
       "  </thead>\n",
       "  <tbody>\n",
       "    <tr>\n",
       "      <th>0</th>\n",
       "      <td>Steve Samuelson</td>\n",
       "      <td>Anno 1800 - Standard Edition, Xbox Series X</td>\n",
       "      <td>City Building Game</td>\n",
       "      <td>I would compare this game to Tropico. It is a ...</td>\n",
       "      <td>4.0</td>\n",
       "      <td>Reviewed in the United States 🇺🇸 on May 10, 2023</td>\n",
       "    </tr>\n",
       "    <tr>\n",
       "      <th>1</th>\n",
       "      <td>Eric F. Brown</td>\n",
       "      <td>Anno 1800 - Standard Edition, Xbox Series X</td>\n",
       "      <td>I love this</td>\n",
       "      <td>I love games like this, the graphics are stunn...</td>\n",
       "      <td>5.0</td>\n",
       "      <td>Reviewed in the United States 🇺🇸 on March 29, ...</td>\n",
       "    </tr>\n",
       "    <tr>\n",
       "      <th>2</th>\n",
       "      <td>Grey Day</td>\n",
       "      <td>Anno 1800 - Standard Edition, Xbox Series X</td>\n",
       "      <td>must create ubisoft account</td>\n",
       "      <td>You can't play unless you create an ubisoft ac...</td>\n",
       "      <td>1.0</td>\n",
       "      <td>Reviewed in the United States 🇺🇸 on April 23, ...</td>\n",
       "    </tr>\n",
       "  </tbody>\n",
       "</table>\n",
       "</div>"
      ],
      "text/plain": [
       "              name                                   game_title  \\\n",
       "0  Steve Samuelson  Anno 1800 - Standard Edition, Xbox Series X   \n",
       "1    Eric F. Brown  Anno 1800 - Standard Edition, Xbox Series X   \n",
       "2         Grey Day  Anno 1800 - Standard Edition, Xbox Series X   \n",
       "\n",
       "                  review_title  \\\n",
       "0           City Building Game   \n",
       "1                  I love this   \n",
       "2  must create ubisoft account   \n",
       "\n",
       "                                              review  rating  \\\n",
       "0  I would compare this game to Tropico. It is a ...     4.0   \n",
       "1  I love games like this, the graphics are stunn...     5.0   \n",
       "2  You can't play unless you create an ubisoft ac...     1.0   \n",
       "\n",
       "                                          date_place  \n",
       "0   Reviewed in the United States 🇺🇸 on May 10, 2023  \n",
       "1  Reviewed in the United States 🇺🇸 on March 29, ...  \n",
       "2  Reviewed in the United States 🇺🇸 on April 23, ...  "
      ]
     },
     "execution_count": 10,
     "metadata": {},
     "output_type": "execute_result"
    }
   ],
   "source": [
    "games_df.head(3)"
   ]
  },
  {
   "cell_type": "code",
   "execution_count": 11,
   "metadata": {},
   "outputs": [
    {
     "data": {
      "text/plain": [
       "array(['Anno 1800 - Standard Edition, Xbox Series X',\n",
       "       'Dead Island 2: Day 1 Edition - Xbox Series X',\n",
       "       'Dead Space - Xbox Series X',\n",
       "       'Diablo IV - Ultimate Edition - Xbox [Digital Code]',\n",
       "       'Dying Light 2 Stay Human - Xbox Series X',\n",
       "       'EA SPORTS PGA Tour - Xbox Series X', 'Elden Ring - Xbox Series X',\n",
       "       \"Five Nights at Freddy's: Security Breach (XSX)\",\n",
       "       'Forza Horizon 5: Premium Edition – Xbox & Windows [Digital Code]',\n",
       "       'Forza Horizon 5: Standard Edition – Xbox & Windows [Digital Code]',\n",
       "       'Forza Horizon 5: Standard Edition – Xbox Series X & Xbox One',\n",
       "       'Grand Theft Auto V - Xbox Series X',\n",
       "       'Halo Infinite: Standard Edition – Xbox Series X & Xbox One',\n",
       "       'Hogwarts Legacy: Digital Deluxe Edition - Xbox [Digital Code]',\n",
       "       'Hogwarts Legacy: Standard Edition - Xbox Series X|S [Digital Code]',\n",
       "       'Hogwarts Legacy - Xbox Series X | English | EU Import Region Free Version',\n",
       "       'Just Dance 2022 (Xbox One/Series X)',\n",
       "       'Just Dance 2023 Edition - Code in box, Xbox Series X|S',\n",
       "       'LEGO Star Wars: Skywalker Saga (Galactic Edition) - For Xbox Series X',\n",
       "       'Madden NFL 23 – Xbox Series X',\n",
       "       \"Marvel's Guardians of the Galaxy - Xbox Series X/Xbox One\",\n",
       "       'Microsoft Flight Simulator: Standard Edition – Xbox Series X',\n",
       "       'Microsoft MLB The Show 22 for Xbox Series X',\n",
       "       'Minecraft Legends Deluxe Edition: Xbox Series X and Xbox One',\n",
       "       'MX vs ATV Legends for Xbox One and Xbox Series X',\n",
       "       'NBA 2K23 Digital Deluxe Edition - Xbox [Digital Code]',\n",
       "       'NBA 2K23 Michael Jordan Edition - Xbox [Digital Code]',\n",
       "       'NBA 2K23 - Xbox Series X|S [Digital Code]',\n",
       "       'Resident Evil 4 - PS4', 'Resident Evil 4 - Xbox Series X',\n",
       "       'Saints Row Day 1 Edition - Xbox Series X',\n",
       "       'Sonic Frontiers - Xbox Series X',\n",
       "       'Star Wars Jedi: Survivor Deluxe - Xbox Series X',\n",
       "       'Star Wars Jedi: Survivor Standard - Xbox Series X|S [Digital Code]',\n",
       "       'Star Wars Jedi: Survivor - Xbox Series X',\n",
       "       'Star Wars Jedi: Survivor XBOX X Video Game English EU Version Region Free',\n",
       "       'Street Fighter 6 Deluxe Edition - XBX',\n",
       "       'The Callisto Protocol Standard Edition - Xbox Series X',\n",
       "       \"Tiny Tina's Wonderlands: Chaotic Great - Xbox [Digital Code]\"],\n",
       "      dtype=object)"
      ]
     },
     "execution_count": 11,
     "metadata": {},
     "output_type": "execute_result"
    }
   ],
   "source": [
    "games_df['game_title'].unique()"
   ]
  },
  {
   "cell_type": "code",
   "execution_count": 12,
   "metadata": {},
   "outputs": [
    {
     "data": {
      "text/plain": [
       "en         1288\n",
       "es           36\n",
       "ja           25\n",
       "af           10\n",
       "fr            6\n",
       "pt            6\n",
       "so            6\n",
       "it            5\n",
       "da            5\n",
       "de            5\n",
       "tl            3\n",
       "unknown       3\n",
       "sl            3\n",
       "no            3\n",
       "et            3\n",
       "id            2\n",
       "nl            2\n",
       "ro            1\n",
       "cy            1\n",
       "ca            1\n",
       "lt            1\n",
       "sw            1\n",
       "tr            1\n",
       "Name: lang, dtype: int64"
      ]
     },
     "execution_count": 12,
     "metadata": {},
     "output_type": "execute_result"
    }
   ],
   "source": [
    "# Investigate different languages that make up the review text\n",
    "games_df['lang'] = games_df['review'].apply(tf.detect_language)\n",
    "games_df['lang'].value_counts()"
   ]
  },
  {
   "cell_type": "code",
   "execution_count": 13,
   "metadata": {},
   "outputs": [],
   "source": [
    "# drop non english reviews\n",
    "games_df = games_df.query('lang == \"en\"')"
   ]
  },
  {
   "cell_type": "code",
   "execution_count": 14,
   "metadata": {},
   "outputs": [
    {
     "name": "stdout",
     "output_type": "stream",
     "text": [
      "There are 452299 tokens in the data.\n",
      "There are 131 unique tokens in the data.\n",
      "There are 452299 characters in the data.\n",
      "The lexical diversity is 0.000 in the data.\n",
      "[(' ', 82732), ('e', 41740), ('t', 31583), ('a', 29090), ('o', 26834)]\n"
     ]
    },
    {
     "data": {
      "text/plain": [
       "[452299, 131, 0.0, 452299]"
      ]
     },
     "execution_count": 14,
     "metadata": {},
     "output_type": "execute_result"
    }
   ],
   "source": [
    "# Convert pandas series of reviews to a list in order to get stats on entire review text\n",
    "games_texts = games_df['review'].tolist()\n",
    "games_texts = \" \".join(games_texts)\n",
    "tf.descriptive_stats(games_texts)"
   ]
  },
  {
   "cell_type": "code",
   "execution_count": 15,
   "metadata": {},
   "outputs": [
    {
     "data": {
      "image/png": "[encoded data removed]",
      "text/plain": [
       "<Figure size 640x480 with 1 Axes>"
      ]
     },
     "metadata": {},
     "output_type": "display_data"
    }
   ],
   "source": [
    "# Plotting the Class Distribution\n",
    "sns.countplot(x=games_df['rating'])\n",
    "plt.show()"
   ]
  },
  {
   "attachments": {},
   "cell_type": "markdown",
   "metadata": {},
   "source": [
    "#### Comments\n",
    "As expected, 5 is the majority class because many people who review products are either in love with product and excited to share something about it, or the person hates the product and would like to share the problems  they had when trying to watch/read/play the product. Hence, 1 is the second most populated class. Meanwhile, the middle 3 classes (2, 3, & 4) are all miniscule (<100) compared to 1 (~350) and 5 (700). This class imbalance will have to addressed by implemented either downsampling or oversampling for the modeling phase. "
   ]
  },
  {
   "attachments": {},
   "cell_type": "markdown",
   "metadata": {},
   "source": [
    "### Book Data Exploration"
   ]
  },
  {
   "cell_type": "code",
   "execution_count": 16,
   "metadata": {},
   "outputs": [
    {
     "data": {
      "text/plain": [
       "name              3\n",
       "movie_title       0\n",
       "review_title      6\n",
       "review          183\n",
       "rating            0\n",
       "date_place        0\n",
       "dtype: int64"
      ]
     },
     "execution_count": 16,
     "metadata": {},
     "output_type": "execute_result"
    }
   ],
   "source": [
    "books_df.isna().sum()"
   ]
  },
  {
   "cell_type": "code",
   "execution_count": 17,
   "metadata": {},
   "outputs": [
    {
     "data": {
      "text/plain": [
       "(104667, 6)"
      ]
     },
     "execution_count": 17,
     "metadata": {},
     "output_type": "execute_result"
    }
   ],
   "source": [
    "# Dropping Nulls\n",
    "books_df = books_df.dropna()\n",
    "books_df.shape"
   ]
  },
  {
   "cell_type": "code",
   "execution_count": 18,
   "metadata": {},
   "outputs": [
    {
     "data": {
      "text/html": [
       "<div>\n",
       "<style scoped>\n",
       "    .dataframe tbody tr th:only-of-type {\n",
       "        vertical-align: middle;\n",
       "    }\n",
       "\n",
       "    .dataframe tbody tr th {\n",
       "        vertical-align: top;\n",
       "    }\n",
       "\n",
       "    .dataframe thead th {\n",
       "        text-align: right;\n",
       "    }\n",
       "</style>\n",
       "<table border=\"1\" class=\"dataframe\">\n",
       "  <thead>\n",
       "    <tr style=\"text-align: right;\">\n",
       "      <th></th>\n",
       "      <th>name</th>\n",
       "      <th>movie_title</th>\n",
       "      <th>review_title</th>\n",
       "      <th>review</th>\n",
       "      <th>rating</th>\n",
       "      <th>date_place</th>\n",
       "    </tr>\n",
       "  </thead>\n",
       "  <tbody>\n",
       "    <tr>\n",
       "      <th>0</th>\n",
       "      <td>Haical Sajovic Haddad</td>\n",
       "      <td>Atomic Habits: An Easy &amp; Proven Way to Build G...</td>\n",
       "      <td>Updated review after 100 days building small y...</td>\n",
       "      <td>I previously wrote this review right after rea...</td>\n",
       "      <td>5.0</td>\n",
       "      <td>Reviewed in the United States on October 18, 2018</td>\n",
       "    </tr>\n",
       "    <tr>\n",
       "      <th>1</th>\n",
       "      <td>Jim Muccio</td>\n",
       "      <td>Atomic Habits: An Easy &amp; Proven Way to Build G...</td>\n",
       "      <td>Just Do It</td>\n",
       "      <td>James Clear in his truly remarkable book, “Ato...</td>\n",
       "      <td>5.0</td>\n",
       "      <td>Reviewed in the United States on December 24, ...</td>\n",
       "    </tr>\n",
       "    <tr>\n",
       "      <th>2</th>\n",
       "      <td>Jocelyn Nielson</td>\n",
       "      <td>Atomic Habits: An Easy &amp; Proven Way to Build G...</td>\n",
       "      <td>A must-read for people who want to create bett...</td>\n",
       "      <td>I’d like to say that I first bought this back ...</td>\n",
       "      <td>5.0</td>\n",
       "      <td>Reviewed in the United States on May 31, 2023</td>\n",
       "    </tr>\n",
       "  </tbody>\n",
       "</table>\n",
       "</div>"
      ],
      "text/plain": [
       "                    name                                        movie_title  \\\n",
       "0  Haical Sajovic Haddad  Atomic Habits: An Easy & Proven Way to Build G...   \n",
       "1             Jim Muccio  Atomic Habits: An Easy & Proven Way to Build G...   \n",
       "2        Jocelyn Nielson  Atomic Habits: An Easy & Proven Way to Build G...   \n",
       "\n",
       "                                        review_title  \\\n",
       "0  Updated review after 100 days building small y...   \n",
       "1                                         Just Do It   \n",
       "2  A must-read for people who want to create bett...   \n",
       "\n",
       "                                              review  rating  \\\n",
       "0  I previously wrote this review right after rea...     5.0   \n",
       "1  James Clear in his truly remarkable book, “Ato...     5.0   \n",
       "2  I’d like to say that I first bought this back ...     5.0   \n",
       "\n",
       "                                          date_place  \n",
       "0  Reviewed in the United States on October 18, 2018  \n",
       "1  Reviewed in the United States on December 24, ...  \n",
       "2      Reviewed in the United States on May 31, 2023  "
      ]
     },
     "execution_count": 18,
     "metadata": {},
     "output_type": "execute_result"
    }
   ],
   "source": [
    "books_df.head(3)"
   ]
  },
  {
   "cell_type": "code",
   "execution_count": 19,
   "metadata": {},
   "outputs": [
    {
     "data": {
      "text/plain": [
       "array(['Atomic Habits: An Easy & Proven Way to Build Good Habits & Break Bad Ones',\n",
       "       'Brown Bear, Brown Bear, What Do You See?',\n",
       "       'Central Park West: A Crime Novel',\n",
       "       'Demon Copperhead: A Pulitzer Prize Winner',\n",
       "       'First Grade, Here I Come!', 'Fourth Wing (The Empyrean, 1)',\n",
       "       'Happy Place', 'Haunting Adeline (Cat and Mouse Duet)',\n",
       "       'Icebreaker: A Novel (The Maple Hills Series)',\n",
       "       'If He Had Been with Me', 'I Love You to the Moon and Back',\n",
       "       'It Ends with Us: A Novel (1)',\n",
       "       'It Starts with Us: A Novel (2) (It Ends with Us)',\n",
       "       'I Will Teach You to Be Rich: No Guilt. No Excuses. Just a 6-Week Program That Works (Second Edition)',\n",
       "       'Killers of the Flower Moon: The Osage Murders and the Birth of the FBI',\n",
       "       'Kindergarten, Here I Come!', 'Lessons in Chemistry: A Novel',\n",
       "       \"Oh, the Places You'll Go!  \",\n",
       "       'Outlive: The Science and Art of Longevity',\n",
       "       'Read Me When You Need Me.',\n",
       "       'Rich Dad Poor Dad: What the Rich Teach Their Kids About Money That the Poor and Middle Class Do Not!',\n",
       "       'Summer Bridge Activities 1st Grade Workbooks to 2nd Grade Workbooks, Math, Reading Comprehension, Writing, Science Summer Learning Activities, 2nd Grade Workbooks All Subjects With Flash Cards',\n",
       "       'Summer Bridge Activities 2nd to 3rd Grade Workbook, Math, Reading Comprehension, Writing, Science, Social Studies, Fitness Summer Learning Activities, 3rd Grade Workbooks All Subjects With Flash Cards',\n",
       "       'Summer Bridge Activities 3rd to 4th Grade Workbook, Math, Reading Comprehension, Writing, Science, Social Studies, Fitness Summer Learning Activities, 4th Grade Workbooks All Subjects With Flash Cards',\n",
       "       'Summer Bridge Activities 4th to 5th Grade Workbook, Math, Reading Comprehension, Writing, Science, Social Studies, Fitness Summer Learning Activities, 5th Grade Workbooks All Subjects With Flash Cards',\n",
       "       'Summer Bridge Activities 5th to 6th Grade Workbooks, Math, Reading Comprehension, Writing, Science, Social Studies, Fitness Summer Learning, 6th Grade Workbooks All Subjects With Flash Cards',\n",
       "       'Summer Bridge Activities 6th to 7th Grade Workbooks, Math, Reading Comprehension, Writing, Science, Social Studies, Fitness Summer Learning, 7th Grade Workbooks All Subjects With Flash Cards',\n",
       "       'Summer Bridge Activities Kindergarten to 1st Grade Workbooks, Math, Reading Comprehension, Writing, Science, Fitness, Social Studies Summer Learning, 1st Grade Workbooks All Subjects With Flash Cards',\n",
       "       'Taylor Swift: A Little Golden Book Biography',\n",
       "       'The 48 Laws of Power',\n",
       "       'The Body Keeps the Score: Brain, Mind, and Body in the Healing of Trauma',\n",
       "       \"The Covenant of Water (Oprah's Book Club)\",\n",
       "       'The Creative Act: A Way of Being',\n",
       "       'The Four Agreements: A Practical Guide to Personal Freedom (A Toltec Wisdom Book)',\n",
       "       'The Hill We Climb: An Inaugural Poem for the Country',\n",
       "       \"The Housemaid's Secret: A totally gripping psychological thriller with a shocking twist\",\n",
       "       'The Housemaid', 'The Last Thing He Told Me: A Novel',\n",
       "       'The Seven Husbands of Evelyn Hugo: A Novel',\n",
       "       'The Very Hungry Caterpillar',\n",
       "       'The Wager: A Tale of Shipwreck, Mutiny and Murder',\n",
       "       'Things We Never Got Over (Knockemout)', 'Ugly Love: A Novel',\n",
       "       'Verity',\n",
       "       \"Why a Daughter Needs a Dad: Celebrate Your Father Daughter Bond this Father's Day with this Special Picture Book!\",\n",
       "       \"Why a Son Needs a Dad: Celebrate Your Father and Son Bond this Father's Day with this Heartwarming Gift!\"],\n",
       "      dtype=object)"
      ]
     },
     "execution_count": 19,
     "metadata": {},
     "output_type": "execute_result"
    }
   ],
   "source": [
    "books_df['movie_title'].unique()"
   ]
  },
  {
   "cell_type": "code",
   "execution_count": 20,
   "metadata": {},
   "outputs": [
    {
     "data": {
      "text/plain": [
       "en         100060\n",
       "af            854\n",
       "es            486\n",
       "so            384\n",
       "de            329\n",
       "it            236\n",
       "ro            229\n",
       "fr            229\n",
       "ca            208\n",
       "pt            171\n",
       "sl            169\n",
       "da            163\n",
       "ja            153\n",
       "nl            144\n",
       "tl            136\n",
       "no            127\n",
       "unknown        98\n",
       "cy             88\n",
       "et             73\n",
       "hu             53\n",
       "sv             50\n",
       "sk             42\n",
       "pl             32\n",
       "sw             30\n",
       "fi             23\n",
       "id             23\n",
       "vi             23\n",
       "sq             21\n",
       "hr             10\n",
       "tr              9\n",
       "cs              7\n",
       "lt              6\n",
       "lv              1\n",
       "Name: lang, dtype: int64"
      ]
     },
     "execution_count": 20,
     "metadata": {},
     "output_type": "execute_result"
    }
   ],
   "source": [
    "# Investigate different languages that make up the review text\n",
    "books_df['lang'] = books_df['review'].apply(tf.detect_language)\n",
    "books_df['lang'].value_counts()"
   ]
  },
  {
   "cell_type": "code",
   "execution_count": 21,
   "metadata": {},
   "outputs": [],
   "source": [
    "# drop non english reviews\n",
    "books_df = books_df.query('lang == \"en\"')"
   ]
  },
  {
   "cell_type": "code",
   "execution_count": 22,
   "metadata": {},
   "outputs": [
    {
     "name": "stdout",
     "output_type": "stream",
     "text": [
      "There are 27540849 tokens in the data.\n",
      "There are 1060 unique tokens in the data.\n",
      "There are 27540849 characters in the data.\n",
      "The lexical diversity is 0.000 in the data.\n",
      "[(' ', 5028477), ('e', 2493635), ('t', 1968092), ('o', 1810900), ('a', 1650180)]\n"
     ]
    },
    {
     "data": {
      "text/plain": [
       "[27540849, 1060, 0.0, 27540849]"
      ]
     },
     "execution_count": 22,
     "metadata": {},
     "output_type": "execute_result"
    }
   ],
   "source": [
    "# Convert pandas series of reviews to a list in order to get stats on entire review text\n",
    "books_texts = books_df['review'].tolist()\n",
    "books_texts = \" \".join(books_texts)\n",
    "tf.descriptive_stats(books_texts)"
   ]
  },
  {
   "cell_type": "code",
   "execution_count": 23,
   "metadata": {},
   "outputs": [
    {
     "data": {
      "image/png": "[encoded data removed]",
      "text/plain": [
       "<Figure size 640x480 with 1 Axes>"
      ]
     },
     "metadata": {},
     "output_type": "display_data"
    }
   ],
   "source": [
    "sns.countplot(x=books_df['rating'])\n",
    "plt.show()"
   ]
  },
  {
   "attachments": {},
   "cell_type": "markdown",
   "metadata": {},
   "source": [
    "#### Comments\n",
    "For books, the class imbalance is even more severe. The 5 class has around 80,000 reviews while the other 4 classes can hardly sum up to 10,000 reviews. It seems that consumers excitement about a book being good has overrun the review sections on Amazon. This is particularly supported by 4.0 being the second highest class. "
   ]
  },
  {
   "attachments": {},
   "cell_type": "markdown",
   "metadata": {},
   "source": [
    "### Movie Data Exploration"
   ]
  },
  {
   "cell_type": "code",
   "execution_count": 24,
   "metadata": {},
   "outputs": [
    {
     "data": {
      "text/plain": [
       "name            0\n",
       "movie_title     0\n",
       "review_title    7\n",
       "review          8\n",
       "rating          0\n",
       "date_place      0\n",
       "dtype: int64"
      ]
     },
     "execution_count": 24,
     "metadata": {},
     "output_type": "execute_result"
    }
   ],
   "source": [
    "movies_df.isna().sum()"
   ]
  },
  {
   "cell_type": "code",
   "execution_count": 25,
   "metadata": {},
   "outputs": [
    {
     "data": {
      "text/plain": [
       "(22876, 6)"
      ]
     },
     "execution_count": 25,
     "metadata": {},
     "output_type": "execute_result"
    }
   ],
   "source": [
    "# Dropping Nulls\n",
    "movies_df = movies_df.dropna()\n",
    "movies_df.shape"
   ]
  },
  {
   "cell_type": "code",
   "execution_count": 26,
   "metadata": {},
   "outputs": [
    {
     "data": {
      "text/html": [
       "<div>\n",
       "<style scoped>\n",
       "    .dataframe tbody tr th:only-of-type {\n",
       "        vertical-align: middle;\n",
       "    }\n",
       "\n",
       "    .dataframe tbody tr th {\n",
       "        vertical-align: top;\n",
       "    }\n",
       "\n",
       "    .dataframe thead th {\n",
       "        text-align: right;\n",
       "    }\n",
       "</style>\n",
       "<table border=\"1\" class=\"dataframe\">\n",
       "  <thead>\n",
       "    <tr style=\"text-align: right;\">\n",
       "      <th></th>\n",
       "      <th>name</th>\n",
       "      <th>movie_title</th>\n",
       "      <th>review_title</th>\n",
       "      <th>review</th>\n",
       "      <th>rating</th>\n",
       "      <th>date_place</th>\n",
       "    </tr>\n",
       "  </thead>\n",
       "  <tbody>\n",
       "    <tr>\n",
       "      <th>0</th>\n",
       "      <td>Not bad at all</td>\n",
       "      <td>2 Fast 2 Furious</td>\n",
       "      <td>Love this movie</td>\n",
       "      <td>Truly one of my faves. It’s a must watch if yo...</td>\n",
       "      <td>5.0</td>\n",
       "      <td>Reviewed in the United States 🇺🇸 on May 11, 2023</td>\n",
       "    </tr>\n",
       "    <tr>\n",
       "      <th>1</th>\n",
       "      <td>Coleman</td>\n",
       "      <td>2 Fast 2 Furious</td>\n",
       "      <td>Fast n furious</td>\n",
       "      <td>I LOVE ALL THEIR MOVIES LOL</td>\n",
       "      <td>5.0</td>\n",
       "      <td>Reviewed in the United States 🇺🇸 on May 16, 2023</td>\n",
       "    </tr>\n",
       "    <tr>\n",
       "      <th>2</th>\n",
       "      <td>Jack Pocock</td>\n",
       "      <td>2 Fast 2 Furious</td>\n",
       "      <td>American Masterpiece</td>\n",
       "      <td>If you didn't enjoy this movie--- you're wrong...</td>\n",
       "      <td>5.0</td>\n",
       "      <td>Reviewed in the United States 🇺🇸 on April 28, ...</td>\n",
       "    </tr>\n",
       "  </tbody>\n",
       "</table>\n",
       "</div>"
      ],
      "text/plain": [
       "             name       movie_title          review_title  \\\n",
       "0  Not bad at all  2 Fast 2 Furious       Love this movie   \n",
       "1         Coleman  2 Fast 2 Furious        Fast n furious   \n",
       "2     Jack Pocock  2 Fast 2 Furious  American Masterpiece   \n",
       "\n",
       "                                              review  rating  \\\n",
       "0  Truly one of my faves. It’s a must watch if yo...     5.0   \n",
       "1                        I LOVE ALL THEIR MOVIES LOL     5.0   \n",
       "2  If you didn't enjoy this movie--- you're wrong...     5.0   \n",
       "\n",
       "                                          date_place  \n",
       "0   Reviewed in the United States 🇺🇸 on May 11, 2023  \n",
       "1   Reviewed in the United States 🇺🇸 on May 16, 2023  \n",
       "2  Reviewed in the United States 🇺🇸 on April 28, ...  "
      ]
     },
     "execution_count": 26,
     "metadata": {},
     "output_type": "execute_result"
    }
   ],
   "source": [
    "movies_df.head(3)"
   ]
  },
  {
   "cell_type": "code",
   "execution_count": 27,
   "metadata": {},
   "outputs": [
    {
     "data": {
      "text/plain": [
       "array(['2 Fast 2 Furious', 65, '80 For Brady', 'A Good Person',\n",
       "       'A Man Called Otto', 'Avatar: The Way of Water', 'Champions',\n",
       "       'Cocaine Bear', 'Creed III',\n",
       "       'Dungeons & Dragons: Honor Among Thieves', 'Evil Dead Rise',\n",
       "       'F9: The Fast Saga', 'Fifty Shades Darker',\n",
       "       \"Guy Ritchie's The Covenant\", 'Jesus Revolution',\n",
       "       'John Wick: Chapter 4 - Bonus X-Ray Edition',\n",
       "       'John Wick: Chapter 4', 'Knock at the Cabin', 'Love Again',\n",
       "       'M3GAN', \"Magic Mike's Last Dance\", 'Moving On',\n",
       "       'Operation Fortune: Ruse de Guerre', 'Pitch Perfect 3', 'Plane',\n",
       "       'Puss in Boots: The Last Wish', 'Renfield', 'Reunion, Pt. 2',\n",
       "       'Scream VI', 'Shazam! Fury of the Gods', 'Sisu',\n",
       "       'Spider-Man: Into the Spider-Verse', 'The Croods: A New Age',\n",
       "       'The Fast and the Furious', \"The Pope's Exorcist\",\n",
       "       'The Ritual Killer', 'The Super Mario Bros. Movie', 'The Whale'],\n",
       "      dtype=object)"
      ]
     },
     "execution_count": 27,
     "metadata": {},
     "output_type": "execute_result"
    }
   ],
   "source": [
    "movies_df['movie_title'].unique()"
   ]
  },
  {
   "cell_type": "code",
   "execution_count": 28,
   "metadata": {},
   "outputs": [
    {
     "data": {
      "text/plain": [
       "en         19792\n",
       "af           676\n",
       "de           285\n",
       "ro           240\n",
       "es           190\n",
       "so           184\n",
       "fr           161\n",
       "sk           141\n",
       "it           121\n",
       "no           116\n",
       "sl           111\n",
       "ca           100\n",
       "da            97\n",
       "unknown       90\n",
       "nl            87\n",
       "cy            81\n",
       "tl            63\n",
       "et            59\n",
       "sw            32\n",
       "hu            30\n",
       "id            30\n",
       "ja            30\n",
       "hr            28\n",
       "pt            27\n",
       "pl            18\n",
       "fi            17\n",
       "sv            17\n",
       "tr            16\n",
       "vi            16\n",
       "sq            11\n",
       "lt             5\n",
       "lv             3\n",
       "cs             2\n",
       "Name: lang, dtype: int64"
      ]
     },
     "execution_count": 28,
     "metadata": {},
     "output_type": "execute_result"
    }
   ],
   "source": [
    "# Investigate different languages that make up the review text\n",
    "movies_df['lang'] = movies_df['review'].apply(tf.detect_language)\n",
    "movies_df['lang'].value_counts()"
   ]
  },
  {
   "cell_type": "code",
   "execution_count": 29,
   "metadata": {},
   "outputs": [],
   "source": [
    "# drop non english reviews\n",
    "movies_df = movies_df.query('lang == \"en\"')"
   ]
  },
  {
   "cell_type": "code",
   "execution_count": 30,
   "metadata": {},
   "outputs": [
    {
     "name": "stdout",
     "output_type": "stream",
     "text": [
      "There are 3449632 tokens in the data.\n",
      "There are 251 unique tokens in the data.\n",
      "There are 3449632 characters in the data.\n",
      "The lexical diversity is 0.000 in the data.\n",
      "[(' ', 630030), ('e', 315516), ('t', 248558), ('a', 211008), ('o', 207419)]\n"
     ]
    },
    {
     "data": {
      "text/plain": [
       "[3449632, 251, 0.0, 3449632]"
      ]
     },
     "execution_count": 30,
     "metadata": {},
     "output_type": "execute_result"
    }
   ],
   "source": [
    "# Convert pandas series of reviews to a list in order to get stats on entire review text\n",
    "movies_texts = movies_df['review'].tolist()\n",
    "movies_texts = \" \".join(movies_texts)\n",
    "tf.descriptive_stats(movies_texts)"
   ]
  },
  {
   "cell_type": "code",
   "execution_count": 31,
   "metadata": {},
   "outputs": [
    {
     "data": {
      "image/png": "[encoded data removed]",
      "text/plain": [
       "<Figure size 640x480 with 1 Axes>"
      ]
     },
     "metadata": {},
     "output_type": "display_data"
    }
   ],
   "source": [
    "sns.countplot(x=movies_df['rating'])\n",
    "plt.show()"
   ]
  },
  {
   "attachments": {},
   "cell_type": "markdown",
   "metadata": {},
   "source": [
    "#### Comments\n",
    "Again for movies, the most positive class 5, by far has the most reviews. The second highest class is 1, similar to the games section, yet it is much closer to 4 than games was. This concludes the class investigation for all three media types; games, books, and movies. Moving forward into modeling, finding some way to create class balance will be necessary, especially as the model will be for sentiment with classes 1 + 2 being negative and classes 4 + 5 being positive. "
   ]
  },
  {
   "attachments": {},
   "cell_type": "markdown",
   "metadata": {},
   "source": [
    "## Sentiment Modeling"
   ]
  },
  {
   "attachments": {},
   "cell_type": "markdown",
   "metadata": {},
   "source": [
    "### Prepping the data for modeling"
   ]
  },
  {
   "cell_type": "code",
   "execution_count": 32,
   "metadata": {},
   "outputs": [],
   "source": [
    "# drop titles\n",
    "nlp_df = combined_df.drop(columns=['game_title','movie_title'])\n",
    "\n",
    "# drop values\n",
    "nlp_df = nlp_df.dropna()\n",
    "\n",
    "# drop non english reviews\n",
    "nlp_df['lang'] = nlp_df['review'].apply(tf.detect_language)\n",
    "\n",
    "nlp_df = nlp_df.query('lang == \"en\"')\n",
    "\n",
    "# convert review from float to int\n",
    "nlp_df['rating'] = nlp_df['rating'].astype(int)"
   ]
  },
  {
   "cell_type": "code",
   "execution_count": 33,
   "metadata": {},
   "outputs": [],
   "source": [
    "nlp_df['review_tokens'] = nlp_df['review'].apply(tf.clean_tokenize)\n",
    "nlp_df['review_title_tokens'] = nlp_df['review_title'].apply(tf.clean_tokenize)"
   ]
  },
  {
   "cell_type": "code",
   "execution_count": 34,
   "metadata": {},
   "outputs": [
    {
     "data": {
      "text/plain": [
       "rating\n",
       "1     6475\n",
       "2     3899\n",
       "3     6465\n",
       "4    12777\n",
       "5    91528\n",
       "Name: review, dtype: int64"
      ]
     },
     "execution_count": 34,
     "metadata": {},
     "output_type": "execute_result"
    }
   ],
   "source": [
    "nlp_df.groupby(['rating'])['review'].count()"
   ]
  },
  {
   "cell_type": "code",
   "execution_count": 35,
   "metadata": {},
   "outputs": [],
   "source": [
    "# Creating Binary Sentiment Class\n",
    "nlp_df['sentiment'] = 0\n",
    "nlp_df.loc[nlp_df['rating']>3, 'sentiment'] = 1\n",
    "nlp_df.loc[nlp_df['rating']<3, 'sentiment'] = 0"
   ]
  },
  {
   "cell_type": "code",
   "execution_count": 36,
   "metadata": {},
   "outputs": [
    {
     "data": {
      "image/png": "[encoded data removed]",
      "text/plain": [
       "<Figure size 640x480 with 1 Axes>"
      ]
     },
     "metadata": {},
     "output_type": "display_data"
    }
   ],
   "source": [
    "# Combined DataFrame Sentiment Counts\n",
    "sns.countplot(x=nlp_df['sentiment'])\n",
    "plt.show()"
   ]
  },
  {
   "cell_type": "code",
   "execution_count": 37,
   "metadata": {},
   "outputs": [
    {
     "data": {
      "image/png": "[encoded data removed]",
      "text/plain": [
       "<Figure size 640x480 with 1 Axes>"
      ]
     },
     "metadata": {},
     "output_type": "display_data"
    }
   ],
   "source": [
    "# Combined DataFrame Rating Counts\n",
    "sns.countplot(x=nlp_df['rating'])\n",
    "plt.show()"
   ]
  },
  {
   "attachments": {},
   "cell_type": "markdown",
   "metadata": {},
   "source": [
    "#### Comments\n",
    "The massive class 5 imbalance throughout each media type has also led to a massive sentiment imbalance in the entire dataset. Below, the class imbalance will be addressed by implementing downsampling to address these concerns. 5 will be downsamples to be equal to the other 4 classes combined. "
   ]
  },
  {
   "cell_type": "code",
   "execution_count": 38,
   "metadata": {},
   "outputs": [],
   "source": [
    "# All non-5 Classes\n",
    "no_5 = nlp_df.query('rating != 5')\n",
    "\n",
    "# Just 5 Class\n",
    "just_5 = nlp_df.query('rating == 5')"
   ]
  },
  {
   "cell_type": "code",
   "execution_count": 39,
   "metadata": {},
   "outputs": [],
   "source": [
    "# Resampling Class 5 to 15,000\n",
    "adjusted_5 = resample(just_5,\n",
    "                      replace=False,\n",
    "                      n_samples=15000,\n",
    "                      random_state=10)"
   ]
  },
  {
   "cell_type": "code",
   "execution_count": 40,
   "metadata": {},
   "outputs": [],
   "source": [
    "# Creating Downsampled DataFrame for modeling\n",
    "adj_nlp_df = pd.concat([adjusted_5, no_5])"
   ]
  },
  {
   "cell_type": "code",
   "execution_count": 41,
   "metadata": {},
   "outputs": [
    {
     "data": {
      "image/png": "[encoded data removed]",
      "text/plain": [
       "<Figure size 640x480 with 1 Axes>"
      ]
     },
     "metadata": {},
     "output_type": "display_data"
    }
   ],
   "source": [
    "sns.countplot(x=adj_nlp_df['sentiment'])\n",
    "plt.show()"
   ]
  },
  {
   "cell_type": "code",
   "execution_count": 42,
   "metadata": {},
   "outputs": [
    {
     "data": {
      "image/png": "[encoded data removed]",
      "text/plain": [
       "<Figure size 640x480 with 1 Axes>"
      ]
     },
     "metadata": {},
     "output_type": "display_data"
    }
   ],
   "source": [
    "sns.countplot(x=adj_nlp_df['rating'])\n",
    "plt.show()"
   ]
  },
  {
   "attachments": {},
   "cell_type": "markdown",
   "metadata": {},
   "source": [
    "#### Comments\n",
    "Looking at the final dataframe, there is still a slight bias towards class 5 and 1 sentiment in terms of overall volume, but it will be much more manageable moving forward without removing a sizeable amount more of data that can potentially be used for modeling. "
   ]
  },
  {
   "attachments": {},
   "cell_type": "markdown",
   "metadata": {},
   "source": [
    "### Splitting the Data"
   ]
  },
  {
   "cell_type": "code",
   "execution_count": 43,
   "metadata": {},
   "outputs": [],
   "source": [
    "# train, test split\n",
    "X_train, X_test, y_train, y_test = train_test_split(adj_nlp_df['review'], adj_nlp_df['sentiment'], test_size=0.20, random_state=10, stratify=adj_nlp_df['sentiment'])"
   ]
  },
  {
   "cell_type": "code",
   "execution_count": 44,
   "metadata": {},
   "outputs": [
    {
     "name": "stdout",
     "output_type": "stream",
     "text": [
      "Size of Training Data  35692\n",
      "Size of Test Data  8924\n",
      "Distribution of classes in Training Data :\n",
      "Positive Sentiment  62.25764877283425\n",
      "Negative Sentiment  37.74235122716575\n",
      "Distribution of classes in Testing Data :\n",
      "Positive Sentiment  62.25907664724338\n",
      "Negative Sentiment  37.74092335275661\n"
     ]
    }
   ],
   "source": [
    "# General stats from custom function file\n",
    "tf.sentiment_stats(X_train, X_test, y_train, y_test)"
   ]
  },
  {
   "attachments": {},
   "cell_type": "markdown",
   "metadata": {},
   "source": [
    "### Vectorize the Data"
   ]
  },
  {
   "cell_type": "code",
   "execution_count": 45,
   "metadata": {},
   "outputs": [
    {
     "data": {
      "text/plain": [
       "(35692, 4514)"
      ]
     },
     "execution_count": 45,
     "metadata": {},
     "output_type": "execute_result"
    }
   ],
   "source": [
    "# tfidf vectorization of the data for model input\n",
    "tfidf = TfidfVectorizer(min_df = 20, max_df=.2 ,ngram_range=(1,1),stop_words=sw)\n",
    "X_train_tf = tfidf.fit_transform(X_train)\n",
    "X_test_tf = tfidf.transform(X_test)\n",
    "X_train_tf.shape"
   ]
  },
  {
   "attachments": {},
   "cell_type": "markdown",
   "metadata": {},
   "source": [
    "### Train SVC Model"
   ]
  },
  {
   "cell_type": "code",
   "execution_count": 46,
   "metadata": {},
   "outputs": [
    {
     "data": {
      "text/html": [
       "<style>#sk-container-id-1 {color: black;background-color: white;}#sk-container-id-1 pre{padding: 0;}#sk-container-id-1 div.sk-toggleable {background-color: white;}#sk-container-id-1 label.sk-toggleable__label {cursor: pointer;display: block;width: 100%;margin-bottom: 0;padding: 0.3em;box-sizing: border-box;text-align: center;}#sk-container-id-1 label.sk-toggleable__label-arrow:before {content: \"▸\";float: left;margin-right: 0.25em;color: #696969;}#sk-container-id-1 label.sk-toggleable__label-arrow:hover:before {color: black;}#sk-container-id-1 div.sk-estimator:hover label.sk-toggleable__label-arrow:before {color: black;}#sk-container-id-1 div.sk-toggleable__content {max-height: 0;max-width: 0;overflow: hidden;text-align: left;background-color: #f0f8ff;}#sk-container-id-1 div.sk-toggleable__content pre {margin: 0.2em;color: black;border-radius: 0.25em;background-color: #f0f8ff;}#sk-container-id-1 input.sk-toggleable__control:checked~div.sk-toggleable__content {max-height: 200px;max-width: 100%;overflow: auto;}#sk-container-id-1 input.sk-toggleable__control:checked~label.sk-toggleable__label-arrow:before {content: \"▾\";}#sk-container-id-1 div.sk-estimator input.sk-toggleable__control:checked~label.sk-toggleable__label {background-color: #d4ebff;}#sk-container-id-1 div.sk-label input.sk-toggleable__control:checked~label.sk-toggleable__label {background-color: #d4ebff;}#sk-container-id-1 input.sk-hidden--visually {border: 0;clip: rect(1px 1px 1px 1px);clip: rect(1px, 1px, 1px, 1px);height: 1px;margin: -1px;overflow: hidden;padding: 0;position: absolute;width: 1px;}#sk-container-id-1 div.sk-estimator {font-family: monospace;background-color: #f0f8ff;border: 1px dotted black;border-radius: 0.25em;box-sizing: border-box;margin-bottom: 0.5em;}#sk-container-id-1 div.sk-estimator:hover {background-color: #d4ebff;}#sk-container-id-1 div.sk-parallel-item::after {content: \"\";width: 100%;border-bottom: 1px solid gray;flex-grow: 1;}#sk-container-id-1 div.sk-label:hover label.sk-toggleable__label {background-color: #d4ebff;}#sk-container-id-1 div.sk-serial::before {content: \"\";position: absolute;border-left: 1px solid gray;box-sizing: border-box;top: 0;bottom: 0;left: 50%;z-index: 0;}#sk-container-id-1 div.sk-serial {display: flex;flex-direction: column;align-items: center;background-color: white;padding-right: 0.2em;padding-left: 0.2em;position: relative;}#sk-container-id-1 div.sk-item {position: relative;z-index: 1;}#sk-container-id-1 div.sk-parallel {display: flex;align-items: stretch;justify-content: center;background-color: white;position: relative;}#sk-container-id-1 div.sk-item::before, #sk-container-id-1 div.sk-parallel-item::before {content: \"\";position: absolute;border-left: 1px solid gray;box-sizing: border-box;top: 0;bottom: 0;left: 50%;z-index: -1;}#sk-container-id-1 div.sk-parallel-item {display: flex;flex-direction: column;z-index: 1;position: relative;background-color: white;}#sk-container-id-1 div.sk-parallel-item:first-child::after {align-self: flex-end;width: 50%;}#sk-container-id-1 div.sk-parallel-item:last-child::after {align-self: flex-start;width: 50%;}#sk-container-id-1 div.sk-parallel-item:only-child::after {width: 0;}#sk-container-id-1 div.sk-dashed-wrapped {border: 1px dashed gray;margin: 0 0.4em 0.5em 0.4em;box-sizing: border-box;padding-bottom: 0.4em;background-color: white;}#sk-container-id-1 div.sk-label label {font-family: monospace;font-weight: bold;display: inline-block;line-height: 1.2em;}#sk-container-id-1 div.sk-label-container {text-align: center;}#sk-container-id-1 div.sk-container {/* jupyter's `normalize.less` sets `[hidden] { display: none; }` but bootstrap.min.css set `[hidden] { display: none !important; }` so we also need the `!important` here to be able to override the default hidden behavior on the sphinx rendered scikit-learn.org. See: https://github.com/scikit-learn/scikit-learn/issues/21755 */display: inline-block !important;position: relative;}#sk-container-id-1 div.sk-text-repr-fallback {display: none;}</style><div id=\"sk-container-id-1\" class=\"sk-top-container\"><div class=\"sk-text-repr-fallback\"><pre>LinearSVC(random_state=10, tol=1e-05)</pre><b>In a Jupyter environment, please rerun this cell to show the HTML representation or trust the notebook. <br />On GitHub, the HTML representation is unable to render, please try loading this page with nbviewer.org.</b></div><div class=\"sk-container\" hidden><div class=\"sk-item\"><div class=\"sk-estimator sk-toggleable\"><input class=\"sk-toggleable__control sk-hidden--visually\" id=\"sk-estimator-id-1\" type=\"checkbox\" checked><label for=\"sk-estimator-id-1\" class=\"sk-toggleable__label sk-toggleable__label-arrow\">LinearSVC</label><div class=\"sk-toggleable__content\"><pre>LinearSVC(random_state=10, tol=1e-05)</pre></div></div></div></div></div>"
      ],
      "text/plain": [
       "LinearSVC(random_state=10, tol=1e-05)"
      ]
     },
     "execution_count": 46,
     "metadata": {},
     "output_type": "execute_result"
    }
   ],
   "source": [
    "# Training model\n",
    "svc_model = LinearSVC(random_state=10, tol=1e-5)\n",
    "svc_model.fit(X_train_tf, y_train)"
   ]
  },
  {
   "cell_type": "code",
   "execution_count": 47,
   "metadata": {},
   "outputs": [
    {
     "name": "stdout",
     "output_type": "stream",
     "text": [
      "Accuracy Score -  0.8352756611385029\n",
      "Precision -  0.8257017514276721\n",
      "Recall -  0.8220507798806025\n",
      "F1 Score -  0.8237723002944033\n"
     ]
    }
   ],
   "source": [
    "# Predicting Test Set\n",
    "y_pred = svc_model.predict(X_test_tf)\n",
    "\n",
    "print ('Accuracy Score - ', accuracy_score(y_test, y_pred))\n",
    "print ('Precision - ', precision_score(y_test, y_pred, average='macro'))\n",
    "print ('Recall - ', recall_score(y_test, y_pred, average='macro'))\n",
    "print ('F1 Score - ', f1_score(y_test, y_pred, average='macro'))"
   ]
  },
  {
   "attachments": {},
   "cell_type": "markdown",
   "metadata": {},
   "source": [
    "### Train Pytorch Model"
   ]
  },
  {
   "cell_type": "code",
   "execution_count": 48,
   "metadata": {},
   "outputs": [
    {
     "name": "stderr",
     "output_type": "stream",
     "text": [
      "Some weights of the model checkpoint at bert-base-uncased were not used when initializing BertForSequenceClassification: ['cls.seq_relationship.bias', 'cls.predictions.transform.LayerNorm.weight', 'cls.predictions.bias', 'cls.predictions.transform.dense.weight', 'cls.predictions.transform.LayerNorm.bias', 'cls.seq_relationship.weight', 'cls.predictions.transform.dense.bias']\n",
      "- This IS expected if you are initializing BertForSequenceClassification from the checkpoint of a model trained on another task or with another architecture (e.g. initializing a BertForSequenceClassification model from a BertForPreTraining model).\n",
      "- This IS NOT expected if you are initializing BertForSequenceClassification from the checkpoint of a model that you expect to be exactly identical (initializing a BertForSequenceClassification model from a BertForSequenceClassification model).\n",
      "Some weights of BertForSequenceClassification were not initialized from the model checkpoint at bert-base-uncased and are newly initialized: ['classifier.bias', 'classifier.weight']\n",
      "You should probably TRAIN this model on a down-stream task to be able to use it for predictions and inference.\n"
     ]
    }
   ],
   "source": [
    "# Prepping for Bert Tokenization\n",
    "config = BertConfig.from_pretrained('bert-base-uncased',finetuning_task='binary')\n",
    "tokenizer = BertTokenizer.from_pretrained('bert-base-uncased')\n",
    "model = BertForSequenceClassification.from_pretrained('bert-base-uncased')"
   ]
  },
  {
   "cell_type": "code",
   "execution_count": null,
   "metadata": {},
   "outputs": [],
   "source": [
    "# Building Tokens from Bert\n",
    "X_train_tokens = X_train.apply(tf.get_tokens, args=(tokenizer, 50))\n",
    "X_test_tokens = X_test.apply(tf.get_tokens, args=(tokenizer, 50))"
   ]
  },
  {
   "cell_type": "code",
   "execution_count": 50,
   "metadata": {},
   "outputs": [],
   "source": [
    "# Building tensors and tensor dataset for model input\n",
    "input_ids_train = torch.tensor([features[0] for features in X_train_tokens.values], dtype=torch.long)\n",
    "input_mask_train = torch.tensor([features[1] for features in X_train_tokens.values], dtype=torch.long)\n",
    "label_ids_train = torch.tensor(y_train.values, dtype=torch.long)\n",
    "train_dataset = TensorDataset(input_ids_train, input_mask_train, label_ids_train)"
   ]
  },
  {
   "cell_type": "code",
   "execution_count": 51,
   "metadata": {},
   "outputs": [],
   "source": [
    "# Building tensors and tensor dataset for model input\n",
    "input_ids_test = torch.tensor([features[0] for features in X_test_tokens.values],dtype=torch.long)\n",
    "input_mask_test = torch.tensor([features[1] for features in X_test_tokens.values],dtype=torch.long)\n",
    "label_ids_test = torch.tensor(y_test.values,dtype=torch.long)\n",
    "test_dataset = TensorDataset(input_ids_test, input_mask_test, label_ids_test)"
   ]
  },
  {
   "cell_type": "code",
   "execution_count": 52,
   "metadata": {},
   "outputs": [
    {
     "name": "stdout",
     "output_type": "stream",
     "text": [
      "Num examples =  35692\n",
      "Num Epochs =  2\n",
      "Total train batch size =  64\n",
      "Total optimization steps =  279\n"
     ]
    }
   ],
   "source": [
    "# Setting model Parameters For Model\n",
    "train_batch_size = 64\n",
    "num_train_epochs = 2\n",
    "train_sampler = RandomSampler(train_dataset)\n",
    "train_dataloader = DataLoader(train_dataset,sampler=train_sampler,batch_size=train_batch_size)\n",
    "t_total = len(train_dataloader) // num_train_epochs\n",
    "print (\"Num examples = \", len(train_dataset))\n",
    "print (\"Num Epochs = \", num_train_epochs)\n",
    "print (\"Total train batch size = \", train_batch_size)\n",
    "print (\"Total optimization steps = \", t_total)"
   ]
  },
  {
   "cell_type": "code",
   "execution_count": null,
   "metadata": {},
   "outputs": [],
   "source": [
    "# Setting model HyperParameters\n",
    "learning_rate = 1e-4\n",
    "adam_epsilon = 1e-8\n",
    "warmup_steps = 0\n",
    "\n",
    "# Using Adam Optimizer\n",
    "optimizer = AdamW(model.parameters(), lr=learning_rate, eps=adam_epsilon)\n",
    "scheduler = get_linear_schedule_with_warmup(optimizer,num_warmup_steps=warmup_steps,num_training_steps=t_total)"
   ]
  },
  {
   "cell_type": "code",
   "execution_count": 54,
   "metadata": {},
   "outputs": [
    {
     "name": "stderr",
     "output_type": "stream",
     "text": [
      "Epoch:   0%|          | 0/2 [00:00<?, ?it/s]"
     ]
    },
    {
     "data": {
      "application/vnd.jupyter.widget-view+json": {
       "model_id": "a5ece41ebcab42c691b7a3da9bef9fd8",
       "version_major": 2,
       "version_minor": 0
      },
      "text/plain": [
       "Iteration:   0%|          | 0/558 [00:00<?, ?it/s]"
      ]
     },
     "metadata": {},
     "output_type": "display_data"
    },
    {
     "name": "stdout",
     "output_type": "stream",
     "text": [
      "0.269984"
     ]
    },
    {
     "name": "stderr",
     "output_type": "stream",
     "text": [
      "Epoch:  50%|█████     | 1/2 [1:22:17<1:22:17, 4937.06s/it]"
     ]
    },
    {
     "data": {
      "application/vnd.jupyter.widget-view+json": {
       "model_id": "70acb51d81a84e648ee4f59fc03ef41e",
       "version_major": 2,
       "version_minor": 0
      },
      "text/plain": [
       "Iteration:   0%|          | 0/558 [00:00<?, ?it/s]"
      ]
     },
     "metadata": {},
     "output_type": "display_data"
    },
    {
     "name": "stdout",
     "output_type": "stream",
     "text": [
      "0.220635"
     ]
    },
    {
     "name": "stderr",
     "output_type": "stream",
     "text": [
      "Epoch: 100%|██████████| 2/2 [2:44:10<00:00, 4925.31s/it]  \n"
     ]
    }
   ],
   "source": [
    "device = torch.device(\"cuda\" if torch.cuda.is_available() else \"cpu\")\n",
    "train_iterator = trange(num_train_epochs, desc=\"Epoch\")\n",
    "\n",
    "# Put model in 'train' mode\n",
    "model.train()\n",
    "for epoch in train_iterator:\n",
    "    epoch_iterator = notebook.tqdm(train_dataloader, desc=\"Iteration\")\n",
    "    for step, batch in enumerate(epoch_iterator):\n",
    "        # Reset all gradients at start of every iteration\n",
    "        model.zero_grad()\n",
    "        # Put the model and the input observations to GPU\n",
    "        model.to(device)\n",
    "        batch = tuple(t.to(device) for t in batch)\n",
    "        # Identify the inputs to the model\n",
    "        inputs = {'input_ids': batch[0],\n",
    "                  'attention_mask': batch[1],\n",
    "                  'labels': batch[2]}\n",
    "        # Forward Pass through the model. Input -> Model -> Output\n",
    "        outputs = model(**inputs)\n",
    "        # Determine the deviation (loss)\n",
    "        loss = outputs[0]\n",
    "        print(\"\\r%f\" % loss, end='')\n",
    "        # Back-propogate the loss (automatically calculates gradients)\n",
    "        loss.backward()\n",
    "        # Prevent exploding gradients by limiting gradients to 1.0\n",
    "        torch.nn.utils.clip_grad_norm_(model.parameters(), 1.0)\n",
    "        # Update the parameters and learning rate\n",
    "        optimizer.step()\n",
    "        scheduler.step()\n",
    "\n",
    "# Save trained model\n",
    "model.save_pretrained('../models/torch_outputs')"
   ]
  },
  {
   "cell_type": "code",
   "execution_count": 55,
   "metadata": {},
   "outputs": [
    {
     "data": {
      "application/vnd.jupyter.widget-view+json": {
       "model_id": "8a029a123bcf47f2ad08ede3fb38107d",
       "version_major": 2,
       "version_minor": 0
      },
      "text/plain": [
       "Evaluating:   0%|          | 0/140 [00:00<?, ?it/s]"
      ]
     },
     "metadata": {},
     "output_type": "display_data"
    },
    {
     "name": "stdout",
     "output_type": "stream",
     "text": [
      "Accuracy Score on Test data  0.867996414164052\n"
     ]
    }
   ],
   "source": [
    "test_batch_size = 64\n",
    "test_sampler = SequentialSampler(test_dataset)\n",
    "test_dataloader = DataLoader(test_dataset,\n",
    "                             sampler=test_sampler,\n",
    "                             batch_size=test_batch_size)\n",
    "\n",
    "# Load the pre-trained model if needed\n",
    "# model = model.from_pretrained('/outputs')\n",
    "\n",
    "# Initialize the prediction and actual labels\n",
    "preds = None\n",
    "out_label_ids = None\n",
    "\n",
    "## Put model in \"eval\" mode\n",
    "model.eval()\n",
    "\n",
    "for batch in notebook.tqdm(test_dataloader, desc=\"Evaluating\"):\n",
    "\n",
    "    ## Put the model and the input observations to GPU\n",
    "    model.to(device)\n",
    "    batch = tuple(t.to(device) for t in batch)\n",
    "\n",
    "    ## Do not track any gradients since in 'eval' mode\n",
    "    with torch.no_grad():\n",
    "        inputs = {'input_ids':      batch[0],\n",
    "                  'attention_mask': batch[1],\n",
    "                  'labels':         batch[2]}\n",
    "\n",
    "        ## Forward pass through the model\n",
    "        outputs = model(**inputs)\n",
    "\n",
    "        ## We get loss since we provided the labels\n",
    "        tmp_eval_loss, logits = outputs[:2]\n",
    "\n",
    "        ## There maybe more than one batch of items in the test dataset\n",
    "        if preds is None:\n",
    "            preds = logits.detach().cpu().numpy()\n",
    "            out_label_ids = inputs['labels'].detach().cpu().numpy()\n",
    "        else:\n",
    "            preds = np.append(preds, logits.detach().cpu().numpy(), axis=0)\n",
    "            out_label_ids = np.append(out_label_ids,\n",
    "                                      inputs['labels'].detach().cpu().numpy(),\n",
    "                                      axis=0)\n",
    "\n",
    "## Get final loss, predictions and accuracy\n",
    "preds = np.argmax(preds, axis=1)\n",
    "acc_score = accuracy_score(preds, out_label_ids)\n",
    "print ('Accuracy Score on Test data ', acc_score)"
   ]
  },
  {
   "attachments": {},
   "cell_type": "markdown",
   "metadata": {},
   "source": [
    "## Sample Predictions"
   ]
  },
  {
   "attachments": {},
   "cell_type": "markdown",
   "metadata": {},
   "source": [
    "### SVC Model"
   ]
  },
  {
   "cell_type": "code",
   "execution_count": 56,
   "metadata": {},
   "outputs": [
    {
     "name": "stdout",
     "output_type": "stream",
     "text": [
      "Some sample reviews with their sentiment - \n"
     ]
    },
    {
     "data": {
      "text/html": [
       "<div>\n",
       "<style scoped>\n",
       "    .dataframe tbody tr th:only-of-type {\n",
       "        vertical-align: middle;\n",
       "    }\n",
       "\n",
       "    .dataframe tbody tr th {\n",
       "        vertical-align: top;\n",
       "    }\n",
       "\n",
       "    .dataframe thead th {\n",
       "        text-align: right;\n",
       "    }\n",
       "</style>\n",
       "<table border=\"1\" class=\"dataframe\">\n",
       "  <thead>\n",
       "    <tr style=\"text-align: right;\">\n",
       "      <th></th>\n",
       "      <th>review</th>\n",
       "      <th>sentiment_prediction</th>\n",
       "    </tr>\n",
       "  </thead>\n",
       "  <tbody>\n",
       "    <tr>\n",
       "      <th>79207</th>\n",
       "      <td>I loved it. It was Addictive. I couldn’t leave...</td>\n",
       "      <td>1</td>\n",
       "    </tr>\n",
       "    <tr>\n",
       "      <th>109300</th>\n",
       "      <td>Silly but funny in a dark comedy way</td>\n",
       "      <td>0</td>\n",
       "    </tr>\n",
       "    <tr>\n",
       "      <th>2708</th>\n",
       "      <td>Atomic Habits provides the actionable ground w...</td>\n",
       "      <td>1</td>\n",
       "    </tr>\n",
       "    <tr>\n",
       "      <th>70554</th>\n",
       "      <td>This book did not go the way I was expecting A...</td>\n",
       "      <td>1</td>\n",
       "    </tr>\n",
       "    <tr>\n",
       "      <th>72530</th>\n",
       "      <td>this book kept me going for days. definitely a...</td>\n",
       "      <td>1</td>\n",
       "    </tr>\n",
       "  </tbody>\n",
       "</table>\n",
       "</div>"
      ],
      "text/plain": [
       "                                                   review  \\\n",
       "79207   I loved it. It was Addictive. I couldn’t leave...   \n",
       "109300               Silly but funny in a dark comedy way   \n",
       "2708    Atomic Habits provides the actionable ground w...   \n",
       "70554   This book did not go the way I was expecting A...   \n",
       "72530   this book kept me going for days. definitely a...   \n",
       "\n",
       "        sentiment_prediction  \n",
       "79207                      1  \n",
       "109300                     0  \n",
       "2708                       1  \n",
       "70554                      1  \n",
       "72530                      1  "
      ]
     },
     "execution_count": 56,
     "metadata": {},
     "output_type": "execute_result"
    }
   ],
   "source": [
    "sample_reviews = nlp_df.sample(5)\n",
    "sample_reviews_tf = tfidf.transform(sample_reviews['review'])\n",
    "sentiment_predictions = svc_model.predict(sample_reviews_tf)\n",
    "sentiment_predictions = pd.DataFrame(data = sentiment_predictions,\n",
    "                                     index=sample_reviews.index,\n",
    "                                     columns=['sentiment_prediction'])\n",
    "sample_reviews = pd.concat([sample_reviews, sentiment_predictions], axis=1)\n",
    "print ('Some sample reviews with their sentiment - ')\n",
    "sample_reviews[['review','sentiment_prediction']]"
   ]
  },
  {
   "cell_type": "code",
   "execution_count": 57,
   "metadata": {},
   "outputs": [
    {
     "data": {
      "text/plain": [
       "array([0], dtype=int64)"
      ]
     },
     "execution_count": 57,
     "metadata": {},
     "output_type": "execute_result"
    }
   ],
   "source": [
    "text = ['This game is okay']\n",
    "test = tfidf.transform(text)\n",
    "test_pred = svc_model.predict(test)\n",
    "\n",
    "test_pred"
   ]
  },
  {
   "attachments": {},
   "cell_type": "markdown",
   "metadata": {},
   "source": [
    "### Pytorch Model"
   ]
  },
  {
   "cell_type": "code",
   "execution_count": 58,
   "metadata": {},
   "outputs": [
    {
     "name": "stdout",
     "output_type": "stream",
     "text": [
      "Predicted class: 1\n"
     ]
    },
    {
     "name": "stderr",
     "output_type": "stream",
     "text": [
      "c:\\Users\\whitm\\anaconda3\\lib\\site-packages\\transformers\\tokenization_utils_base.py:2377: FutureWarning: The `pad_to_max_length` argument is deprecated and will be removed in a future version, use `padding=True` or `padding='longest'` to pad to the longest sequence in the batch, or use `padding='max_length'` to pad to a max length. In this case, you can give a specific length with `max_length` (e.g. `max_length=45`) or leave max_length to None to pad to the maximal input size of the model (e.g. 512 for Bert).\n",
      "  warnings.warn(\n"
     ]
    }
   ],
   "source": [
    "# Preprocess the sample review\n",
    "sample_review = \"This game is good\"\n",
    "\n",
    "\n",
    "# Convert preprocessed text to PyTorch tensors\n",
    "input_ids, attention_mask = tf.get_tokens(sample_review, tokenizer, 50)\n",
    "input_tensor = torch.tensor(input_ids, dtype=torch.long).unsqueeze(0)  # Assuming batch size of 1\n",
    "attention_mask_tensor = torch.tensor(attention_mask, dtype=torch.long).unsqueeze(0)  # Assuming batch size of 1\n",
    "\n",
    "\n",
    "# Make the prediction\n",
    "model.eval()\n",
    "with torch.no_grad():\n",
    "    input_tensor = input_tensor.to(device)\n",
    "    attention_mask_tensor = attention_mask_tensor.to(device)\n",
    "    outputs = model(input_ids=input_tensor, attention_mask=attention_mask_tensor)\n",
    "    predicted_class = torch.argmax(outputs.logits, dim=1)\n",
    "\n",
    "print(\"Predicted class:\", predicted_class.item())"
   ]
  },
  {
   "attachments": {},
   "cell_type": "markdown",
   "metadata": {},
   "source": [
    "#### Selecting a Final Model\n",
    "\n",
    "While the accuracy for the Pytorch model came out to be slightly higher at 86% while the SVC had an accuracy of around 83%. Due to the complexity and training time (nearly 2 1/2 hours of training) of the pytorch model, the team ultimately decided that the SVC would best fit our needs throughout deployment despite the slight reduction in accuracy. "
   ]
  },
  {
   "attachments": {},
   "cell_type": "markdown",
   "metadata": {},
   "source": [
    "### Saving Pickle Models\n",
    "\n",
    "The pickle models will be used for deployment in the API."
   ]
  },
  {
   "cell_type": "code",
   "execution_count": 59,
   "metadata": {},
   "outputs": [],
   "source": [
    "with open('../models/svc_model.pkl', 'wb') as file:\n",
    "    pickle.dump(svc_model, file)\n",
    "\n",
    "with open('../models/tfidf.pkl', 'wb') as file:\n",
    "    pickle.dump(tfidf, file)"
   ]
  },
  {
   "attachments": {},
   "cell_type": "markdown",
   "metadata": {},
   "source": [
    "## Topic Modeling"
   ]
  },
  {
   "attachments": {},
   "cell_type": "markdown",
   "metadata": {},
   "source": [
    "### Formulas for Topic Modeling"
   ]
  },
  {
   "cell_type": "code",
   "execution_count": 60,
   "metadata": {},
   "outputs": [],
   "source": [
    "# To Display Topic Words\n",
    "def display_topics(model, features, no_top_words=5):\n",
    "    # Looping Through the Topic and the Words\n",
    "    for topic, words in enumerate(model.components_):\n",
    "        total = words.sum()\n",
    "        # invert sort order\n",
    "        largest = words.argsort()[::-1] \n",
    "        print(\"\\nTopic %02d\" % topic)\n",
    "        for i in range(0, no_top_words):\n",
    "            print(\"  %s (%2.2f)\" % (features[largest[i]], abs(words[largest[i]]*100.0/total)))"
   ]
  },
  {
   "attachments": {},
   "cell_type": "markdown",
   "metadata": {},
   "source": [
    "### Preparing the Data\n",
    "\n",
    "As Topic Modeling is an unsupervised learning method, the entire dataset will be used to transform the model. "
   ]
  },
  {
   "cell_type": "code",
   "execution_count": 62,
   "metadata": {},
   "outputs": [
    {
     "data": {
      "text/html": [
       "<div>\n",
       "<style scoped>\n",
       "    .dataframe tbody tr th:only-of-type {\n",
       "        vertical-align: middle;\n",
       "    }\n",
       "\n",
       "    .dataframe tbody tr th {\n",
       "        vertical-align: top;\n",
       "    }\n",
       "\n",
       "    .dataframe thead th {\n",
       "        text-align: right;\n",
       "    }\n",
       "</style>\n",
       "<table border=\"1\" class=\"dataframe\">\n",
       "  <thead>\n",
       "    <tr style=\"text-align: right;\">\n",
       "      <th></th>\n",
       "      <th>name</th>\n",
       "      <th>review_title</th>\n",
       "      <th>review</th>\n",
       "      <th>rating</th>\n",
       "      <th>date_place</th>\n",
       "      <th>lang</th>\n",
       "      <th>review_tokens</th>\n",
       "      <th>review_title_tokens</th>\n",
       "      <th>sentiment</th>\n",
       "    </tr>\n",
       "  </thead>\n",
       "  <tbody>\n",
       "    <tr>\n",
       "      <th>54546</th>\n",
       "      <td>Adam marcus</td>\n",
       "      <td>BY FAR THE BEST BOOK I'VE EVER READ</td>\n",
       "      <td>BY FAR THE BEST BOOK I'VE EVER READ. I RECOMME...</td>\n",
       "      <td>5</td>\n",
       "      <td>Reviewed in the United States on January 3, 2017</td>\n",
       "      <td>en</td>\n",
       "      <td>[far, best, book, ive, ever, read, recommend, ...</td>\n",
       "      <td>[far, best, book, ive, ever, read]</td>\n",
       "      <td>1</td>\n",
       "    </tr>\n",
       "    <tr>\n",
       "      <th>45998</th>\n",
       "      <td>tay</td>\n",
       "      <td>Very informative book</td>\n",
       "      <td>I like how descriptive you get about the disti...</td>\n",
       "      <td>5</td>\n",
       "      <td>Reviewed in the United States on June 19, 2021</td>\n",
       "      <td>en</td>\n",
       "      <td>[like, descriptive, get, distinct, differences...</td>\n",
       "      <td>[informative, book]</td>\n",
       "      <td>1</td>\n",
       "    </tr>\n",
       "    <tr>\n",
       "      <th>23941</th>\n",
       "      <td>Elizabeth</td>\n",
       "      <td>Loved it</td>\n",
       "      <td>I loved it! Finished this book in two days, so...</td>\n",
       "      <td>5</td>\n",
       "      <td>Reviewed in the United States on March 5, 2022</td>\n",
       "      <td>en</td>\n",
       "      <td>[loved, finished, book, two, days, hooked]</td>\n",
       "      <td>[loved]</td>\n",
       "      <td>1</td>\n",
       "    </tr>\n",
       "    <tr>\n",
       "      <th>85333</th>\n",
       "      <td>Ashley</td>\n",
       "      <td>This is one of my 18 month old's favorite book...</td>\n",
       "      <td>This is one of my 18 month old's favorite book...</td>\n",
       "      <td>5</td>\n",
       "      <td>Reviewed in the United States on September 1, ...</td>\n",
       "      <td>en</td>\n",
       "      <td>[one, 18, month, olds, favorite, books, moment...</td>\n",
       "      <td>[one, 18, month, olds, favorite, books, moment]</td>\n",
       "      <td>1</td>\n",
       "    </tr>\n",
       "    <tr>\n",
       "      <th>1868</th>\n",
       "      <td>Melanie</td>\n",
       "      <td>Amazing!</td>\n",
       "      <td>A classic!!!</td>\n",
       "      <td>5</td>\n",
       "      <td>Reviewed in the United States on April 10, 2022</td>\n",
       "      <td>en</td>\n",
       "      <td>[classic]</td>\n",
       "      <td>[amazing]</td>\n",
       "      <td>1</td>\n",
       "    </tr>\n",
       "  </tbody>\n",
       "</table>\n",
       "</div>"
      ],
      "text/plain": [
       "              name                                       review_title  \\\n",
       "54546  Adam marcus                BY FAR THE BEST BOOK I'VE EVER READ   \n",
       "45998          tay                              Very informative book   \n",
       "23941    Elizabeth                                           Loved it   \n",
       "85333       Ashley  This is one of my 18 month old's favorite book...   \n",
       "1868       Melanie                                           Amazing!   \n",
       "\n",
       "                                                  review  rating  \\\n",
       "54546  BY FAR THE BEST BOOK I'VE EVER READ. I RECOMME...       5   \n",
       "45998  I like how descriptive you get about the disti...       5   \n",
       "23941  I loved it! Finished this book in two days, so...       5   \n",
       "85333  This is one of my 18 month old's favorite book...       5   \n",
       "1868                                        A classic!!!       5   \n",
       "\n",
       "                                              date_place lang  \\\n",
       "54546   Reviewed in the United States on January 3, 2017   en   \n",
       "45998     Reviewed in the United States on June 19, 2021   en   \n",
       "23941     Reviewed in the United States on March 5, 2022   en   \n",
       "85333  Reviewed in the United States on September 1, ...   en   \n",
       "1868     Reviewed in the United States on April 10, 2022   en   \n",
       "\n",
       "                                           review_tokens  \\\n",
       "54546  [far, best, book, ive, ever, read, recommend, ...   \n",
       "45998  [like, descriptive, get, distinct, differences...   \n",
       "23941         [loved, finished, book, two, days, hooked]   \n",
       "85333  [one, 18, month, olds, favorite, books, moment...   \n",
       "1868                                           [classic]   \n",
       "\n",
       "                                   review_title_tokens  sentiment  \n",
       "54546               [far, best, book, ive, ever, read]          1  \n",
       "45998                              [informative, book]          1  \n",
       "23941                                          [loved]          1  \n",
       "85333  [one, 18, month, olds, favorite, books, moment]          1  \n",
       "1868                                         [amazing]          1  "
      ]
     },
     "execution_count": 62,
     "metadata": {},
     "output_type": "execute_result"
    }
   ],
   "source": [
    "adj_nlp_df.head()"
   ]
  },
  {
   "cell_type": "code",
   "execution_count": 65,
   "metadata": {},
   "outputs": [],
   "source": [
    "# vectorizing the review data for topic modelling\n",
    "# count vectorizing for the LDA model\n",
    "count = CountVectorizer(min_df = 10, ngram_range=(1,1), stop_words=sw)\n",
    "X_count_vectors = count.fit_transform(adj_nlp_df['review'])\n",
    "\n",
    "#TFIDF vectorizing for NMF and SVD Models\n",
    "idf = TfidfVectorizer(min_df = 10, ngram_range=(1,1), stop_words=sw)\n",
    "X_tfidf_vectors = idf.fit_transform(adj_nlp_df['review'])"
   ]
  },
  {
   "attachments": {},
   "cell_type": "markdown",
   "metadata": {},
   "source": [
    "### NMF"
   ]
  },
  {
   "cell_type": "code",
   "execution_count": 66,
   "metadata": {},
   "outputs": [],
   "source": [
    "# create model\n",
    "nmf_text_model = NMF(n_components=2, random_state=33)\n",
    "\n",
    "# fit model\n",
    "nmf_text_matrix = nmf_text_model.fit_transform(X_tfidf_vectors)\n",
    "c_text_matrix = nmf_text_model.components_"
   ]
  },
  {
   "cell_type": "code",
   "execution_count": 67,
   "metadata": {},
   "outputs": [
    {
     "name": "stdout",
     "output_type": "stream",
     "text": [
      "\n",
      "Topic 00\n",
      "  book (2.14)\n",
      "  read (1.41)\n",
      "  good (0.86)\n",
      "  love (0.69)\n",
      "  one (0.67)\n",
      "  story (0.67)\n",
      "  like (0.58)\n",
      "  really (0.50)\n",
      "  reading (0.50)\n",
      "  loved (0.46)\n",
      "\n",
      "Topic 01\n",
      "  great (12.55)\n",
      "  movie (12.30)\n",
      "  watch (2.00)\n",
      "  family (1.86)\n",
      "  kids (1.45)\n",
      "  good (1.34)\n",
      "  funny (1.09)\n",
      "  love (0.98)\n",
      "  loved (0.70)\n",
      "  watching (0.65)\n"
     ]
    }
   ],
   "source": [
    "# displaying the top 10 results\n",
    "display_topics(nmf_text_model, idf.get_feature_names_out(), 10)"
   ]
  },
  {
   "attachments": {},
   "cell_type": "markdown",
   "metadata": {},
   "source": [
    "#### Comments\n",
    "Looking at our separation here, the model has not separated the topics by sentiment, as we have done in our classification models, and instead separated the two topics by postive book reviews and positive movie reviews. This can still be insightful to see the differences between the two mediums. For instance, as expected the movies topics includes watching while the book topic includes reading and read. Additionally, the movie topic includes family and kids while the book topic does not. This is likely due to the nature of movies having the potential to be a group activity for a family to come together and watch something for 2 hours. Additionally, movies includes funny prominently likely because the comedy genre is more popular in movies than for books. "
   ]
  },
  {
   "attachments": {},
   "cell_type": "markdown",
   "metadata": {},
   "source": [
    "### SVD"
   ]
  },
  {
   "cell_type": "code",
   "execution_count": 68,
   "metadata": {},
   "outputs": [],
   "source": [
    "svd_text_model = TruncatedSVD(n_components=2, random_state=33)\n",
    "svd_text_matrix = svd_text_model.fit_transform(X_tfidf_vectors)\n",
    "csvd_text_matrix = svd_text_model.components_"
   ]
  },
  {
   "cell_type": "code",
   "execution_count": 69,
   "metadata": {},
   "outputs": [
    {
     "name": "stdout",
     "output_type": "stream",
     "text": [
      "\n",
      "Topic 00\n",
      "  book (2.04)\n",
      "  read (1.32)\n",
      "  great (1.05)\n",
      "  good (0.91)\n",
      "  love (0.72)\n",
      "  story (0.67)\n",
      "  one (0.63)\n",
      "  movie (0.63)\n",
      "  like (0.56)\n",
      "  really (0.50)\n",
      "\n",
      "Topic 01\n",
      "  movie (24.22)\n",
      "  great (17.20)\n",
      "  watch (3.84)\n",
      "  family (3.37)\n",
      "  kids (2.49)\n",
      "  funny (1.97)\n",
      "  good (1.91)\n",
      "  watching (1.24)\n",
      "  movies (1.14)\n",
      "  action (1.08)\n"
     ]
    }
   ],
   "source": [
    "display_topics(svd_text_model, idf.get_feature_names_out(), 10)"
   ]
  },
  {
   "attachments": {},
   "cell_type": "markdown",
   "metadata": {},
   "source": [
    "#### Comments\n",
    "Again it looks like the topic has been separated into movie and book. The book topic did have movie leak over into it. Interestingly the book topic includes love, potentially due to the romance genre being so popular, while the movie topic includes action, funny, family, and kids due to the genre difference and nature between the two topics. "
   ]
  },
  {
   "attachments": {},
   "cell_type": "markdown",
   "metadata": {},
   "source": [
    "### LDA"
   ]
  },
  {
   "cell_type": "code",
   "execution_count": 70,
   "metadata": {},
   "outputs": [],
   "source": [
    "lda_text_model = LatentDirichletAllocation(n_components=2, random_state=33)\n",
    "lda_text_model.fit(X_count_vectors)\n",
    "lda_text_matrix = lda_text_model.transform(X_count_vectors)\n",
    "clda_text_matrix = lda_text_model.components_"
   ]
  },
  {
   "cell_type": "code",
   "execution_count": 71,
   "metadata": {},
   "outputs": [
    {
     "name": "stdout",
     "output_type": "stream",
     "text": [
      "\n",
      "Topic 00\n",
      "  book (4.84)\n",
      "  read (2.42)\n",
      "  story (1.53)\n",
      "  love (1.10)\n",
      "  one (1.03)\n",
      "  like (0.97)\n",
      "  good (0.86)\n",
      "  reading (0.74)\n",
      "  characters (0.72)\n",
      "  really (0.71)\n",
      "\n",
      "Topic 01\n",
      "  book (1.78)\n",
      "  movie (1.50)\n",
      "  good (0.83)\n",
      "  like (0.77)\n",
      "  one (0.75)\n",
      "  great (0.69)\n",
      "  would (0.57)\n",
      "  people (0.54)\n",
      "  life (0.54)\n",
      "  get (0.49)\n"
     ]
    }
   ],
   "source": [
    "display_topics(lda_text_model, count.get_feature_names_out(), 10)"
   ]
  },
  {
   "cell_type": "code",
   "execution_count": 74,
   "metadata": {},
   "outputs": [],
   "source": [
    "lda_display = pyLDAvis.lda_model.prepare(lda_text_model, X_count_vectors, count, sort_topics=False)"
   ]
  },
  {
   "cell_type": "code",
   "execution_count": 75,
   "metadata": {},
   "outputs": [
    {
     "data": {
      "text/html": [
       "\n",
       "<link rel=\"stylesheet\" type=\"text/css\" href=\"https://cdn.jsdelivr.net/gh/bmabey/pyLDAvis@3.4.0/pyLDAvis/js/ldavis.v1.0.0.css\">\n",
       "\n",
       "\n",
       "<div id=\"ldavis_el2421226951378846405557838863\" style=\"background-color:white;\"></div>\n",
       "<script type=\"text/javascript\">\n",
       "\n",
       "var ldavis_el2421226951378846405557838863_data = {\"mdsDat\": {\"x\": [0.09450026202209652, -0.09450026202209652], \"y\": [0.0, 0.0], \"topics\": [1, 2], \"cluster\": [1, 1], \"Freq\": [56.8027365555538, 43.19726344444621]}, \"tinfo\": {\"Term\": [\"movie\", \"read\", \"story\", \"book\", \"love\", \"loved\", \"characters\", \"money\", \"watch\", \"ending\", \"game\", \"power\", \"kids\", \"film\", \"colleen\", \"hoover\", \"habits\", \"movies\", \"romance\", \"reading\", \"hannah\", \"put\", \"miles\", \"felt\", \"action\", \"kept\", \"novel\", \"people\", \"pages\", \"work\", \"colleen\", \"hoover\", \"evelyn\", \"osage\", \"tate\", \"lily\", \"atlas\", \"naomi\", \"knox\", \"romance\", \"ryle\", \"monique\", \"hugo\", \"murders\", \"lucy\", \"grann\", \"indians\", \"cried\", \"oklahoma\", \"elizabeth\", \"native\", \"coho\", \"husbands\", \"nate\", \"tears\", \"novels\", \"heartbreaking\", \"zott\", \"harriet\", \"turner\", \"ending\", \"twists\", \"miles\", \"novel\", \"twist\", \"ugly\", \"finished\", \"loved\", \"kept\", \"sex\", \"hooked\", \"story\", \"characters\", \"read\", \"love\", \"felt\", \"put\", \"pages\", \"book\", \"page\", \"reading\", \"writing\", \"end\", \"books\", \"enjoyed\", \"written\", \"one\", \"really\", \"character\", \"like\", \"first\", \"good\", \"well\", \"author\", \"would\", \"much\", \"great\", \"could\", \"time\", \"little\", \"get\", \"way\", \"know\", \"many\", \"movie\", \"watch\", \"game\", \"film\", \"habits\", \"power\", \"movies\", \"laws\", \"acting\", \"advice\", \"owen\", \"bailey\", \"financial\", \"examples\", \"cars\", \"watched\", \"agreements\", \"habit\", \"spider\", \"grade\", \"48\", \"practical\", \"useful\", \"ideas\", \"actors\", \"greene\", \"furious\", \"animation\", \"dvd\", \"racing\", \"kids\", \"hannah\", \"money\", \"dad\", \"action\", \"play\", \"watching\", \"helpful\", \"waste\", \"version\", \"summer\", \"use\", \"trauma\", \"rich\", \"children\", \"work\", \"simple\", \"people\", \"world\", \"help\", \"life\", \"make\", \"family\", \"good\", \"great\", \"better\", \"like\", \"book\", \"one\", \"get\", \"would\", \"bad\", \"time\", \"even\", \"way\", \"also\", \"really\", \"much\", \"new\", \"see\", \"think\", \"many\", \"read\", \"well\", \"could\"], \"Freq\": [7507.0, 17732.0, 10883.0, 40817.0, 8015.0, 4225.0, 4993.0, 1989.0, 1637.0, 2701.0, 1450.0, 1427.0, 1436.0, 1329.0, 1726.0, 1696.0, 1009.0, 1000.0, 1499.0, 5655.0, 978.0, 2918.0, 1465.0, 2502.0, 932.0, 1675.0, 1384.0, 4065.0, 2538.0, 1960.0, 1726.0572348989992, 1696.4172589588602, 1140.3114518176935, 1128.4354700392228, 1025.753035748823, 957.5850043722916, 799.5483852585863, 673.109095165281, 666.1942291219096, 1497.941280011423, 498.29218523159466, 446.9224353573374, 420.2538279000884, 375.77819565812075, 336.3065009473388, 356.0050062781725, 317.47953493578393, 287.8846838858316, 276.0278391529351, 630.9031082941314, 290.78871191828193, 241.48731210834544, 242.44160240162688, 230.60936592218815, 274.92822545402703, 281.8009898943212, 240.40988875078475, 234.4794689764826, 196.03705261667753, 427.464719656495, 2670.193282742635, 1091.5153454707145, 1455.3942884441406, 1375.075740551073, 981.97260440632, 658.5729914798317, 1092.7130811525915, 4083.440598049969, 1634.8989820628608, 1122.2321378846693, 391.7382709383958, 10064.44081035264, 4714.714792883808, 15952.506465765313, 7272.915919041394, 2337.3530205968627, 2680.747688833199, 2346.1486619417356, 31888.24474840323, 1875.736920180529, 4860.939871741076, 2156.27371101071, 3035.2271212706464, 3877.8436315261442, 2317.3140919113166, 2369.821871005565, 6770.737219362635, 4662.873711851114, 2374.143433503428, 6387.344600849989, 3461.371743041961, 5672.913949433362, 3207.315092498058, 2903.527450692807, 4198.957358810973, 3462.3911215769303, 4198.501383323196, 2829.110824553557, 3195.7351076390974, 2446.220638391538, 2947.0865613493506, 2713.0033137238074, 2461.7739305397163, 2366.3572077864605, 7507.006488756522, 1637.2573458435784, 1450.2250690693816, 1329.1418650464816, 1009.0070142493774, 1426.982117812362, 999.9469066345962, 772.8811014409678, 639.7674473155615, 679.7255429101373, 685.7024709462729, 671.707895267949, 500.7085241403835, 500.6762202641756, 408.69058342335336, 469.63782312093684, 486.6221923612676, 324.6490459604435, 314.63911947067726, 394.53432616667334, 319.6105832139942, 305.6213721068578, 305.6202808398395, 503.3469358011516, 311.58440315326067, 265.6276178660789, 272.6140142313624, 260.5968968741063, 249.6120969755402, 273.5498918415868, 1429.387583613649, 975.4910711850371, 1964.4155738561235, 482.0684702353381, 922.1449054828961, 683.3999679622855, 769.7080506825563, 384.55242469146526, 745.0587582166918, 805.1437739616114, 630.8436933674301, 961.7064900488537, 874.8273565857486, 585.6207505524404, 921.5502722132561, 1545.307403367696, 649.078537060203, 2703.1461380788674, 1261.0416905691568, 1117.061475846016, 2684.7131754545294, 1891.2059089315899, 1262.7437212792004, 4131.802790142387, 3461.172213325176, 1671.0979496836292, 3840.3504326343764, 8929.488571185873, 3739.145114315501, 2439.592673012354, 2848.391802096251, 1383.6142525178816, 2318.7941636838414, 1923.3636757442014, 1856.2787603047568, 1623.7928058509674, 2048.2994302000398, 1857.5875293516392, 1336.0157971500937, 1463.370027225346, 1477.7613718312675, 1467.0261946970147, 1780.3596565845428, 1451.6192932090082, 1391.4879154711914], \"Total\": [7507.0, 17732.0, 10883.0, 40817.0, 8015.0, 4225.0, 4993.0, 1989.0, 1637.0, 2701.0, 1450.0, 1427.0, 1436.0, 1329.0, 1726.0, 1696.0, 1009.0, 1000.0, 1499.0, 5655.0, 978.0, 2918.0, 1465.0, 2502.0, 932.0, 1675.0, 1384.0, 4065.0, 2538.0, 1960.0, 1726.5702199032914, 1696.9382223236087, 1140.8426183542872, 1128.9900780621088, 1026.264920507806, 958.1112754266416, 800.0733952032124, 673.643220382684, 666.7290730104606, 1499.4029112689204, 498.81367172373393, 447.4514622328125, 420.78256901300995, 376.33477543162803, 336.82482054702695, 356.58028129029515, 318.05860034405293, 288.42601873328334, 276.57323075896534, 632.1676132470084, 291.38999465022073, 242.0020563986568, 242.99022593044828, 231.13711946261444, 275.5869420824457, 282.5016343567444, 241.0154805225382, 235.0891123869329, 196.56635649752897, 428.6934055386711, 2701.8644072843604, 1095.450222240428, 1465.935881449755, 1384.9327287749727, 987.8112521394667, 661.8251088489147, 1107.4409662572166, 4225.375445410757, 1675.7229750664505, 1145.0786926861758, 394.13758002783555, 10883.4699331694, 4993.6090412424255, 17732.866122349857, 8015.088425412825, 2502.0660306422087, 2918.8407507009015, 2538.9714504119997, 40817.733319589104, 2025.7896479475485, 5655.061594753525, 2409.3602128248394, 3534.5755813356895, 4744.304962347919, 2708.432604508064, 2791.7967403858333, 10509.882333678135, 6711.173142051154, 2909.8022250865615, 10227.695033484364, 4740.690485896059, 9804.71673957575, 4658.934385707066, 4090.568457160758, 7047.349160907224, 5319.97865092857, 7659.673596648372, 4220.598740024749, 5514.529271322939, 3335.0910871468473, 5386.679234361705, 4569.282074028564, 3646.051657431259, 3833.383402483475, 7507.894198771382, 1637.8444287374373, 1450.7479300215361, 1329.684693414193, 1009.518544630583, 1427.733007687333, 1000.5131521499372, 773.395671814058, 640.325880173856, 680.3458979750744, 686.3486861636065, 672.3415618436754, 501.2537048576971, 501.25329210525445, 409.20620321685675, 470.23687275148893, 487.2454081535575, 325.1625107204038, 315.157245582518, 395.1970130622753, 320.1594501222817, 306.1523943464464, 306.1523804031318, 504.2506262700268, 312.15500497065375, 266.13192092831565, 273.13534392594727, 261.12895924798136, 250.12350132655902, 274.1350384531359, 1436.6533726126356, 978.4704692269149, 1989.7078892968348, 483.2362778241978, 932.3529697420231, 690.2702132716169, 780.2692857285741, 386.1798426557375, 761.1873409225778, 853.8145664887622, 658.9788561277284, 1039.534013497258, 939.6502781154198, 613.9528851732999, 1039.0209302800363, 1960.647189211005, 691.8071554777576, 4065.4918558119425, 1614.270457285942, 1402.042889591707, 4422.8170020822845, 3048.613902429287, 1742.697969027799, 9804.71673957575, 7659.673596648372, 2684.289929296791, 10227.695033484364, 40817.733319589104, 10509.882333678135, 5386.679234361705, 7047.349160907224, 2110.6926509485934, 5514.529271322939, 4035.773702036136, 4569.282074028564, 3532.1512859069867, 6711.173142051154, 5319.97865092857, 2257.25723787641, 3003.6379003966313, 3498.6778431893326, 3833.383402483475, 17732.866122349857, 4658.934385707066, 4220.598740024749], \"Category\": [\"Default\", \"Default\", \"Default\", \"Default\", \"Default\", \"Default\", \"Default\", \"Default\", \"Default\", \"Default\", \"Default\", \"Default\", \"Default\", \"Default\", \"Default\", \"Default\", \"Default\", \"Default\", \"Default\", \"Default\", \"Default\", \"Default\", \"Default\", \"Default\", \"Default\", \"Default\", \"Default\", \"Default\", \"Default\", \"Default\", \"Topic1\", \"Topic1\", \"Topic1\", \"Topic1\", \"Topic1\", \"Topic1\", \"Topic1\", \"Topic1\", \"Topic1\", \"Topic1\", \"Topic1\", \"Topic1\", \"Topic1\", \"Topic1\", \"Topic1\", \"Topic1\", \"Topic1\", \"Topic1\", \"Topic1\", \"Topic1\", \"Topic1\", \"Topic1\", \"Topic1\", \"Topic1\", \"Topic1\", \"Topic1\", \"Topic1\", \"Topic1\", \"Topic1\", \"Topic1\", \"Topic1\", \"Topic1\", \"Topic1\", \"Topic1\", \"Topic1\", \"Topic1\", \"Topic1\", \"Topic1\", \"Topic1\", \"Topic1\", \"Topic1\", \"Topic1\", \"Topic1\", \"Topic1\", \"Topic1\", \"Topic1\", \"Topic1\", \"Topic1\", \"Topic1\", \"Topic1\", \"Topic1\", \"Topic1\", \"Topic1\", \"Topic1\", \"Topic1\", \"Topic1\", \"Topic1\", \"Topic1\", \"Topic1\", \"Topic1\", \"Topic1\", \"Topic1\", \"Topic1\", \"Topic1\", \"Topic1\", \"Topic1\", \"Topic1\", \"Topic1\", \"Topic1\", \"Topic1\", \"Topic1\", \"Topic1\", \"Topic1\", \"Topic1\", \"Topic2\", \"Topic2\", \"Topic2\", \"Topic2\", \"Topic2\", \"Topic2\", \"Topic2\", \"Topic2\", \"Topic2\", \"Topic2\", \"Topic2\", \"Topic2\", \"Topic2\", \"Topic2\", \"Topic2\", \"Topic2\", \"Topic2\", \"Topic2\", \"Topic2\", \"Topic2\", \"Topic2\", \"Topic2\", \"Topic2\", \"Topic2\", \"Topic2\", \"Topic2\", \"Topic2\", \"Topic2\", \"Topic2\", \"Topic2\", \"Topic2\", \"Topic2\", \"Topic2\", \"Topic2\", \"Topic2\", \"Topic2\", \"Topic2\", \"Topic2\", \"Topic2\", \"Topic2\", \"Topic2\", \"Topic2\", \"Topic2\", \"Topic2\", \"Topic2\", \"Topic2\", \"Topic2\", \"Topic2\", \"Topic2\", \"Topic2\", \"Topic2\", \"Topic2\", \"Topic2\", \"Topic2\", \"Topic2\", \"Topic2\", \"Topic2\", \"Topic2\", \"Topic2\", \"Topic2\", \"Topic2\", \"Topic2\", \"Topic2\", \"Topic2\", \"Topic2\", \"Topic2\", \"Topic2\", \"Topic2\", \"Topic2\", \"Topic2\", \"Topic2\", \"Topic2\", \"Topic2\", \"Topic2\", \"Topic2\"], \"logprob\": [30.0, 29.0, 28.0, 27.0, 26.0, 25.0, 24.0, 23.0, 22.0, 21.0, 20.0, 19.0, 18.0, 17.0, 16.0, 15.0, 14.0, 13.0, 12.0, 11.0, 10.0, 9.0, 8.0, 7.0, 6.0, 5.0, 4.0, 3.0, 2.0, 1.0, -5.944, -5.9613, -6.3585, -6.369, -6.4644, -6.5332, -6.7135, -6.8857, -6.896, -6.0857, -7.1864, -7.2952, -7.3567, -7.4686, -7.5795, -7.5226, -7.6372, -7.735, -7.7771, -6.9504, -7.725, -7.9108, -7.9068, -7.9568, -7.7811, -7.7564, -7.9152, -7.9402, -8.1193, -7.3397, -5.5077, -6.4022, -6.1145, -6.1713, -6.508, -6.9075, -6.4012, -5.0829, -5.9982, -6.3745, -7.427, -4.1808, -4.9391, -3.7202, -4.5057, -5.6408, -5.5037, -5.637, -3.0276, -5.8608, -4.9086, -5.7214, -5.3795, -5.1345, -5.6494, -5.627, -4.5772, -4.9502, -5.6252, -4.6355, -5.2482, -4.7541, -5.3244, -5.4239, -5.055, -5.2479, -5.0551, -5.4499, -5.328, -5.5953, -5.409, -5.4918, -5.5889, -5.6285, -4.2002, -5.723, -5.8443, -5.9315, -6.207, -5.8604, -6.2161, -6.4736, -6.6627, -6.6021, -6.5933, -6.6139, -6.9077, -6.9078, -7.1108, -6.9718, -6.9363, -7.341, -7.3723, -7.1461, -7.3567, -7.4014, -7.4014, -6.9025, -7.3821, -7.5417, -7.5157, -7.5608, -7.6039, -7.5123, -5.8588, -6.2408, -5.5408, -6.9457, -6.2971, -6.5967, -6.4778, -7.1717, -6.5103, -6.4327, -6.6767, -6.2551, -6.3497, -6.7511, -6.2977, -5.7808, -6.6482, -5.2216, -5.9841, -6.1053, -5.2284, -5.5788, -5.9827, -4.7973, -4.9744, -5.7025, -4.8704, -4.0267, -4.8972, -5.3242, -5.1693, -5.8913, -5.375, -5.5619, -5.5974, -5.7312, -5.499, -5.5967, -5.9263, -5.8353, -5.8255, -5.8328, -5.6392, -5.8433, -5.8856], \"loglift\": [30.0, 29.0, 28.0, 27.0, 26.0, 25.0, 24.0, 23.0, 22.0, 21.0, 20.0, 19.0, 18.0, 17.0, 16.0, 15.0, 14.0, 13.0, 12.0, 11.0, 10.0, 9.0, 8.0, 7.0, 6.0, 5.0, 4.0, 3.0, 2.0, 1.0, 0.5653, 0.5653, 0.5651, 0.5651, 0.5651, 0.565, 0.5649, 0.5648, 0.5648, 0.5646, 0.5645, 0.5644, 0.5643, 0.5641, 0.564, 0.564, 0.5638, 0.5637, 0.5636, 0.5636, 0.5635, 0.5635, 0.5633, 0.5633, 0.5632, 0.5631, 0.5631, 0.563, 0.5629, 0.5627, 0.5538, 0.562, 0.5584, 0.5584, 0.5597, 0.5607, 0.5522, 0.5314, 0.5409, 0.5454, 0.5595, 0.4873, 0.5081, 0.4598, 0.4684, 0.4975, 0.4805, 0.4866, 0.3187, 0.4886, 0.4143, 0.4546, 0.4133, 0.3639, 0.4096, 0.4017, 0.1259, 0.2014, 0.3621, 0.0948, 0.2511, 0.0184, 0.1922, 0.2228, 0.0478, 0.1361, -0.0357, 0.1656, 0.02, 0.2556, -0.0375, 0.0443, 0.1728, 0.0832, 0.8393, 0.839, 0.839, 0.839, 0.8389, 0.8389, 0.8388, 0.8387, 0.8385, 0.8385, 0.8385, 0.8385, 0.8383, 0.8382, 0.8381, 0.8381, 0.8381, 0.8378, 0.8377, 0.8377, 0.8377, 0.8377, 0.8377, 0.8376, 0.8376, 0.8375, 0.8375, 0.8374, 0.8373, 0.8373, 0.8343, 0.8363, 0.8266, 0.837, 0.8284, 0.8294, 0.8258, 0.8352, 0.818, 0.7807, 0.7958, 0.7616, 0.7679, 0.7921, 0.7194, 0.6013, 0.7756, 0.4313, 0.5924, 0.6122, 0.3402, 0.3619, 0.5172, -0.0248, 0.045, 0.3655, -0.1401, -0.6804, -0.1941, 0.0473, -0.0665, 0.4171, -0.0269, 0.0983, -0.0614, 0.0623, -0.3474, -0.2128, 0.3149, 0.1203, -0.0225, -0.1211, -1.4592, -0.3267, -0.2702]}, \"token.table\": {\"Topic\": [1, 2, 1, 2, 1, 2, 1, 2, 1, 2, 1, 2, 1, 2, 1, 2, 1, 2, 1, 2, 1, 2, 1, 2, 1, 2, 1, 2, 1, 2, 1, 2, 1, 2, 1, 2, 1, 2, 1, 2, 1, 2, 1, 2, 1, 2, 1, 2, 1, 2, 1, 2, 1, 2, 1, 2, 1, 2, 1, 2, 1, 2, 1, 2, 1, 2, 1, 2, 1, 2, 1, 2, 1, 2, 1, 2, 1, 2, 1, 2, 1, 2, 1, 2, 1, 2, 1, 2, 1, 2, 1, 2, 1, 2, 1, 2, 1, 2, 1, 2, 1, 2, 1, 2, 1, 2, 1, 2, 1, 2, 1, 2, 1, 2, 1, 2, 1, 2, 1, 2, 1, 2, 1, 2, 1, 2, 1, 2, 1, 2, 1, 2, 1, 2, 1, 2, 1, 2, 1, 2, 1, 2, 1, 2, 1, 2, 1, 2, 1, 2, 1, 2, 1, 2, 1, 2, 1, 2, 1, 2, 1, 2, 1, 2, 1, 2, 1, 2, 1, 2, 1, 2, 1, 2, 1, 2, 1, 2, 1, 2, 1, 2, 1, 2, 1, 2, 1, 2, 1, 2, 1, 2, 1, 2, 1, 2, 1, 2, 1, 2, 1, 2, 1, 2, 1, 2, 1, 2, 1, 2, 1, 2, 1, 2, 1, 2, 1, 2, 1, 2, 1, 2, 1, 2, 1, 2, 1, 2, 1, 2, 1, 2, 1, 2, 1, 2, 1, 2, 1, 2, 1, 2, 1, 2, 1, 2, 1, 2, 1, 2, 1, 2, 1, 2, 1, 2, 1, 2, 1, 2, 1, 2, 1, 2, 1, 2, 1, 2], \"Freq\": [0.0031234436454025015, 0.9995019665288005, 0.0015617047990134152, 0.9994910713685857, 0.010725551721862316, 0.9888958687557056, 0.003203536653509726, 0.9995034358950345, 0.0014698405663594325, 0.999491585124414, 0.002052353871921653, 0.9994963356258452, 0.5401807129872308, 0.4597764559178526, 0.003829525468488346, 0.9995061472754583, 0.9999082644121746, 0.0012498853305152183, 0.7099257793660422, 0.2901797176678692, 0.3444366945956199, 0.6557089206607124, 0.0014873392584236933, 0.999491981660722, 0.3773809933658611, 0.6225109969539525, 0.7812290739009856, 0.21875296038829342, 0.8174010799847083, 0.18253464034728142, 0.002443755720560412, 0.9994960897092083, 0.8158630093594686, 0.1842049591477149, 0.9442068774424706, 0.055871414381007276, 0.11260600878219675, 0.8873738469844906, 0.9958593062655381, 0.004132196291558249, 0.9996697383652757, 0.0005791829306867183, 0.6702840459985095, 0.32957409260654885, 0.9985229531817055, 0.0034670935874364776, 0.00206938105827353, 0.9974416700878413, 0.003998024954458034, 0.9995062386145084, 0.998153000529383, 0.0015818589548801634, 0.8586603766591677, 0.1411767802151317, 0.9882065113266039, 0.011843673543989259, 0.8554763357018588, 0.14436393925741337, 0.999261407015542, 0.0008765450938732825, 0.5233197289864022, 0.47648856005722134, 0.0019949993660889863, 0.999494682410582, 0.27543499133574945, 0.7247383209521908, 0.9340281077235036, 0.06594550182900218, 0.0007520579916072651, 0.9994850708460553, 0.0019949977233263425, 0.9994938593864975, 0.9869600577392199, 0.013544740042166787, 0.7300624266226107, 0.2697919224646978, 0.0036611885727653067, 0.9995044803649287, 0.0006892996221508689, 0.9994844521187598, 0.5470903077356164, 0.4529692402018677, 0.5785990713124335, 0.4214298189076283, 0.002530383497211351, 0.9995014813984835, 0.9983726489636628, 0.002804417553268716, 0.5481956831473012, 0.4518469300721147, 0.0037575349717982776, 0.9995043024983419, 0.003075385282837436, 0.9995002169221668, 0.0009905712037869832, 0.9994863446210661, 0.0030660097512909983, 0.9964531691695745, 0.997118751613346, 0.005087340569455846, 0.9957866585153096, 0.004149111077147123, 0.20327480857807115, 0.796694600637563, 0.005178934214292777, 0.9969448362513595, 0.9945765637783522, 0.00507437022335894, 0.99944710873309, 0.0005892966443001709, 0.9981402057246679, 0.0023765242993444473, 0.9959248322575258, 0.004115391868832751, 0.001983140819074558, 0.9975198319945028, 0.9966716814357234, 0.0031440747048445536, 0.9756982653622472, 0.024467051302661857, 0.004872434877781342, 0.9946727771927911, 0.6752509923939325, 0.3247348395590642, 0.9989064928469841, 0.0014998595988693455, 0.0012929992194738102, 0.9994883966532552, 0.39296222276023196, 0.6070791531134769, 0.6244808805004114, 0.37545116347605756, 0.9998838596001367, 0.0010437201039667399, 0.7334132520178153, 0.26655943624032613, 0.9074135697542721, 0.09257539787675924, 0.9663046639878138, 0.033606481088971234, 0.9975511883426899, 0.0029689023462580056, 0.37951673679571063, 0.6202818922045712, 0.6172093296139322, 0.3826906536532707, 0.9925400001540723, 0.007503738832779929, 0.012564658427742894, 0.9870795660834818, 0.9989910364119503, 0.0022348792760893744, 0.00013319313958415176, 0.9998808988582273, 0.0009994871110401353, 0.9994871110401352, 0.6507544911661871, 0.3492495218332686, 0.9991104318455714, 0.0026572085953339665, 0.9990451616475579, 0.0014844653219131616, 0.999406761393699, 0.004326436196509519, 0.9986616058980032, 0.003431826824391764, 0.4080172984034649, 0.5918687412237015, 0.9928280063221854, 0.007220567318706803, 0.998224313434906, 0.0035398025299110143, 0.9979273816291175, 0.0036156789189460783, 0.6442507903540304, 0.3557604054251543, 0.9991230409537273, 0.0008857473767320277, 0.0014569853780730159, 0.9994919693580889, 0.9260586368879368, 0.07404520017760688, 0.9239962109929648, 0.07601503355568721, 0.3350148145181777, 0.6648642023807888, 0.010140956201518064, 0.9894675836624054, 0.0007004110674865027, 0.9994865933032393, 0.0032663471475855447, 0.9995022271611766, 0.9185153384459948, 0.08153922064533635, 0.0036478372324920904, 0.9995074017028327, 0.8996289652180604, 0.10037858447239688, 0.8595839176198868, 0.1404051904114771, 0.694811458637891, 0.30516274228831236, 0.04560610541327852, 0.9544706347207577, 0.9990643533780169, 0.0006669321451121607, 0.9983687862425219, 0.002004756598880566, 0.5127116020864707, 0.48707602198214717, 0.979845321693973, 0.020085955792300693, 0.062156049788621326, 0.9381227049491917, 0.003173019227756161, 0.9995010567431907, 0.9247050859513185, 0.07525173543264406, 0.04248998240176135, 0.9575421034111218, 0.9997418595310897, 0.0009744072704981382, 0.9978702108379645, 0.0036286189485016888, 0.5776467827508498, 0.42244529683609894, 0.5795598940094623, 0.4205254675243877, 0.06917467223057201, 0.9311975107961616, 0.9960498446750231, 0.002332669425468438, 0.9941170419684122, 0.006074034879644067, 0.9968504071016832, 0.003651466692680158, 0.9957313362531254, 0.00453291958840573, 0.07503361985971779, 0.9254146449365194, 0.003266347296347105, 0.9995022726822141, 0.057389510466550386, 0.9428276719504706, 0.021019792552786815, 0.9787340907391361, 0.0006105585991282875, 0.9994844267730066, 0.002126587807010363, 0.9994962692948707, 0.01409769704023244, 0.9868387928162708, 0.5937475419651757, 0.40619072535472395, 0.6883548327786306, 0.3116592507622612, 0.21166480246096825, 0.7880051079570987, 0.21867463311785784, 0.7811578253870219, 0.5958268710868657, 0.4041235839141209, 0.894843364858346, 0.10500712954970387, 0.848915669868022, 0.15115713615371532, 0.9953672359562942, 0.00425370613656536], \"Term\": [\"48\", \"48\", \"acting\", \"acting\", \"action\", \"action\", \"actors\", \"actors\", \"advice\", \"advice\", \"agreements\", \"agreements\", \"also\", \"also\", \"animation\", \"animation\", \"atlas\", \"atlas\", \"author\", \"author\", \"bad\", \"bad\", \"bailey\", \"bailey\", \"better\", \"better\", \"book\", \"book\", \"books\", \"books\", \"cars\", \"cars\", \"character\", \"character\", \"characters\", \"characters\", \"children\", \"children\", \"coho\", \"coho\", \"colleen\", \"colleen\", \"could\", \"could\", \"cried\", \"cried\", \"dad\", \"dad\", \"dvd\", \"dvd\", \"elizabeth\", \"elizabeth\", \"end\", \"end\", \"ending\", \"ending\", \"enjoyed\", \"enjoyed\", \"evelyn\", \"evelyn\", \"even\", \"even\", \"examples\", \"examples\", \"family\", \"family\", \"felt\", \"felt\", \"film\", \"film\", \"financial\", \"financial\", \"finished\", \"finished\", \"first\", \"first\", \"furious\", \"furious\", \"game\", \"game\", \"get\", \"get\", \"good\", \"good\", \"grade\", \"grade\", \"grann\", \"grann\", \"great\", \"great\", \"greene\", \"greene\", \"habit\", \"habit\", \"habits\", \"habits\", \"hannah\", \"hannah\", \"harriet\", \"harriet\", \"heartbreaking\", \"heartbreaking\", \"help\", \"help\", \"helpful\", \"helpful\", \"hooked\", \"hooked\", \"hoover\", \"hoover\", \"hugo\", \"hugo\", \"husbands\", \"husbands\", \"ideas\", \"ideas\", \"indians\", \"indians\", \"kept\", \"kept\", \"kids\", \"kids\", \"know\", \"know\", \"knox\", \"knox\", \"laws\", \"laws\", \"life\", \"life\", \"like\", \"like\", \"lily\", \"lily\", \"little\", \"little\", \"love\", \"love\", \"loved\", \"loved\", \"lucy\", \"lucy\", \"make\", \"make\", \"many\", \"many\", \"miles\", \"miles\", \"money\", \"money\", \"monique\", \"monique\", \"movie\", \"movie\", \"movies\", \"movies\", \"much\", \"much\", \"murders\", \"murders\", \"naomi\", \"naomi\", \"nate\", \"nate\", \"native\", \"native\", \"new\", \"new\", \"novel\", \"novel\", \"novels\", \"novels\", \"oklahoma\", \"oklahoma\", \"one\", \"one\", \"osage\", \"osage\", \"owen\", \"owen\", \"page\", \"page\", \"pages\", \"pages\", \"people\", \"people\", \"play\", \"play\", \"power\", \"power\", \"practical\", \"practical\", \"put\", \"put\", \"racing\", \"racing\", \"read\", \"read\", \"reading\", \"reading\", \"really\", \"really\", \"rich\", \"rich\", \"romance\", \"romance\", \"ryle\", \"ryle\", \"see\", \"see\", \"sex\", \"sex\", \"simple\", \"simple\", \"spider\", \"spider\", \"story\", \"story\", \"summer\", \"summer\", \"tate\", \"tate\", \"tears\", \"tears\", \"think\", \"think\", \"time\", \"time\", \"trauma\", \"trauma\", \"turner\", \"turner\", \"twist\", \"twist\", \"twists\", \"twists\", \"ugly\", \"ugly\", \"use\", \"use\", \"useful\", \"useful\", \"version\", \"version\", \"waste\", \"waste\", \"watch\", \"watch\", \"watched\", \"watched\", \"watching\", \"watching\", \"way\", \"way\", \"well\", \"well\", \"work\", \"work\", \"world\", \"world\", \"would\", \"would\", \"writing\", \"writing\", \"written\", \"written\", \"zott\", \"zott\"]}, \"R\": 30, \"lambda.step\": 0.01, \"plot.opts\": {\"xlab\": \"PC1\", \"ylab\": \"PC2\"}, \"topic.order\": [1, 2]};\n",
       "\n",
       "function LDAvis_load_lib(url, callback){\n",
       "  var s = document.createElement('script');\n",
       "  s.src = url;\n",
       "  s.async = true;\n",
       "  s.onreadystatechange = s.onload = callback;\n",
       "  s.onerror = function(){console.warn(\"failed to load library \" + url);};\n",
       "  document.getElementsByTagName(\"head\")[0].appendChild(s);\n",
       "}\n",
       "\n",
       "if(typeof(LDAvis) !== \"undefined\"){\n",
       "   // already loaded: just create the visualization\n",
       "   !function(LDAvis){\n",
       "       new LDAvis(\"#\" + \"ldavis_el2421226951378846405557838863\", ldavis_el2421226951378846405557838863_data);\n",
       "   }(LDAvis);\n",
       "}else if(typeof define === \"function\" && define.amd){\n",
       "   // require.js is available: use it to load d3/LDAvis\n",
       "   require.config({paths: {d3: \"https://d3js.org/d3.v5\"}});\n",
       "   require([\"d3\"], function(d3){\n",
       "      window.d3 = d3;\n",
       "      LDAvis_load_lib(\"https://cdn.jsdelivr.net/gh/bmabey/pyLDAvis@3.4.0/pyLDAvis/js/ldavis.v3.0.0.js\", function(){\n",
       "        new LDAvis(\"#\" + \"ldavis_el2421226951378846405557838863\", ldavis_el2421226951378846405557838863_data);\n",
       "      });\n",
       "    });\n",
       "}else{\n",
       "    // require.js not available: dynamically load d3 & LDAvis\n",
       "    LDAvis_load_lib(\"https://d3js.org/d3.v5.js\", function(){\n",
       "         LDAvis_load_lib(\"https://cdn.jsdelivr.net/gh/bmabey/pyLDAvis@3.4.0/pyLDAvis/js/ldavis.v3.0.0.js\", function(){\n",
       "                 new LDAvis(\"#\" + \"ldavis_el2421226951378846405557838863\", ldavis_el2421226951378846405557838863_data);\n",
       "            })\n",
       "         });\n",
       "}\n",
       "</script>"
      ],
      "text/plain": [
       "<IPython.core.display.HTML object>"
      ]
     },
     "execution_count": 75,
     "metadata": {},
     "output_type": "execute_result"
    }
   ],
   "source": [
    "pyLDAvis.display(lda_display)"
   ]
  },
  {
   "attachments": {},
   "cell_type": "markdown",
   "metadata": {},
   "source": [
    "#### Comments\n",
    "Similar to the SVD the LDA had more leakage than the NMF model, with 'book' leaking into the movie topic. Although, this could potentially be explained by people comparing a movie based on a book to the book. An interesting word that appears in the book topic is characters. As books are more focused on characters, their development, and their perspectives, it makes sense that people would be more likely to discuss the characters in their reviews. The distance map shows that dimensionally the two groups are quite far apart. This adds up as the only real overlap is book, like, and good. Interestingly, the third media type, game did make it into the movie group. considering the visual aspect of both mediums, it does make sense they would be more closely aligned. \n"
   ]
  },
  {
   "attachments": {},
   "cell_type": "markdown",
   "metadata": {},
   "source": [
    "### Pickle Model For Topic Modeling"
   ]
  },
  {
   "cell_type": "code",
   "execution_count": 76,
   "metadata": {},
   "outputs": [],
   "source": [
    "# Saving the count vectorizer for the API\n",
    "with open('../models/count_vect.pkl', 'wb') as file:\n",
    "    pickle.dump(count, file)"
   ]
  },
  {
   "attachments": {},
   "cell_type": "markdown",
   "metadata": {},
   "source": [
    "## Future Enhancements"
   ]
  },
  {
   "attachments": {},
   "cell_type": "markdown",
   "metadata": {},
   "source": [
    "As the project has been limited to the top 50 games, books, and movies on Amazon, overall the project is limited by successful projects. If there were enough time to scrape more products to include more unsuccessful projects that had average ratings that were negative, there would be more natural balancing on the project. Additionally, it would provide more sentiment for products that are truly hated on average. \n",
    "\n",
    "If there were more products that had lower scores by average, the project could also attempt to classify the actual rating assigned to each review. With the immense bias for the 5 class, attempts at multiclass classification, even with downsampling, did struggle to make predictions. "
   ]
  }
 ],
 "metadata": {
  "kernelspec": {
   "display_name": "base",
   "language": "python",
   "name": "python3"
  },
  "language_info": {
   "codemirror_mode": {
    "name": "ipython",
    "version": 3
   },
   "file_extension": ".py",
   "mimetype": "text/x-python",
   "name": "python",
   "nbconvert_exporter": "python",
   "pygments_lexer": "ipython3",
   "version": "3.9.16"
  },
  "orig_nbformat": 4
 },
 "nbformat": 4,
 "nbformat_minor": 2
}
