{
 "cells": [
  {
   "cell_type": "markdown",
   "source": [
    "# EDA Notebook - Top 50 Amazon Product Reviews for Books, Games, and Movies"
   ],
   "metadata": {
    "collapsed": false
   }
  },
  {
   "cell_type": "code",
   "execution_count": 41,
   "metadata": {
    "collapsed": true,
    "ExecuteTime": {
     "end_time": "2023-06-18T18:44:24.333701Z",
     "start_time": "2023-06-18T18:44:24.295078Z"
    }
   },
   "outputs": [],
   "source": [
    "import os\n",
    "import pandas as pd\n",
    "import seaborn as sns\n",
    "import functions.token_functions as tf\n",
    "import functions.data_loading as dl"
   ]
  },
  {
   "cell_type": "markdown",
   "source": [
    "## Loading csv files"
   ],
   "metadata": {
    "collapsed": false
   }
  },
  {
   "cell_type": "code",
   "execution_count": 42,
   "outputs": [],
   "source": [
    "games_dir = '../data/games'\n",
    "books_dir = '../data/books'\n",
    "movies_dir = '../data/movies'"
   ],
   "metadata": {
    "collapsed": false,
    "ExecuteTime": {
     "end_time": "2023-06-18T18:44:24.355432Z",
     "start_time": "2023-06-18T18:44:24.337179Z"
    }
   }
  },
  {
   "cell_type": "code",
   "execution_count": 43,
   "outputs": [],
   "source": [
    "games_df = dl.read_csv_files(games_dir)\n",
    "books_df = dl.read_csv_files(books_dir)\n",
    "movies_df = dl.read_csv_files(movies_dir)"
   ],
   "metadata": {
    "collapsed": false,
    "ExecuteTime": {
     "end_time": "2023-06-18T18:44:25.327152Z",
     "start_time": "2023-06-18T18:44:24.358839Z"
    }
   }
  },
  {
   "cell_type": "code",
   "execution_count": 44,
   "outputs": [],
   "source": [
    "# Creates a combined dataframe if needed for analysis\n",
    "# Create an empty list to store the review dataframes\n",
    "df_list = []\n",
    "\n",
    "for root, dirs, files in os.walk('../data'):\n",
    "    for filename in files:\n",
    "        # Read the CSV file into a datadrame\n",
    "        df = pd.read_csv(os.path.join(root, filename), index_col=0)\n",
    "\n",
    "        # Append the dataframe to the list\n",
    "        df_list.append(df)\n",
    "\n",
    "# Combine the dataframes into a single dataframe\n",
    "combined_df = pd.concat(df_list, ignore_index=True)"
   ],
   "metadata": {
    "collapsed": false,
    "ExecuteTime": {
     "end_time": "2023-06-18T18:44:26.202919Z",
     "start_time": "2023-06-18T18:44:25.325640Z"
    }
   }
  },
  {
   "cell_type": "markdown",
   "source": [
    "## Games Data Exploration"
   ],
   "metadata": {
    "collapsed": false
   }
  },
  {
   "cell_type": "code",
   "execution_count": 45,
   "outputs": [
    {
     "data": {
      "text/plain": "name            0\ngame_title      0\nreview_title    0\nreview          3\nrating          0\ndate_place      0\ndtype: int64"
     },
     "execution_count": 45,
     "metadata": {},
     "output_type": "execute_result"
    }
   ],
   "source": [
    "games_df.isna().sum()"
   ],
   "metadata": {
    "collapsed": false,
    "ExecuteTime": {
     "end_time": "2023-06-18T18:44:26.210996Z",
     "start_time": "2023-06-18T18:44:26.204104Z"
    }
   }
  },
  {
   "cell_type": "code",
   "execution_count": 46,
   "outputs": [
    {
     "data": {
      "text/plain": "(1417, 6)"
     },
     "execution_count": 46,
     "metadata": {},
     "output_type": "execute_result"
    }
   ],
   "source": [
    "games_df = games_df.dropna()\n",
    "games_df.shape"
   ],
   "metadata": {
    "collapsed": false,
    "ExecuteTime": {
     "end_time": "2023-06-18T18:44:26.218827Z",
     "start_time": "2023-06-18T18:44:26.208323Z"
    }
   }
  },
  {
   "cell_type": "code",
   "execution_count": 47,
   "outputs": [
    {
     "data": {
      "text/plain": "             name                           game_title  \\\n0      Jesus Díaz  Just Dance 2022 (Xbox One/Series X)   \n1  Bill P Englert  Just Dance 2022 (Xbox One/Series X)   \n2               s  Just Dance 2022 (Xbox One/Series X)   \n\n               review_title  \\\n0            JUEGO ORIGINAL   \n1  Love this for the family   \n2                  Fun game   \n\n                                              review  rating  \\\n0  El juego viene sellado de fábrica. ¡Muy buena ...     5.0   \n1  Really enjoy Just Dance especially when doing ...     4.0   \n2  Nothing wrong with purchase but game itself do...     5.0   \n\n                                          date_place  \n0   Reviewed in the United States 🇺🇸 on June 1, 2023  \n1  Reviewed in the United States 🇺🇸 on December 1...  \n2  Reviewed in the United States 🇺🇸 on November 2...  ",
      "text/html": "<div>\n<style scoped>\n    .dataframe tbody tr th:only-of-type {\n        vertical-align: middle;\n    }\n\n    .dataframe tbody tr th {\n        vertical-align: top;\n    }\n\n    .dataframe thead th {\n        text-align: right;\n    }\n</style>\n<table border=\"1\" class=\"dataframe\">\n  <thead>\n    <tr style=\"text-align: right;\">\n      <th></th>\n      <th>name</th>\n      <th>game_title</th>\n      <th>review_title</th>\n      <th>review</th>\n      <th>rating</th>\n      <th>date_place</th>\n    </tr>\n  </thead>\n  <tbody>\n    <tr>\n      <th>0</th>\n      <td>Jesus Díaz</td>\n      <td>Just Dance 2022 (Xbox One/Series X)</td>\n      <td>JUEGO ORIGINAL</td>\n      <td>El juego viene sellado de fábrica. ¡Muy buena ...</td>\n      <td>5.0</td>\n      <td>Reviewed in the United States 🇺🇸 on June 1, 2023</td>\n    </tr>\n    <tr>\n      <th>1</th>\n      <td>Bill P Englert</td>\n      <td>Just Dance 2022 (Xbox One/Series X)</td>\n      <td>Love this for the family</td>\n      <td>Really enjoy Just Dance especially when doing ...</td>\n      <td>4.0</td>\n      <td>Reviewed in the United States 🇺🇸 on December 1...</td>\n    </tr>\n    <tr>\n      <th>2</th>\n      <td>s</td>\n      <td>Just Dance 2022 (Xbox One/Series X)</td>\n      <td>Fun game</td>\n      <td>Nothing wrong with purchase but game itself do...</td>\n      <td>5.0</td>\n      <td>Reviewed in the United States 🇺🇸 on November 2...</td>\n    </tr>\n  </tbody>\n</table>\n</div>"
     },
     "execution_count": 47,
     "metadata": {},
     "output_type": "execute_result"
    }
   ],
   "source": [
    "games_df.head(3)"
   ],
   "metadata": {
    "collapsed": false,
    "ExecuteTime": {
     "end_time": "2023-06-18T18:44:26.219273Z",
     "start_time": "2023-06-18T18:44:26.215465Z"
    }
   }
  },
  {
   "cell_type": "code",
   "execution_count": 48,
   "outputs": [
    {
     "data": {
      "text/plain": "array(['Just Dance 2022 (Xbox One/Series X)',\n       'Anno 1800 - Standard Edition, Xbox Series X',\n       'Saints Row Day 1 Edition - Xbox Series X',\n       'NBA 2K23 Michael Jordan Edition - Xbox [Digital Code]',\n       'EA SPORTS PGA Tour - Xbox Series X',\n       'MX vs ATV Legends for Xbox One and Xbox Series X',\n       'Star Wars Jedi: Survivor - Xbox Series X',\n       'Just Dance 2023 Edition - Code in box, Xbox Series X|S',\n       'Dying Light 2 Stay Human - Xbox Series X',\n       'Resident Evil 4 - Xbox Series X',\n       'Hogwarts Legacy: Digital Deluxe Edition - Xbox [Digital Code]',\n       'Forza Horizon 5: Premium Edition – Xbox & Windows [Digital Code]',\n       'Elden Ring - Xbox Series X',\n       'Street Fighter 6 Deluxe Edition - XBX',\n       'Dead Island 2: Day 1 Edition - Xbox Series X',\n       'Diablo IV - Ultimate Edition - Xbox [Digital Code]',\n       \"Five Nights at Freddy's: Security Breach (XSX)\",\n       'Minecraft Legends Deluxe Edition: Xbox Series X and Xbox One',\n       'Star Wars Jedi: Survivor XBOX X Video Game English EU Version Region Free',\n       'Star Wars Jedi: Survivor Standard - Xbox Series X|S [Digital Code]',\n       'Hogwarts Legacy - Xbox Series X | English | EU Import Region Free Version',\n       'Microsoft MLB The Show 22 for Xbox Series X',\n       'The Callisto Protocol Standard Edition - Xbox Series X',\n       'Resident Evil 4 - PS4', 'Grand Theft Auto V - Xbox Series X',\n       'Star Wars Jedi: Survivor Deluxe - Xbox Series X',\n       'Hogwarts Legacy: Standard Edition - Xbox Series X|S [Digital Code]',\n       \"Tiny Tina's Wonderlands: Chaotic Great - Xbox [Digital Code]\",\n       'Forza Horizon 5: Standard Edition – Xbox Series X & Xbox One',\n       'Microsoft Flight Simulator: Standard Edition – Xbox Series X',\n       \"Marvel's Guardians of the Galaxy - Xbox Series X/Xbox One\",\n       'Dead Space - Xbox Series X',\n       'LEGO Star Wars: Skywalker Saga (Galactic Edition) - For Xbox Series X',\n       'Forza Horizon 5: Standard Edition – Xbox & Windows [Digital Code]',\n       'Sonic Frontiers - Xbox Series X', 'Madden NFL 23 – Xbox Series X',\n       'NBA 2K23 Digital Deluxe Edition - Xbox [Digital Code]',\n       'Halo Infinite: Standard Edition – Xbox Series X & Xbox One',\n       'NBA 2K23 - Xbox Series X|S [Digital Code]'], dtype=object)"
     },
     "execution_count": 48,
     "metadata": {},
     "output_type": "execute_result"
    }
   ],
   "source": [
    "games_df['game_title'].unique()"
   ],
   "metadata": {
    "collapsed": false,
    "ExecuteTime": {
     "end_time": "2023-06-18T18:44:26.227387Z",
     "start_time": "2023-06-18T18:44:26.219674Z"
    }
   }
  },
  {
   "cell_type": "code",
   "execution_count": 49,
   "outputs": [
    {
     "data": {
      "text/plain": "lang\nen         1293\nes           35\nja           25\naf           10\nso            6\npt            6\nda            5\nfr            5\nit            4\nde            4\ntl            3\nunknown       3\nsl            3\net            3\nno            3\nid            2\nro            1\ntr            1\nca            1\nlt            1\nfi            1\nsw            1\nnl            1\nName: count, dtype: int64"
     },
     "execution_count": 49,
     "metadata": {},
     "output_type": "execute_result"
    }
   ],
   "source": [
    "# Investigate different languages that make up the review text\n",
    "games_df['lang'] = games_df['review'].apply(tf.detect_language)\n",
    "games_df['lang'].value_counts()"
   ],
   "metadata": {
    "collapsed": false,
    "ExecuteTime": {
     "end_time": "2023-06-18T18:44:31.539902Z",
     "start_time": "2023-06-18T18:44:26.231211Z"
    }
   }
  },
  {
   "cell_type": "code",
   "execution_count": 50,
   "outputs": [],
   "source": [
    "# drop non english reviews\n",
    "games_df = games_df.query('lang == \"en\"')"
   ],
   "metadata": {
    "collapsed": false,
    "ExecuteTime": {
     "end_time": "2023-06-18T18:44:31.544368Z",
     "start_time": "2023-06-18T18:44:31.542504Z"
    }
   }
  },
  {
   "cell_type": "code",
   "execution_count": 51,
   "outputs": [
    {
     "name": "stdout",
     "output_type": "stream",
     "text": [
      "There are 451582 tokens in the data.\n",
      "There are 132 unique tokens in the data.\n",
      "There are 451582 characters in the data.\n",
      "The lexical diversity is 0.000 in the data.\n",
      "[(' ', 82757), ('e', 41468), ('t', 31594), ('a', 28819), ('o', 26844)]\n"
     ]
    },
    {
     "data": {
      "text/plain": "[451582, 132, 0.0, 451582]"
     },
     "execution_count": 51,
     "metadata": {},
     "output_type": "execute_result"
    }
   ],
   "source": [
    "# Convert pandas series of reviews to a list in order to get stats on entire review text\n",
    "games_texts = games_df['review'].tolist()\n",
    "games_texts = \" \".join(games_texts)\n",
    "tf.descriptive_stats(games_texts)"
   ],
   "metadata": {
    "collapsed": false,
    "ExecuteTime": {
     "end_time": "2023-06-18T18:44:31.649569Z",
     "start_time": "2023-06-18T18:44:31.609040Z"
    }
   }
  },
  {
   "cell_type": "code",
   "execution_count": 71,
   "outputs": [
    {
     "data": {
      "text/plain": "<AxesSubplot:xlabel='rating', ylabel='count'>"
     },
     "execution_count": 71,
     "metadata": {},
     "output_type": "execute_result"
    },
    {
     "data": {
      "text/plain": "<Figure size 432x288 with 1 Axes>",
      "image/png": "[encoded data removed]"
     },
     "metadata": {},
     "output_type": "display_data"
    }
   ],
   "source": [
    "sns.countplot(x=games_df['rating'])"
   ],
   "metadata": {
    "collapsed": false,
    "ExecuteTime": {
     "end_time": "2023-06-18T18:53:34.998700Z",
     "start_time": "2023-06-18T18:53:34.915306Z"
    }
   }
  },
  {
   "cell_type": "markdown",
   "source": [
    "## Books Data Exploration"
   ],
   "metadata": {
    "collapsed": false
   }
  },
  {
   "cell_type": "code",
   "execution_count": 53,
   "outputs": [
    {
     "data": {
      "text/plain": "name              5\nmovie_title       0\nreview_title     10\nreview          186\nrating            0\ndate_place        0\ndtype: int64"
     },
     "execution_count": 53,
     "metadata": {},
     "output_type": "execute_result"
    }
   ],
   "source": [
    "books_df.isna().sum()"
   ],
   "metadata": {
    "collapsed": false,
    "ExecuteTime": {
     "end_time": "2023-06-18T18:44:31.692622Z",
     "start_time": "2023-06-18T18:44:31.670832Z"
    }
   }
  },
  {
   "cell_type": "code",
   "execution_count": 54,
   "outputs": [
    {
     "data": {
      "text/plain": "(104658, 6)"
     },
     "execution_count": 54,
     "metadata": {},
     "output_type": "execute_result"
    }
   ],
   "source": [
    "books_df = books_df.dropna()\n",
    "books_df.shape"
   ],
   "metadata": {
    "collapsed": false,
    "ExecuteTime": {
     "end_time": "2023-06-18T18:44:31.702540Z",
     "start_time": "2023-06-18T18:44:31.692321Z"
    }
   }
  },
  {
   "cell_type": "code",
   "execution_count": 55,
   "outputs": [
    {
     "data": {
      "text/plain": "           name                movie_title  \\\n0     MamaBear2  First Grade, Here I Come!   \n1  Donnie Noble  First Grade, Here I Come!   \n2         Sarah  First Grade, Here I Come!   \n\n                                    review_title  \\\n0                                      Cute Book   \n1                  Must for your new 1st grader.   \n2  Good book just to advance for a first grader.   \n\n                                              review  rating  \\\n0  Cute Book about going into 1st grade! I though...     4.0   \n1  I absolutely loved this book! It was cute, it ...     5.0   \n2  I like the book, good condition. Just overwhel...     4.0   \n\n                                      date_place  \n0  Reviewed in the United States on May 24, 2023  \n1  Reviewed in the United States on May 27, 2023  \n2  Reviewed in the United States on May 31, 2023  ",
      "text/html": "<div>\n<style scoped>\n    .dataframe tbody tr th:only-of-type {\n        vertical-align: middle;\n    }\n\n    .dataframe tbody tr th {\n        vertical-align: top;\n    }\n\n    .dataframe thead th {\n        text-align: right;\n    }\n</style>\n<table border=\"1\" class=\"dataframe\">\n  <thead>\n    <tr style=\"text-align: right;\">\n      <th></th>\n      <th>name</th>\n      <th>movie_title</th>\n      <th>review_title</th>\n      <th>review</th>\n      <th>rating</th>\n      <th>date_place</th>\n    </tr>\n  </thead>\n  <tbody>\n    <tr>\n      <th>0</th>\n      <td>MamaBear2</td>\n      <td>First Grade, Here I Come!</td>\n      <td>Cute Book</td>\n      <td>Cute Book about going into 1st grade! I though...</td>\n      <td>4.0</td>\n      <td>Reviewed in the United States on May 24, 2023</td>\n    </tr>\n    <tr>\n      <th>1</th>\n      <td>Donnie Noble</td>\n      <td>First Grade, Here I Come!</td>\n      <td>Must for your new 1st grader.</td>\n      <td>I absolutely loved this book! It was cute, it ...</td>\n      <td>5.0</td>\n      <td>Reviewed in the United States on May 27, 2023</td>\n    </tr>\n    <tr>\n      <th>2</th>\n      <td>Sarah</td>\n      <td>First Grade, Here I Come!</td>\n      <td>Good book just to advance for a first grader.</td>\n      <td>I like the book, good condition. Just overwhel...</td>\n      <td>4.0</td>\n      <td>Reviewed in the United States on May 31, 2023</td>\n    </tr>\n  </tbody>\n</table>\n</div>"
     },
     "execution_count": 55,
     "metadata": {},
     "output_type": "execute_result"
    }
   ],
   "source": [
    "books_df.head(3)"
   ],
   "metadata": {
    "collapsed": false,
    "ExecuteTime": {
     "end_time": "2023-06-18T18:44:31.716619Z",
     "start_time": "2023-06-18T18:44:31.706166Z"
    }
   }
  },
  {
   "cell_type": "code",
   "execution_count": 56,
   "outputs": [
    {
     "data": {
      "text/plain": "array(['First Grade, Here I Come!', 'The 48 Laws of Power',\n       'Haunting Adeline (Cat and Mouse Duet)',\n       \"The Covenant of Water (Oprah's Book Club)\",\n       'Read Me When You Need Me.', 'Ugly Love: A Novel',\n       'Demon Copperhead: A Pulitzer Prize Winner',\n       'If He Had Been with Me',\n       'Atomic Habits: An Easy & Proven Way to Build Good Habits & Break Bad Ones',\n       'I Love You to the Moon and Back',\n       'Things We Never Got Over (Knockemout)',\n       'Central Park West: A Crime Novel', \"Oh, the Places You'll Go!  \",\n       'It Ends with Us: A Novel (1)',\n       'Icebreaker: A Novel (The Maple Hills Series)',\n       'The Four Agreements: A Practical Guide to Personal Freedom (A Toltec Wisdom Book)',\n       'Taylor Swift: A Little Golden Book Biography',\n       'Rich Dad Poor Dad: What the Rich Teach Their Kids About Money That the Poor and Middle Class Do Not!',\n       'I Will Teach You to Be Rich: No Guilt. No Excuses. Just a 6-Week Program That Works (Second Edition)',\n       \"The Housemaid's Secret: A totally gripping psychological thriller with a shocking twist\",\n       'Outlive: The Science and Art of Longevity',\n       'The Wager: A Tale of Shipwreck, Mutiny and Murder',\n       \"Why a Daughter Needs a Dad: Celebrate Your Father Daughter Bond this Father's Day with this Special Picture Book!\",\n       'The Last Thing He Told Me: A Novel',\n       'Lessons in Chemistry: A Novel', 'Verity', 'Happy Place',\n       'Summer Bridge Activities 4th to 5th Grade Workbook, Math, Reading Comprehension, Writing, Science, Social Studies, Fitness Summer Learning Activities, 5th Grade Workbooks All Subjects With Flash Cards',\n       'Summer Bridge Activities 1st Grade Workbooks to 2nd Grade Workbooks, Math, Reading Comprehension, Writing, Science Summer Learning Activities, 2nd Grade Workbooks All Subjects With Flash Cards',\n       'It Starts with Us: A Novel (2) (It Ends with Us)',\n       'Summer Bridge Activities 5th to 6th Grade Workbooks, Math, Reading Comprehension, Writing, Science, Social Studies, Fitness Summer Learning, 6th Grade Workbooks All Subjects With Flash Cards',\n       'Killers of the Flower Moon: The Osage Murders and the Birth of the FBI',\n       'Brown Bear, Brown Bear, What Do You See?',\n       'The Seven Husbands of Evelyn Hugo: A Novel',\n       'Summer Bridge Activities 2nd to 3rd Grade Workbook, Math, Reading Comprehension, Writing, Science, Social Studies, Fitness Summer Learning Activities, 3rd Grade Workbooks All Subjects With Flash Cards',\n       'The Hill We Climb: An Inaugural Poem for the Country',\n       'Summer Bridge Activities 6th to 7th Grade Workbooks, Math, Reading Comprehension, Writing, Science, Social Studies, Fitness Summer Learning, 7th Grade Workbooks All Subjects With Flash Cards',\n       'The Creative Act: A Way of Being', 'Kindergarten, Here I Come!',\n       \"Why a Son Needs a Dad: Celebrate Your Father and Son Bond this Father's Day with this Heartwarming Gift!\",\n       'The Very Hungry Caterpillar',\n       'The Body Keeps the Score: Brain, Mind, and Body in the Healing of Trauma',\n       'Summer Bridge Activities 3rd to 4th Grade Workbook, Math, Reading Comprehension, Writing, Science, Social Studies, Fitness Summer Learning Activities, 4th Grade Workbooks All Subjects With Flash Cards',\n       'Fourth Wing (The Empyrean, 1)', 'The Housemaid',\n       'Summer Bridge Activities Kindergarten to 1st Grade Workbooks, Math, Reading Comprehension, Writing, Science, Fitness, Social Studies Summer Learning, 1st Grade Workbooks All Subjects With Flash Cards'],\n      dtype=object)"
     },
     "execution_count": 56,
     "metadata": {},
     "output_type": "execute_result"
    }
   ],
   "source": [
    "books_df['movie_title'].unique()"
   ],
   "metadata": {
    "collapsed": false,
    "ExecuteTime": {
     "end_time": "2023-06-18T18:44:31.771652Z",
     "start_time": "2023-06-18T18:44:31.712289Z"
    }
   }
  },
  {
   "cell_type": "code",
   "execution_count": 57,
   "outputs": [
    {
     "data": {
      "text/plain": "lang\nen         100020\naf            867\nes            486\nso            384\nde            338\nit            240\nfr            227\nro            226\nca            209\nsl            184\npt            171\nda            171\nja            153\ntl            138\nnl            137\nno            122\nunknown        98\ncy             84\net             80\nhu             48\nsk             46\nsv             46\npl             35\nsw             33\nfi             25\nvi             25\nsq             22\nid             19\nhr              8\ntr              7\nlt              5\ncs              3\nlv              1\nName: count, dtype: int64"
     },
     "execution_count": 57,
     "metadata": {},
     "output_type": "execute_result"
    }
   ],
   "source": [
    "# Investigate different languages that make up the review text\n",
    "books_df['lang'] = books_df['review'].apply(tf.detect_language)\n",
    "books_df['lang'].value_counts()"
   ],
   "metadata": {
    "collapsed": false,
    "ExecuteTime": {
     "end_time": "2023-06-18T18:50:02.688811Z",
     "start_time": "2023-06-18T18:44:31.723485Z"
    }
   }
  },
  {
   "cell_type": "code",
   "execution_count": 58,
   "outputs": [],
   "source": [
    "# drop non english reviews\n",
    "books_df = books_df.query('lang == \"en\"')"
   ],
   "metadata": {
    "collapsed": false,
    "ExecuteTime": {
     "end_time": "2023-06-18T18:50:02.702271Z",
     "start_time": "2023-06-18T18:50:02.689784Z"
    }
   }
  },
  {
   "cell_type": "code",
   "execution_count": 59,
   "outputs": [
    {
     "name": "stdout",
     "output_type": "stream",
     "text": [
      "There are 27539229 tokens in the data.\n",
      "There are 1060 unique tokens in the data.\n",
      "There are 27539229 characters in the data.\n",
      "The lexical diversity is 0.000 in the data.\n",
      "[(' ', 5028204), ('e', 2493481), ('t', 1967971), ('o', 1810772), ('a', 1650071)]\n"
     ]
    },
    {
     "data": {
      "text/plain": "[27539229, 1060, 0.0, 27539229]"
     },
     "execution_count": 59,
     "metadata": {},
     "output_type": "execute_result"
    }
   ],
   "source": [
    "# Convert pandas series of reviews to a list in order to get stats on entire review text\n",
    "books_texts = books_df['review'].tolist()\n",
    "books_texts = \" \".join(books_texts)\n",
    "tf.descriptive_stats(books_texts)"
   ],
   "metadata": {
    "collapsed": false,
    "ExecuteTime": {
     "end_time": "2023-06-18T18:50:08.849914Z",
     "start_time": "2023-06-18T18:50:03.381883Z"
    }
   }
  },
  {
   "cell_type": "code",
   "execution_count": 69,
   "outputs": [
    {
     "data": {
      "text/plain": "<AxesSubplot:xlabel='rating', ylabel='count'>"
     },
     "execution_count": 69,
     "metadata": {},
     "output_type": "execute_result"
    },
    {
     "data": {
      "text/plain": "<Figure size 432x288 with 1 Axes>",
      "image/png": "[encoded data removed]"
     },
     "metadata": {},
     "output_type": "display_data"
    }
   ],
   "source": [
    "sns.countplot(x=books_df['rating'])"
   ],
   "metadata": {
    "collapsed": false,
    "ExecuteTime": {
     "end_time": "2023-06-18T18:52:51.115869Z",
     "start_time": "2023-06-18T18:52:51.003254Z"
    }
   }
  },
  {
   "cell_type": "markdown",
   "source": [
    "## Movies Data Exploration"
   ],
   "metadata": {
    "collapsed": false
   }
  },
  {
   "cell_type": "code",
   "execution_count": 61,
   "outputs": [
    {
     "data": {
      "text/plain": "name             0\nmovie_title      0\nreview_title     9\nreview          12\nrating           0\ndate_place       0\ndtype: int64"
     },
     "execution_count": 61,
     "metadata": {},
     "output_type": "execute_result"
    }
   ],
   "source": [
    "movies_df.isna().sum()"
   ],
   "metadata": {
    "collapsed": false,
    "ExecuteTime": {
     "end_time": "2023-06-18T18:50:08.860052Z",
     "start_time": "2023-06-18T18:50:08.856647Z"
    }
   }
  },
  {
   "cell_type": "code",
   "execution_count": 62,
   "outputs": [
    {
     "data": {
      "text/plain": "(22871, 6)"
     },
     "execution_count": 62,
     "metadata": {},
     "output_type": "execute_result"
    }
   ],
   "source": [
    "movies_df = movies_df.dropna()\n",
    "movies_df.shape"
   ],
   "metadata": {
    "collapsed": false,
    "ExecuteTime": {
     "end_time": "2023-06-18T18:50:08.869787Z",
     "start_time": "2023-06-18T18:50:08.864999Z"
    }
   }
  },
  {
   "cell_type": "code",
   "execution_count": 63,
   "outputs": [
    {
     "data": {
      "text/plain": "                                           name         movie_title  \\\n0                          John's Horror Corner  Knock at the Cabin   \n1                                 Sue E. Ramsey  Knock at the Cabin   \n2  Tramaine Montell Ford ✪ (Tramaine Montell) 🎶  Knock at the Cabin   \n\n                                        review_title  \\\n0  Wonderful characters making heart-wrenching mo...   \n1                                         Different.   \n2  I don't care for the horror genre, but I loved...   \n\n                                              review  rating  \\\n0  I’ve always been a Shyamalan fan, and this is ...     4.0   \n1  This movie really makes you think about the \"w...     4.0   \n2  I watched this movie 4 times. 3 times alone, a...     5.0   \n\n                                          date_place  \n0  Reviewed in the United States 🇺🇸 on March 17, ...  \n1   Reviewed in the United States 🇺🇸 on May 24, 2023  \n2   Reviewed in the United States 🇺🇸 on May 18, 2023  ",
      "text/html": "<div>\n<style scoped>\n    .dataframe tbody tr th:only-of-type {\n        vertical-align: middle;\n    }\n\n    .dataframe tbody tr th {\n        vertical-align: top;\n    }\n\n    .dataframe thead th {\n        text-align: right;\n    }\n</style>\n<table border=\"1\" class=\"dataframe\">\n  <thead>\n    <tr style=\"text-align: right;\">\n      <th></th>\n      <th>name</th>\n      <th>movie_title</th>\n      <th>review_title</th>\n      <th>review</th>\n      <th>rating</th>\n      <th>date_place</th>\n    </tr>\n  </thead>\n  <tbody>\n    <tr>\n      <th>0</th>\n      <td>John's Horror Corner</td>\n      <td>Knock at the Cabin</td>\n      <td>Wonderful characters making heart-wrenching mo...</td>\n      <td>I’ve always been a Shyamalan fan, and this is ...</td>\n      <td>4.0</td>\n      <td>Reviewed in the United States 🇺🇸 on March 17, ...</td>\n    </tr>\n    <tr>\n      <th>1</th>\n      <td>Sue E. Ramsey</td>\n      <td>Knock at the Cabin</td>\n      <td>Different.</td>\n      <td>This movie really makes you think about the \"w...</td>\n      <td>4.0</td>\n      <td>Reviewed in the United States 🇺🇸 on May 24, 2023</td>\n    </tr>\n    <tr>\n      <th>2</th>\n      <td>Tramaine Montell Ford ✪ (Tramaine Montell) 🎶</td>\n      <td>Knock at the Cabin</td>\n      <td>I don't care for the horror genre, but I loved...</td>\n      <td>I watched this movie 4 times. 3 times alone, a...</td>\n      <td>5.0</td>\n      <td>Reviewed in the United States 🇺🇸 on May 18, 2023</td>\n    </tr>\n  </tbody>\n</table>\n</div>"
     },
     "execution_count": 63,
     "metadata": {},
     "output_type": "execute_result"
    }
   ],
   "source": [
    "movies_df.head(3)"
   ],
   "metadata": {
    "collapsed": false,
    "ExecuteTime": {
     "end_time": "2023-06-18T18:50:08.889182Z",
     "start_time": "2023-06-18T18:50:08.873857Z"
    }
   }
  },
  {
   "cell_type": "code",
   "execution_count": 64,
   "outputs": [
    {
     "data": {
      "text/plain": "array(['Knock at the Cabin', 'John Wick: Chapter 4 - Bonus X-Ray Edition',\n       'Avatar: The Way of Water', \"Magic Mike's Last Dance\",\n       'The Super Mario Bros. Movie', \"Guy Ritchie's The Covenant\",\n       'A Good Person', 'A Man Called Otto', 'The Croods: A New Age',\n       'Fifty Shades Darker', 'Reunion, Pt. 2',\n       'Operation Fortune: Ruse de Guerre',\n       'Puss in Boots: The Last Wish', 'The Ritual Killer',\n       'F9: The Fast Saga', \"The Pope's Exorcist\",\n       'Spider-Man: Into the Spider-Verse', 'The Whale',\n       '2 Fast 2 Furious', 'The Fast and the Furious', 'M3GAN',\n       'Cocaine Bear', 'Plane', 'Evil Dead Rise', 'John Wick: Chapter 4',\n       'Moving On', 'Shazam! Fury of the Gods', 'Champions', 'Sisu', 65,\n       'Renfield', '80 For Brady', 'Pitch Perfect 3', 'Scream VI',\n       'Love Again', 'Dungeons & Dragons: Honor Among Thieves',\n       'Jesus Revolution', 'Creed III'], dtype=object)"
     },
     "execution_count": 64,
     "metadata": {},
     "output_type": "execute_result"
    }
   ],
   "source": [
    "movies_df['movie_title'].unique()"
   ],
   "metadata": {
    "collapsed": false,
    "ExecuteTime": {
     "end_time": "2023-06-18T18:50:08.889626Z",
     "start_time": "2023-06-18T18:50:08.878601Z"
    }
   }
  },
  {
   "cell_type": "code",
   "execution_count": 65,
   "outputs": [
    {
     "data": {
      "text/plain": "lang\nen         19774\naf           662\nde           283\nro           235\nes           192\nso           190\nfr           157\nsk           143\nsl           126\nit           121\nno           115\nda           102\nca            98\nunknown       90\nnl            88\ncy            87\ntl            65\net            58\nsw            34\nhr            31\nhu            31\nja            30\npt            28\nid            27\nfi            19\npl            17\nsv            16\nvi            16\ntr            15\nsq             9\nlt             7\nlv             3\ncs             2\nName: count, dtype: int64"
     },
     "execution_count": 65,
     "metadata": {},
     "output_type": "execute_result"
    }
   ],
   "source": [
    "# Investigate different languages that make up the review text\n",
    "movies_df['lang'] = movies_df['review'].apply(tf.detect_language)\n",
    "movies_df['lang'].value_counts()"
   ],
   "metadata": {
    "collapsed": false,
    "ExecuteTime": {
     "end_time": "2023-06-18T18:51:42.306555Z",
     "start_time": "2023-06-18T18:50:08.881618Z"
    }
   }
  },
  {
   "cell_type": "code",
   "execution_count": 66,
   "outputs": [],
   "source": [
    "# drop non english reviews\n",
    "movies_df = movies_df.query('lang == \"en\"')"
   ],
   "metadata": {
    "collapsed": false,
    "ExecuteTime": {
     "end_time": "2023-06-18T18:51:42.309790Z",
     "start_time": "2023-06-18T18:51:42.306761Z"
    }
   }
  },
  {
   "cell_type": "code",
   "execution_count": 67,
   "outputs": [
    {
     "name": "stdout",
     "output_type": "stream",
     "text": [
      "There are 3444575 tokens in the data.\n",
      "There are 252 unique tokens in the data.\n",
      "There are 3444575 characters in the data.\n",
      "The lexical diversity is 0.000 in the data.\n",
      "[(' ', 629952), ('e', 313487), ('t', 248536), ('a', 210920), ('o', 205400)]\n"
     ]
    },
    {
     "data": {
      "text/plain": "[3444575, 252, 0.0, 3444575]"
     },
     "execution_count": 67,
     "metadata": {},
     "output_type": "execute_result"
    }
   ],
   "source": [
    "# Convert pandas series of reviews to a list in order to get stats on entire review text\n",
    "movies_texts = movies_df['review'].tolist()\n",
    "movies_texts = \" \".join(movies_texts)\n",
    "tf.descriptive_stats(movies_texts)"
   ],
   "metadata": {
    "collapsed": false,
    "ExecuteTime": {
     "end_time": "2023-06-18T18:51:43.097998Z",
     "start_time": "2023-06-18T18:51:42.461256Z"
    }
   }
  },
  {
   "cell_type": "code",
   "execution_count": 70,
   "outputs": [
    {
     "data": {
      "text/plain": "<AxesSubplot:xlabel='rating', ylabel='count'>"
     },
     "execution_count": 70,
     "metadata": {},
     "output_type": "execute_result"
    },
    {
     "data": {
      "text/plain": "<Figure size 432x288 with 1 Axes>",
      "image/png": "[encoded data removed]"
     },
     "metadata": {},
     "output_type": "display_data"
    }
   ],
   "source": [
    "sns.countplot(x=movies_df['rating'])"
   ],
   "metadata": {
    "collapsed": false,
    "ExecuteTime": {
     "end_time": "2023-06-18T18:53:15.918316Z",
     "start_time": "2023-06-18T18:53:15.832119Z"
    }
   }
  },
  {
   "cell_type": "markdown",
   "source": [],
   "metadata": {
    "collapsed": false
   }
  }
 ],
 "metadata": {
  "kernelspec": {
   "display_name": "Python 3",
   "language": "python",
   "name": "python3"
  },
  "language_info": {
   "codemirror_mode": {
    "name": "ipython",
    "version": 2
   },
   "file_extension": ".py",
   "mimetype": "text/x-python",
   "name": "python",
   "nbconvert_exporter": "python",
   "pygments_lexer": "ipython2",
   "version": "2.7.6"
  }
 },
 "nbformat": 4,
 "nbformat_minor": 0
}
