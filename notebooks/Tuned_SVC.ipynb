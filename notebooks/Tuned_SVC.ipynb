{
 "cells": [
  {
   "cell_type": "code",
   "execution_count": 118,
   "metadata": {
    "ExecuteTime": {
     "end_time": "2023-06-12T02:57:09.738060Z",
     "start_time": "2023-06-12T02:57:09.710653Z"
    }
   },
   "outputs": [],
   "source": [
    "import os\n",
    "import pandas as pd\n",
    "import seaborn as sns\n",
    "import matplotlib.pyplot as plt\n",
    "#import functions.token_functions as tf\n",
    "import spacy\n",
    "import pickle\n",
    "from sklearn.model_selection import train_test_split\n",
    "from sklearn.feature_extraction.text import TfidfVectorizer\n",
    "from sklearn.svm import LinearSVC\n",
    "from nltk.corpus import stopwords\n",
    "import string\n",
    "from langdetect import detect\n",
    "import re\n",
    "from sklearn.pipeline import Pipeline\n",
    "from sklearn.metrics import ConfusionMatrixDisplay\n",
    "from sklearn.model_selection import cross_val_score\n",
    "from sklearn.model_selection import GridSearchCV\n",
    "from sklearn.svm import SVC\n",
    "from sklearn.svm import LinearSVC\n",
    "from sklearn.metrics import accuracy_score\n",
    "from sklearn.metrics import confusion_matrix\n",
    "from sklearn.metrics import classification_report\n",
    "from sklearn.dummy import DummyClassifier\n",
    "from collections import Counter\n",
    "from wordcloud import WordCloud "
   ]
  },
  {
   "cell_type": "code",
   "execution_count": 19,
   "metadata": {
    "ExecuteTime": {
     "end_time": "2023-06-12T02:57:10.159974Z",
     "start_time": "2023-06-12T02:57:09.738361Z"
    }
   },
   "outputs": [],
   "source": [
    "nlp = spacy.load('en_core_web_sm')\n",
    "sw = stopwords.words(\"english\")"
   ]
  },
  {
   "cell_type": "code",
   "execution_count": 52,
   "metadata": {
    "ExecuteTime": {
     "end_time": "2023-06-12T02:57:10.224662Z",
     "start_time": "2023-06-12T02:57:10.162326Z"
    }
   },
   "outputs": [],
   "source": [
    "# Create an empty list to store the review dataframes\n",
    "df_list = []\n",
    "csv_files = os.listdir('../data/games',)\n",
    "\n",
    "# Iterate over each file in the folder\n",
    "for file in csv_files:\n",
    "    # Read the CSV file into a datadrame\n",
    "    df = pd.read_csv('../data/games/'+file, index_col=0)\n",
    "\n",
    "    # Append the dataframe to the list\n",
    "    df_list.append(df)\n",
    "\n",
    "# Combine the dataframes into a single dataframe\n",
    "games_df = pd.concat(df_list, ignore_index=True)\n"
   ]
  },
  {
   "cell_type": "code",
   "execution_count": 53,
   "metadata": {},
   "outputs": [
    {
     "data": {
      "text/html": [
       "<div>\n",
       "<style scoped>\n",
       "    .dataframe tbody tr th:only-of-type {\n",
       "        vertical-align: middle;\n",
       "    }\n",
       "\n",
       "    .dataframe tbody tr th {\n",
       "        vertical-align: top;\n",
       "    }\n",
       "\n",
       "    .dataframe thead th {\n",
       "        text-align: right;\n",
       "    }\n",
       "</style>\n",
       "<table border=\"1\" class=\"dataframe\">\n",
       "  <thead>\n",
       "    <tr style=\"text-align: right;\">\n",
       "      <th></th>\n",
       "      <th>name</th>\n",
       "      <th>game_title</th>\n",
       "      <th>review_title</th>\n",
       "      <th>review</th>\n",
       "      <th>rating</th>\n",
       "      <th>date_place</th>\n",
       "    </tr>\n",
       "  </thead>\n",
       "  <tbody>\n",
       "    <tr>\n",
       "      <th>0</th>\n",
       "      <td>Jesus Díaz</td>\n",
       "      <td>Just Dance 2022 (Xbox One/Series X)</td>\n",
       "      <td>JUEGO ORIGINAL</td>\n",
       "      <td>El juego viene sellado de fábrica. ¡Muy buena ...</td>\n",
       "      <td>5.0</td>\n",
       "      <td>Reviewed in the United States 🇺🇸 on June 1, 2023</td>\n",
       "    </tr>\n",
       "    <tr>\n",
       "      <th>1</th>\n",
       "      <td>Bill P Englert</td>\n",
       "      <td>Just Dance 2022 (Xbox One/Series X)</td>\n",
       "      <td>Love this for the family</td>\n",
       "      <td>Really enjoy Just Dance especially when doing ...</td>\n",
       "      <td>4.0</td>\n",
       "      <td>Reviewed in the United States 🇺🇸 on December 1...</td>\n",
       "    </tr>\n",
       "    <tr>\n",
       "      <th>2</th>\n",
       "      <td>s</td>\n",
       "      <td>Just Dance 2022 (Xbox One/Series X)</td>\n",
       "      <td>Fun game</td>\n",
       "      <td>Nothing wrong with purchase but game itself do...</td>\n",
       "      <td>5.0</td>\n",
       "      <td>Reviewed in the United States 🇺🇸 on November 2...</td>\n",
       "    </tr>\n",
       "    <tr>\n",
       "      <th>3</th>\n",
       "      <td>KrysnJonRodriguez</td>\n",
       "      <td>Just Dance 2022 (Xbox One/Series X)</td>\n",
       "      <td>Amazing graphics!</td>\n",
       "      <td>I’ve used Just Dance on WII previously, but th...</td>\n",
       "      <td>5.0</td>\n",
       "      <td>Reviewed in the United States 🇺🇸 on January 20...</td>\n",
       "    </tr>\n",
       "    <tr>\n",
       "      <th>4</th>\n",
       "      <td>Cody Jaylene Mosley</td>\n",
       "      <td>Just Dance 2022 (Xbox One/Series X)</td>\n",
       "      <td>Super fun</td>\n",
       "      <td>Whole family loves it!</td>\n",
       "      <td>5.0</td>\n",
       "      <td>Reviewed in the United States 🇺🇸 on January 15...</td>\n",
       "    </tr>\n",
       "  </tbody>\n",
       "</table>\n",
       "</div>"
      ],
      "text/plain": [
       "                  name                           game_title  \\\n",
       "0           Jesus Díaz  Just Dance 2022 (Xbox One/Series X)   \n",
       "1       Bill P Englert  Just Dance 2022 (Xbox One/Series X)   \n",
       "2                    s  Just Dance 2022 (Xbox One/Series X)   \n",
       "3    KrysnJonRodriguez  Just Dance 2022 (Xbox One/Series X)   \n",
       "4  Cody Jaylene Mosley  Just Dance 2022 (Xbox One/Series X)   \n",
       "\n",
       "               review_title  \\\n",
       "0            JUEGO ORIGINAL   \n",
       "1  Love this for the family   \n",
       "2                  Fun game   \n",
       "3         Amazing graphics!   \n",
       "4                 Super fun   \n",
       "\n",
       "                                              review  rating  \\\n",
       "0  El juego viene sellado de fábrica. ¡Muy buena ...     5.0   \n",
       "1  Really enjoy Just Dance especially when doing ...     4.0   \n",
       "2  Nothing wrong with purchase but game itself do...     5.0   \n",
       "3  I’ve used Just Dance on WII previously, but th...     5.0   \n",
       "4                             Whole family loves it!     5.0   \n",
       "\n",
       "                                          date_place  \n",
       "0   Reviewed in the United States 🇺🇸 on June 1, 2023  \n",
       "1  Reviewed in the United States 🇺🇸 on December 1...  \n",
       "2  Reviewed in the United States 🇺🇸 on November 2...  \n",
       "3  Reviewed in the United States 🇺🇸 on January 20...  \n",
       "4  Reviewed in the United States 🇺🇸 on January 15...  "
      ]
     },
     "execution_count": 53,
     "metadata": {},
     "output_type": "execute_result"
    }
   ],
   "source": [
    "games_df.head()"
   ]
  },
  {
   "cell_type": "code",
   "execution_count": 54,
   "metadata": {
    "ExecuteTime": {
     "end_time": "2023-06-12T02:57:15.387113Z",
     "start_time": "2023-06-12T02:57:10.226709Z"
    }
   },
   "outputs": [],
   "source": [
    "# drop values\n",
    "games_df = games_df.dropna()\n",
    "\n",
    "# drop non english reviews\n",
    "# games_df['lang'] = games_df['review'].apply(tf.detect_language)\n",
    "# games_df = games_df.query('lang == \"en\"')\n",
    "def detect_language(text):\n",
    "    if text.strip() == '':\n",
    "        return 'unknown'\n",
    "    try:\n",
    "        return detect(text)\n",
    "    except:\n",
    "        return 'unknown'\n",
    "games_df['lang'] = games_df['review'].apply(detect_language)\n",
    "\n",
    "games_df = games_df.query('lang == \"en\"')\n"
   ]
  },
  {
   "cell_type": "code",
   "execution_count": 114,
   "metadata": {
    "ExecuteTime": {
     "end_time": "2023-06-12T02:57:15.539208Z",
     "start_time": "2023-06-12T02:57:15.450267Z"
    }
   },
   "outputs": [],
   "source": [
    "# games_df['review_tokens'] = games_df['review'].apply(tf.clean_tokenize)\n",
    "# games_df['review_title_tokens'] = games_df['review_title'].apply(tf.clean_tokenize)\n",
    "\n",
    "punctuation = set(string.punctuation)\n",
    "negation_words = [\"not\", \"no\", \"never\", \"none\", \"nobody\", \"nothing\", \"nowhere\"]\n",
    "sw = set(stopwords.words('english')) - set(negation_words)\n",
    "# Function to clean and tokenize the lyrics\n",
    "def clean_tokenize(text):\n",
    "    if text is None:\n",
    "        return []\n",
    "    # Remove punctuation\n",
    "    clean_text = ''.join([c for c in text if c not in punctuation])\n",
    "    # Convert tokens to lowercase\n",
    "    clean_text = clean_text.lower()\n",
    "    # Tokenize the text\n",
    "    tokens = text.split()\n",
    "    # Remove stopwords\n",
    "    stop_words = sw\n",
    "    tokens = [token for token in tokens if token not in sw]\n",
    "    #Join tokens into a single string\n",
    "    string_tokens = ' '.join(tokens)\n",
    "    #return string_tokens\n",
    "    return tokens\n",
    "games_df['review_tokens'] = games_df['review'].apply(clean_tokenize)\n",
    "games_df['review_title_tokens'] = games_df['review_title'].apply(clean_tokenize)"
   ]
  },
  {
   "cell_type": "code",
   "execution_count": 115,
   "metadata": {
    "scrolled": true
   },
   "outputs": [
    {
     "name": "stdout",
     "output_type": "stream",
     "text": [
      "Number of tokens: 50339\n",
      "Number of unique tokens: 11741\n",
      "Number of characters: 271816\n",
      "Lexical diversity: 0.23323864200719124\n",
      "The most common tokens are:\n",
      "I: 1540\n",
      "game: 1372\n",
      "The: 539\n",
      "not: 514\n",
      "like: 350\n"
     ]
    }
   ],
   "source": [
    "def descriptive_stats(tokens, num_tokens=5, verbose=True):\n",
    "    \"\"\"\n",
    "    Given a list of tokens, print the number of tokens, number of unique tokens,\n",
    "    number of characters, lexical diversity, and num_tokens most common tokens.\n",
    "    Return a list of the num_tokens most common tokens.\n",
    "    \"\"\"\n",
    "    num_tokens = len(tokens)\n",
    "    num_unique_tokens = len(set(tokens))\n",
    "    num_characters = sum(len(token) for token in tokens)\n",
    "    lexical_diversity = num_unique_tokens / num_tokens\n",
    "\n",
    "    if verbose:\n",
    "        print(\"Number of tokens:\", num_tokens)\n",
    "        print(\"Number of unique tokens:\", num_unique_tokens)\n",
    "        print(\"Number of characters:\", num_characters)\n",
    "        print(\"Lexical diversity:\", lexical_diversity)\n",
    "        # Print the 5 most common tokens\n",
    "        common_tokens = Counter(tokens).most_common(num_tokens)\n",
    "        print(\"The most common tokens are:\")\n",
    "        for token, count in common_tokens[:5]: #print out 5 most common token\n",
    "            print(f\"{token}: {count}\")\n",
    "\n",
    "# calls descriptive_stats \n",
    "descriptive_stats(games_df['review_tokens'].explode())"
   ]
  },
  {
   "cell_type": "code",
   "execution_count": 112,
   "metadata": {},
   "outputs": [],
   "source": [
    "def wordcloud(word_freq, title=None, max_words=200, stopwords=None):\n",
    "\n",
    "#     wc = WordCloud(width=800, height=400, \n",
    "#                    background_color= \"black\", colormap=\"Paired\", \n",
    "#                    max_font_size=150, max_words=max_words)\n",
    "    #font_path = os.path.abspath('/Users/lamnguyen/Library/Group Containers/\\\n",
    "    #UBF8T346G9.Office/FontCache/4/CloudFonts/Libre Franklin/18949476423.ttf')\n",
    "  \n",
    "    wc = WordCloud(width=800, height=400, background_color=\"black\", \n",
    "                   colormap=\"Paired\", max_font_size=150, max_words=max_words)\n",
    "    \n",
    "    # convert data frame into dict\n",
    "    if type(word_freq) == pd.Series:\n",
    "        counter = Counter(word_freq.fillna(0).to_dict())\n",
    "    else:\n",
    "        counter = word_freq\n",
    "\n",
    "    # filter stop words in frequency counter\n",
    "    if stopwords is not None:\n",
    "        counter = {token:freq for (token, freq) in counter.items() \n",
    "                              if token not in stopwords}\n",
    "    wc.generate_from_frequencies(counter)\n",
    " \n",
    "    plt.title(title) \n",
    "\n",
    "    plt.imshow(wc, interpolation='bilinear')\n",
    "    plt.axis(\"off\")\n",
    "    \n",
    "    \n",
    "def count_words(df, column='tokens', preprocess=None, min_freq=2):\n",
    "\n",
    "    # process tokens and update counter\n",
    "    def update(doc):\n",
    "        tokens = doc if preprocess is None else preprocess(doc)\n",
    "        counter.update(tokens)\n",
    "\n",
    "    # create counter and run through all data\n",
    "    counter = Counter()\n",
    "    df[column].map(update)\n",
    "\n",
    "    # transform counter into data frame\n",
    "    freq_df = pd.DataFrame.from_dict(counter, orient='index', columns=['freq'])\n",
    "    freq_df = freq_df.query('freq >= @min_freq')\n",
    "    freq_df.index.name = 'token'\n",
    "    \n",
    "    return freq_df.sort_values('freq', ascending=False)"
   ]
  },
  {
   "cell_type": "code",
   "execution_count": 116,
   "metadata": {},
   "outputs": [
    {
     "data": {
      "image/png": "[encoded data removed]",
      "text/plain": [
       "<Figure size 432x288 with 1 Axes>"
      ]
     },
     "metadata": {
      "needs_background": "light"
     },
     "output_type": "display_data"
    }
   ],
   "source": [
    "#rtokens_lst = combined_data['rtokens'].explode().tolist()\n",
    "word_freq = count_words(games_df, column='review_tokens', min_freq=2)\n",
    "wordcloud(word_freq['freq'], title='Word Cloud', max_words=50)\n",
    "plt.show()"
   ]
  },
  {
   "cell_type": "code",
   "execution_count": 86,
   "metadata": {
    "ExecuteTime": {
     "end_time": "2023-06-12T02:57:15.544073Z",
     "start_time": "2023-06-12T02:57:15.539964Z"
    }
   },
   "outputs": [
    {
     "data": {
      "text/plain": [
       "rating\n",
       "1.0    355\n",
       "2.0     68\n",
       "3.0     81\n",
       "4.0    106\n",
       "5.0    677\n",
       "Name: review, dtype: int64"
      ]
     },
     "execution_count": 86,
     "metadata": {},
     "output_type": "execute_result"
    }
   ],
   "source": [
    "games_df.groupby(['rating'])['review'].count()"
   ]
  },
  {
   "cell_type": "code",
   "execution_count": 57,
   "metadata": {
    "ExecuteTime": {
     "end_time": "2023-06-12T02:57:15.548314Z",
     "start_time": "2023-06-12T02:57:15.546638Z"
    }
   },
   "outputs": [],
   "source": [
    "games_df['sentiment'] = 0\n",
    "games_df.loc[games_df['rating']>3, 'sentiment'] = 1\n",
    "games_df.loc[games_df['rating']<=3, 'sentiment'] = 0"
   ]
  },
  {
   "cell_type": "code",
   "execution_count": 58,
   "metadata": {
    "ExecuteTime": {
     "end_time": "2023-06-12T02:57:15.743882Z",
     "start_time": "2023-06-12T02:57:15.549714Z"
    }
   },
   "outputs": [
    {
     "data": {
      "text/plain": [
       "<AxesSubplot:xlabel='sentiment', ylabel='count'>"
      ]
     },
     "execution_count": 58,
     "metadata": {},
     "output_type": "execute_result"
    },
    {
     "data": {
      "image/png": "[encoded data removed]",
      "text/plain": [
       "<Figure size 432x288 with 1 Axes>"
      ]
     },
     "metadata": {
      "needs_background": "light"
     },
     "output_type": "display_data"
    }
   ],
   "source": [
    "sns.countplot(x=games_df['sentiment'])"
   ]
  },
  {
   "cell_type": "markdown",
   "metadata": {},
   "source": [
    "## Split Data"
   ]
  },
  {
   "cell_type": "code",
   "execution_count": 119,
   "metadata": {
    "ExecuteTime": {
     "end_time": "2023-06-12T02:57:15.746589Z",
     "start_time": "2023-06-12T02:57:15.744093Z"
    }
   },
   "outputs": [],
   "source": [
    "#high_low_df = games_df.query('rating == 1 | rating ==5')\n",
    "#high_low_df.shape"
   ]
  },
  {
   "cell_type": "code",
   "execution_count": 120,
   "metadata": {
    "ExecuteTime": {
     "end_time": "2023-06-12T02:57:15.748976Z",
     "start_time": "2023-06-12T02:57:15.746794Z"
    }
   },
   "outputs": [],
   "source": [
    "#X = high_low_df[['review_tokens', 'review_title_tokens']]\n",
    "#y = high_low_df['rating']"
   ]
  },
  {
   "cell_type": "code",
   "execution_count": 96,
   "metadata": {},
   "outputs": [],
   "source": [
    "stopwords_list = list(sw)\n",
    "\n",
    "# Data Preparation\n",
    "games_df['review'] = games_df['review'].apply(clean)\n",
    "\n",
    "# Train-Test Split\n",
    "X_train, X_test, Y_train, Y_test = train_test_split(games_df['review'],\n",
    "                                                    games_df['sentiment'],\n",
    "                                                    test_size=0.2,\n",
    "                                                    random_state=10,\n",
    "                                                    stratify= games_df['sentiment'])"
   ]
  },
  {
   "cell_type": "code",
   "execution_count": 97,
   "metadata": {
    "ExecuteTime": {
     "end_time": "2023-06-12T02:57:15.759840Z",
     "start_time": "2023-06-12T02:57:15.757105Z"
    },
    "scrolled": true
   },
   "outputs": [
    {
     "name": "stdout",
     "output_type": "stream",
     "text": [
      "Size of Training Data  1029\n",
      "Size of Test Data  258\n",
      "Distribution of classes in Training Data :\n",
      "Positive Sentiment  60.89494163424124\n",
      "Negative Sentiment  39.10505836575876\n",
      "Distribution of classes in Testing Data :\n",
      "Positive Sentiment  60.85271317829457\n",
      "Negative Sentiment  39.14728682170542\n"
     ]
    }
   ],
   "source": [
    "#tf.sentiment_stats(X_train, X_test, y_train, y_test)\n",
    "def sentiment_stats(x_train,x_test, y_train, y_test):\n",
    "    print ('Size of Training Data ', x_train.shape[0])\n",
    "    print ('Size of Test Data ', x_test.shape[0])\n",
    "    print ('Distribution of classes in Training Data :')\n",
    "    print ('Positive Sentiment ', str(sum(y_train == 1)/ len(y_train) * 100.0))\n",
    "    print ('Negative Sentiment ', str(sum(y_train == 0)/ len(y_train) * 100.0))\n",
    "    print ('Distribution of classes in Testing Data :')\n",
    "    print ('Positive Sentiment ', str(sum(y_test == 1)/ len(y_test) * 100.0))\n",
    "    print ('Negative Sentiment ', str(sum(y_test == 0)/ len(y_test) * 100.0))\n",
    "sentiment_stats(X_train, X_test, y_train, y_test)"
   ]
  },
  {
   "cell_type": "code",
   "execution_count": 61,
   "metadata": {},
   "outputs": [],
   "source": [
    "def clean(text):\n",
    "    # convert html escapes like &amp; to characters.\n",
    "    #text = html.unescape(text) \n",
    "    # tags like <tab>\n",
    "    text = re.sub(r'<[^<>]*>', ' ', text)\n",
    "    # markdown URLs like [Some text](https://....)\n",
    "    text = re.sub(r'\\[([^\\[\\]]*)\\]\\([^\\(\\)]*\\)', r'\\1', text)\n",
    "    # text or code in brackets like [0]\n",
    "    text = re.sub(r'\\[[^\\[\\]]*\\]', ' ', text)\n",
    "    # standalone sequences of specials, matches &# but not #cool\n",
    "    text = re.sub(r'(?:^|\\s)[&#<>{}\\[\\]+|\\\\:-]{1,}(?:\\s|$)', ' ', text)\n",
    "    # standalone sequences of hyphens like --- or ==\n",
    "    text = re.sub(r'(?:^|\\s)[\\-=\\+]{2,}(?:\\s|$)', ' ', text)\n",
    "    # sequences of white spaces\n",
    "    text = re.sub(r'\\s+', ' ', text)\n",
    "    return text.strip()"
   ]
  },
  {
   "cell_type": "code",
   "execution_count": 78,
   "metadata": {},
   "outputs": [
    {
     "name": "stdout",
     "output_type": "stream",
     "text": [
      "Size of Training Data  1029\n",
      "Size of Test Data  258\n",
      "Best alpha parameter identified by grid search  {'model__C': 1, 'model__kernel': 'linear', 'tfidf__min_df': 5, 'tfidf__ngram_range': (1, 3)}\n",
      "Best result identified by grid search  0.8153729576130713\n",
      "Accuracy Score -  0.8410852713178295\n",
      "              precision    recall  f1-score   support\n",
      "\n",
      "           0       0.86      0.71      0.78       101\n",
      "           1       0.83      0.92      0.88       157\n",
      "\n",
      "    accuracy                           0.84       258\n",
      "   macro avg       0.85      0.82      0.83       258\n",
      "weighted avg       0.84      0.84      0.84       258\n",
      "\n"
     ]
    }
   ],
   "source": [
    "\n",
    "# Training the Machine Learning model\n",
    "tfidf = TfidfVectorizer(stop_words=stopwords_list)\n",
    "\n",
    "\n",
    "model = SVC(random_state=42, probability=True)\n",
    "grid_param = {'tfidf__min_df': [5, 10],\n",
    "              'tfidf__ngram_range': [(1, 3), (1, 6)], \n",
    "              'model__C': [1, 100], \n",
    "              'model__kernel': ['linear']\n",
    "             }\n",
    "\n",
    "training_pipeline = Pipeline(\n",
    "    steps=[('tfidf', TfidfVectorizer(stop_words=stopwords_list)), ('model', model)])\n",
    "\n",
    "gridSearchProcessor = GridSearchCV(estimator=training_pipeline, \n",
    "                                   param_grid=grid_param, \n",
    "                                   cv=5)\n",
    "\n",
    "gridSearchProcessor.fit(X_train, Y_train)\n",
    "\n",
    "best_params = gridSearchProcessor.best_params_\n",
    "print(\"Best alpha parameter identified by grid search \", best_params)\n",
    "\n",
    "best_result = gridSearchProcessor.best_score_\n",
    "print(\"Best result identified by grid search \", best_result)\n",
    "\n",
    "best_model = gridSearchProcessor.best_estimator_\n",
    "\n",
    "# Model Evaluation\n",
    "\n",
    "Y_pred = best_model.predict(X_test)\n",
    "print('Accuracy Score - ', accuracy_score(Y_test, Y_pred))\n",
    "print(classification_report(Y_test, Y_pred))"
   ]
  },
  {
   "cell_type": "code",
   "execution_count": 84,
   "metadata": {
    "scrolled": false
   },
   "outputs": [
    {
     "data": {
      "text/html": [
       "<div>\n",
       "<style scoped>\n",
       "    .dataframe tbody tr th:only-of-type {\n",
       "        vertical-align: middle;\n",
       "    }\n",
       "\n",
       "    .dataframe tbody tr th {\n",
       "        vertical-align: top;\n",
       "    }\n",
       "\n",
       "    .dataframe thead th {\n",
       "        text-align: right;\n",
       "    }\n",
       "</style>\n",
       "<table border=\"1\" class=\"dataframe\">\n",
       "  <thead>\n",
       "    <tr style=\"text-align: right;\">\n",
       "      <th></th>\n",
       "      <th>text</th>\n",
       "      <th>actual</th>\n",
       "      <th>predicted</th>\n",
       "    </tr>\n",
       "  </thead>\n",
       "  <tbody>\n",
       "    <tr>\n",
       "      <th>546</th>\n",
       "      <td>Played on Xbox One X, and it runs perfectly. T...</td>\n",
       "      <td>1</td>\n",
       "      <td>1</td>\n",
       "    </tr>\n",
       "    <tr>\n",
       "      <th>445</th>\n",
       "      <td>George R. R. Martin and Miyazaki produced a ga...</td>\n",
       "      <td>1</td>\n",
       "      <td>1</td>\n",
       "    </tr>\n",
       "    <tr>\n",
       "      <th>1291</th>\n",
       "      <td>10/10 this game is absolutely amazing 👏 well d...</td>\n",
       "      <td>1</td>\n",
       "      <td>1</td>\n",
       "    </tr>\n",
       "    <tr>\n",
       "      <th>606</th>\n",
       "      <td>i didnt even get a digital code with my xbox.</td>\n",
       "      <td>0</td>\n",
       "      <td>0</td>\n",
       "    </tr>\n",
       "    <tr>\n",
       "      <th>864</th>\n",
       "      <td>Couldn't ask for any better, thank you</td>\n",
       "      <td>1</td>\n",
       "      <td>1</td>\n",
       "    </tr>\n",
       "    <tr>\n",
       "      <th>1048</th>\n",
       "      <td>A Great game for single player mode, despite l...</td>\n",
       "      <td>1</td>\n",
       "      <td>1</td>\n",
       "    </tr>\n",
       "    <tr>\n",
       "      <th>1347</th>\n",
       "      <td>I really enjoyed 343s latest Halo game, it fel...</td>\n",
       "      <td>1</td>\n",
       "      <td>1</td>\n",
       "    </tr>\n",
       "    <tr>\n",
       "      <th>930</th>\n",
       "      <td>Love this game and so happy Microsoft made it ...</td>\n",
       "      <td>1</td>\n",
       "      <td>1</td>\n",
       "    </tr>\n",
       "    <tr>\n",
       "      <th>167</th>\n",
       "      <td>You have to use your phone to play. Our young ...</td>\n",
       "      <td>0</td>\n",
       "      <td>0</td>\n",
       "    </tr>\n",
       "    <tr>\n",
       "      <th>320</th>\n",
       "      <td>What the crap? I boy the $80 digital deluxe ad...</td>\n",
       "      <td>0</td>\n",
       "      <td>0</td>\n",
       "    </tr>\n",
       "    <tr>\n",
       "      <th>1202</th>\n",
       "      <td>It work great.</td>\n",
       "      <td>1</td>\n",
       "      <td>1</td>\n",
       "    </tr>\n",
       "    <tr>\n",
       "      <th>80</th>\n",
       "      <td>They should have just left the franchise dead....</td>\n",
       "      <td>0</td>\n",
       "      <td>0</td>\n",
       "    </tr>\n",
       "    <tr>\n",
       "      <th>33</th>\n",
       "      <td>I am a lifelong gamer, I adore games ranging f...</td>\n",
       "      <td>1</td>\n",
       "      <td>1</td>\n",
       "    </tr>\n",
       "    <tr>\n",
       "      <th>1156</th>\n",
       "      <td>I felt for an open world game, the campaign wa...</td>\n",
       "      <td>1</td>\n",
       "      <td>1</td>\n",
       "    </tr>\n",
       "    <tr>\n",
       "      <th>1253</th>\n",
       "      <td>This game is still unfinished.</td>\n",
       "      <td>0</td>\n",
       "      <td>1</td>\n",
       "    </tr>\n",
       "    <tr>\n",
       "      <th>1</th>\n",
       "      <td>Really enjoy Just Dance especially when doing ...</td>\n",
       "      <td>1</td>\n",
       "      <td>1</td>\n",
       "    </tr>\n",
       "    <tr>\n",
       "      <th>653</th>\n",
       "      <td>The game itself so far is incredible. The ship...</td>\n",
       "      <td>1</td>\n",
       "      <td>1</td>\n",
       "    </tr>\n",
       "    <tr>\n",
       "      <th>592</th>\n",
       "      <td>Minecraft Legends, the latest installment in t...</td>\n",
       "      <td>1</td>\n",
       "      <td>1</td>\n",
       "    </tr>\n",
       "    <tr>\n",
       "      <th>517</th>\n",
       "      <td>FromSoft makes notoriously hard games if it’s ...</td>\n",
       "      <td>1</td>\n",
       "      <td>0</td>\n",
       "    </tr>\n",
       "    <tr>\n",
       "      <th>497</th>\n",
       "      <td>If you haven't played the other games and know...</td>\n",
       "      <td>0</td>\n",
       "      <td>1</td>\n",
       "    </tr>\n",
       "  </tbody>\n",
       "</table>\n",
       "</div>"
      ],
      "text/plain": [
       "                                                   text  actual  predicted\n",
       "546   Played on Xbox One X, and it runs perfectly. T...       1          1\n",
       "445   George R. R. Martin and Miyazaki produced a ga...       1          1\n",
       "1291  10/10 this game is absolutely amazing 👏 well d...       1          1\n",
       "606       i didnt even get a digital code with my xbox.       0          0\n",
       "864              Couldn't ask for any better, thank you       1          1\n",
       "1048  A Great game for single player mode, despite l...       1          1\n",
       "1347  I really enjoyed 343s latest Halo game, it fel...       1          1\n",
       "930   Love this game and so happy Microsoft made it ...       1          1\n",
       "167   You have to use your phone to play. Our young ...       0          0\n",
       "320   What the crap? I boy the $80 digital deluxe ad...       0          0\n",
       "1202                                     It work great.       1          1\n",
       "80    They should have just left the franchise dead....       0          0\n",
       "33    I am a lifelong gamer, I adore games ranging f...       1          1\n",
       "1156  I felt for an open world game, the campaign wa...       1          1\n",
       "1253                     This game is still unfinished.       0          1\n",
       "1     Really enjoy Just Dance especially when doing ...       1          1\n",
       "653   The game itself so far is incredible. The ship...       1          1\n",
       "592   Minecraft Legends, the latest installment in t...       1          1\n",
       "517   FromSoft makes notoriously hard games if it’s ...       1          0\n",
       "497   If you haven't played the other games and know...       0          1"
      ]
     },
     "execution_count": 84,
     "metadata": {},
     "output_type": "execute_result"
    }
   ],
   "source": [
    "#compare result of prediction on test set to actual value\n",
    "frame = { 'text': X_test, 'actual': Y_test, 'predicted': Y_pred } \n",
    "result = pd.DataFrame(frame)\n",
    "result.head(20)"
   ]
  },
  {
   "cell_type": "markdown",
   "metadata": {},
   "source": [
    "## Baseline"
   ]
  },
  {
   "cell_type": "code",
   "execution_count": 81,
   "metadata": {},
   "outputs": [
    {
     "name": "stdout",
     "output_type": "stream",
     "text": [
      "Accuracy Score -  0.6085271317829457\n"
     ]
    }
   ],
   "source": [
    "clf = DummyClassifier(strategy='most_frequent', random_state=21)\n",
    "clf.fit(X_train, Y_train)\n",
    "Y_pred_baseline = clf.predict(X_test)\n",
    "print ('Accuracy Score - ', accuracy_score(Y_test, Y_pred_baseline))"
   ]
  },
  {
   "cell_type": "code",
   "execution_count": null,
   "metadata": {},
   "outputs": [],
   "source": []
  },
  {
   "cell_type": "markdown",
   "metadata": {},
   "source": [
    "## Pickle Models"
   ]
  },
  {
   "cell_type": "code",
   "execution_count": 128,
   "metadata": {
    "ExecuteTime": {
     "end_time": "2023-06-12T02:57:15.855544Z",
     "start_time": "2023-06-12T02:57:15.836376Z"
    }
   },
   "outputs": [],
   "source": [
    "# with open('../models/svc_model.pkl', 'wb') as file:\n",
    "#     pickle.dump(svc_model, file)\n",
    "\n",
    "# with open('../models/tfidf.pkl', 'wb') as file:\n",
    "#     pickle.dump(tfidf, file)"
   ]
  }
 ],
 "metadata": {
  "kernelspec": {
   "display_name": "Python 3 (ipykernel)",
   "language": "python",
   "name": "python3"
  },
  "language_info": {
   "codemirror_mode": {
    "name": "ipython",
    "version": 3
   },
   "file_extension": ".py",
   "mimetype": "text/x-python",
   "name": "python",
   "nbconvert_exporter": "python",
   "pygments_lexer": "ipython3",
   "version": "3.9.7"
  }
 },
 "nbformat": 4,
 "nbformat_minor": 1
}
